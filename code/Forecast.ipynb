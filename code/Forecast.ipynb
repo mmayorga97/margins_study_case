{
 "cells": [
  {
   "cell_type": "markdown",
   "metadata": {
    "application/vnd.databricks.v1+cell": {
     "cellMetadata": {
      "byteLimit": 2048000,
      "rowLimit": 10000
     },
     "inputWidgets": {},
     "nuid": "b713d11d-3b47-4b0e-9af8-0e75366fac9d",
     "showTitle": false,
     "title": ""
    }
   },
   "source": [
    "# Forecasting\n",
    "\n",
    "Using the data from the region_margins, follow a pycaret  time-series experiment for Margin Forecasting."
   ]
  },
  {
   "cell_type": "code",
   "execution_count": 0,
   "metadata": {
    "application/vnd.databricks.v1+cell": {
     "cellMetadata": {
      "byteLimit": 2048000,
      "rowLimit": 10000
     },
     "inputWidgets": {},
     "nuid": "3a74d28d-3fa9-4ccf-8e8b-ab33841bce3f",
     "showTitle": false,
     "title": ""
    }
   },
   "outputs": [
    {
     "output_type": "stream",
     "name": "stdout",
     "output_type": "stream",
     "text": [
      "\u001B[43mNote: you may need to restart the kernel using dbutils.library.restartPython() to use updated packages.\u001B[0m\nRequirement already satisfied: pycaret[full] in /local_disk0/.ephemeral_nfs/envs/pythonEnv-e092513e-5ace-47f7-b6ac-26c8bdf2c80d/lib/python3.10/site-packages (3.1.0)\nRequirement already satisfied: ipywidgets>=7.6.5 in /databricks/python3/lib/python3.10/site-packages (from pycaret[full]) (7.7.2)\nRequirement already satisfied: cloudpickle in /local_disk0/.ephemeral_nfs/envs/pythonEnv-e092513e-5ace-47f7-b6ac-26c8bdf2c80d/lib/python3.10/site-packages (from pycaret[full]) (2.2.1)\nRequirement already satisfied: category-encoders>=2.4.0 in /local_disk0/.ephemeral_nfs/envs/pythonEnv-e092513e-5ace-47f7-b6ac-26c8bdf2c80d/lib/python3.10/site-packages (from pycaret[full]) (2.6.2)\nRequirement already satisfied: joblib>=1.2.0 in /databricks/python3/lib/python3.10/site-packages (from pycaret[full]) (1.2.0)\nRequirement already satisfied: tqdm>=4.62.0 in /local_disk0/.ephemeral_nfs/envs/pythonEnv-e092513e-5ace-47f7-b6ac-26c8bdf2c80d/lib/python3.10/site-packages (from pycaret[full]) (4.66.1)\nRequirement already satisfied: pyod>=1.0.8 in /local_disk0/.ephemeral_nfs/envs/pythonEnv-e092513e-5ace-47f7-b6ac-26c8bdf2c80d/lib/python3.10/site-packages (from pycaret[full]) (1.1.0)\nRequirement already satisfied: yellowbrick>=1.4 in /local_disk0/.ephemeral_nfs/envs/pythonEnv-e092513e-5ace-47f7-b6ac-26c8bdf2c80d/lib/python3.10/site-packages (from pycaret[full]) (1.5)\nRequirement already satisfied: plotly>=5.0.0 in /databricks/python3/lib/python3.10/site-packages (from pycaret[full]) (5.9.0)\nRequirement already satisfied: xxhash in /local_disk0/.ephemeral_nfs/envs/pythonEnv-e092513e-5ace-47f7-b6ac-26c8bdf2c80d/lib/python3.10/site-packages (from pycaret[full]) (3.3.0)\nRequirement already satisfied: kaleido>=0.2.1 in /local_disk0/.ephemeral_nfs/envs/pythonEnv-e092513e-5ace-47f7-b6ac-26c8bdf2c80d/lib/python3.10/site-packages (from pycaret[full]) (0.2.1)\nRequirement already satisfied: statsmodels>=0.12.1 in /databricks/python3/lib/python3.10/site-packages (from pycaret[full]) (0.13.5)\nRequirement already satisfied: scikit-learn<1.3.0,>=1.0 in /databricks/python3/lib/python3.10/site-packages (from pycaret[full]) (1.1.1)\nRequirement already satisfied: matplotlib>=3.3.0 in /databricks/python3/lib/python3.10/site-packages (from pycaret[full]) (3.7.0)\nRequirement already satisfied: jinja2>=1.2 in /databricks/python3/lib/python3.10/site-packages (from pycaret[full]) (3.1.2)\nRequirement already satisfied: lightgbm>=3.0.0 in /local_disk0/.ephemeral_nfs/envs/pythonEnv-e092513e-5ace-47f7-b6ac-26c8bdf2c80d/lib/python3.10/site-packages (from pycaret[full]) (4.1.0)\nRequirement already satisfied: numpy<1.24,>=1.21 in /databricks/python3/lib/python3.10/site-packages (from pycaret[full]) (1.23.5)\nRequirement already satisfied: ipython>=5.5.0 in /databricks/python3/lib/python3.10/site-packages (from pycaret[full]) (8.14.0)\nRequirement already satisfied: deprecation>=2.1.0 in /local_disk0/.ephemeral_nfs/envs/pythonEnv-e092513e-5ace-47f7-b6ac-26c8bdf2c80d/lib/python3.10/site-packages (from pycaret[full]) (2.1.0)\nRequirement already satisfied: schemdraw==0.15 in /local_disk0/.ephemeral_nfs/envs/pythonEnv-e092513e-5ace-47f7-b6ac-26c8bdf2c80d/lib/python3.10/site-packages (from pycaret[full]) (0.15)\nRequirement already satisfied: requests>=2.27.1 in /databricks/python3/lib/python3.10/site-packages (from pycaret[full]) (2.28.1)\nRequirement already satisfied: importlib-metadata>=4.12.0 in /local_disk0/.ephemeral_nfs/envs/pythonEnv-e092513e-5ace-47f7-b6ac-26c8bdf2c80d/lib/python3.10/site-packages (from pycaret[full]) (5.2.0)\nRequirement already satisfied: nbformat>=4.2.0 in /databricks/python3/lib/python3.10/site-packages (from pycaret[full]) (5.7.0)\nRequirement already satisfied: sktime!=0.17.1,!=0.17.2,!=0.18.0,<0.22.0,>=0.16.1 in /local_disk0/.ephemeral_nfs/envs/pythonEnv-e092513e-5ace-47f7-b6ac-26c8bdf2c80d/lib/python3.10/site-packages (from pycaret[full]) (0.21.1)\nRequirement already satisfied: pandas<2.0.0,>=1.3.0 in /databricks/python3/lib/python3.10/site-packages (from pycaret[full]) (1.5.3)\nRequirement already satisfied: plotly-resampler>=0.8.3.1 in /local_disk0/.ephemeral_nfs/envs/pythonEnv-e092513e-5ace-47f7-b6ac-26c8bdf2c80d/lib/python3.10/site-packages (from pycaret[full]) (0.9.1)\nRequirement already satisfied: tbats>=1.1.3 in /local_disk0/.ephemeral_nfs/envs/pythonEnv-e092513e-5ace-47f7-b6ac-26c8bdf2c80d/lib/python3.10/site-packages (from pycaret[full]) (1.1.3)\nRequirement already satisfied: scipy~=1.10.1 in /local_disk0/.ephemeral_nfs/envs/pythonEnv-e092513e-5ace-47f7-b6ac-26c8bdf2c80d/lib/python3.10/site-packages (from pycaret[full]) (1.10.1)\nRequirement already satisfied: psutil>=5.9.0 in /databricks/python3/lib/python3.10/site-packages (from pycaret[full]) (5.9.0)\nRequirement already satisfied: pmdarima!=1.8.1,<3.0.0,>=1.8.0 in /local_disk0/.ephemeral_nfs/envs/pythonEnv-e092513e-5ace-47f7-b6ac-26c8bdf2c80d/lib/python3.10/site-packages (from pycaret[full]) (2.0.3)\nRequirement already satisfied: numba>=0.55.0 in /local_disk0/.ephemeral_nfs/envs/pythonEnv-e092513e-5ace-47f7-b6ac-26c8bdf2c80d/lib/python3.10/site-packages (from pycaret[full]) (0.58.0)\nRequirement already satisfied: wurlitzer in /local_disk0/.ephemeral_nfs/envs/pythonEnv-e092513e-5ace-47f7-b6ac-26c8bdf2c80d/lib/python3.10/site-packages (from pycaret[full]) (3.0.3)\nRequirement already satisfied: scikit-plot>=0.3.7 in /local_disk0/.ephemeral_nfs/envs/pythonEnv-e092513e-5ace-47f7-b6ac-26c8bdf2c80d/lib/python3.10/site-packages (from pycaret[full]) (0.3.7)\nRequirement already satisfied: imbalanced-learn>=0.8.1 in /local_disk0/.ephemeral_nfs/envs/pythonEnv-e092513e-5ace-47f7-b6ac-26c8bdf2c80d/lib/python3.10/site-packages (from pycaret[full]) (0.11.0)\nRequirement already satisfied: markupsafe>=2.0.1 in /databricks/python3/lib/python3.10/site-packages (from pycaret[full]) (2.1.1)\nRequirement already satisfied: ydata-profiling>=4.3.1 in /local_disk0/.ephemeral_nfs/envs/pythonEnv-e092513e-5ace-47f7-b6ac-26c8bdf2c80d/lib/python3.10/site-packages (from pycaret[full]) (4.5.1)\nRequirement already satisfied: m2cgen>=0.9.0 in /local_disk0/.ephemeral_nfs/envs/pythonEnv-e092513e-5ace-47f7-b6ac-26c8bdf2c80d/lib/python3.10/site-packages (from pycaret[full]) (0.10.0)\nRequirement already satisfied: uvicorn>=0.17.6 in /local_disk0/.ephemeral_nfs/envs/pythonEnv-e092513e-5ace-47f7-b6ac-26c8bdf2c80d/lib/python3.10/site-packages (from pycaret[full]) (0.23.2)\nRequirement already satisfied: pytest>=7.0.1 in /local_disk0/.ephemeral_nfs/envs/pythonEnv-e092513e-5ace-47f7-b6ac-26c8bdf2c80d/lib/python3.10/site-packages (from pycaret[full]) (7.4.2)\nRequirement already satisfied: tune-sklearn>=0.2.1 in /local_disk0/.ephemeral_nfs/envs/pythonEnv-e092513e-5ace-47f7-b6ac-26c8bdf2c80d/lib/python3.10/site-packages (from pycaret[full]) (0.4.6)\nRequirement already satisfied: fugue[dask]>=0.8.0 in /local_disk0/.ephemeral_nfs/envs/pythonEnv-e092513e-5ace-47f7-b6ac-26c8bdf2c80d/lib/python3.10/site-packages (from pycaret[full]) (0.8.6)\nRequirement already satisfied: scikit-optimize>=0.9.0 in /local_disk0/.ephemeral_nfs/envs/pythonEnv-e092513e-5ace-47f7-b6ac-26c8bdf2c80d/lib/python3.10/site-packages (from pycaret[full]) (0.9.0)\nRequirement already satisfied: umap-learn>=0.5.2 in /local_disk0/.ephemeral_nfs/envs/pythonEnv-e092513e-5ace-47f7-b6ac-26c8bdf2c80d/lib/python3.10/site-packages (from pycaret[full]) (0.5.4)\nRequirement already satisfied: fastapi>=0.75.0 in /local_disk0/.ephemeral_nfs/envs/pythonEnv-e092513e-5ace-47f7-b6ac-26c8bdf2c80d/lib/python3.10/site-packages (from pycaret[full]) (0.103.2)\nRequirement already satisfied: mlxtend>=0.19.0 in /local_disk0/.ephemeral_nfs/envs/pythonEnv-e092513e-5ace-47f7-b6ac-26c8bdf2c80d/lib/python3.10/site-packages (from pycaret[full]) (0.23.0)\nRequirement already satisfied: catboost>=0.23.2 in /local_disk0/.ephemeral_nfs/envs/pythonEnv-e092513e-5ace-47f7-b6ac-26c8bdf2c80d/lib/python3.10/site-packages (from pycaret[full]) (1.2.2)\nRequirement already satisfied: fairlearn==0.7.0 in /local_disk0/.ephemeral_nfs/envs/pythonEnv-e092513e-5ace-47f7-b6ac-26c8bdf2c80d/lib/python3.10/site-packages (from pycaret[full]) (0.7.0)\nRequirement already satisfied: gradio>=2.8.10 in /local_disk0/.ephemeral_nfs/envs/pythonEnv-e092513e-5ace-47f7-b6ac-26c8bdf2c80d/lib/python3.10/site-packages (from pycaret[full]) (3.45.2)\nRequirement already satisfied: xgboost>=1.1.0 in /local_disk0/.ephemeral_nfs/envs/pythonEnv-e092513e-5ace-47f7-b6ac-26c8bdf2c80d/lib/python3.10/site-packages (from pycaret[full]) (2.0.0)\nRequirement already satisfied: interpret>=0.2.7 in /local_disk0/.ephemeral_nfs/envs/pythonEnv-e092513e-5ace-47f7-b6ac-26c8bdf2c80d/lib/python3.10/site-packages (from pycaret[full]) (0.4.4)\nRequirement already satisfied: explainerdashboard>=0.3.8 in /local_disk0/.ephemeral_nfs/envs/pythonEnv-e092513e-5ace-47f7-b6ac-26c8bdf2c80d/lib/python3.10/site-packages (from pycaret[full]) (0.4.3)\nRequirement already satisfied: scikit-learn-intelex>=2023.0.1 in /local_disk0/.ephemeral_nfs/envs/pythonEnv-e092513e-5ace-47f7-b6ac-26c8bdf2c80d/lib/python3.10/site-packages (from pycaret[full]) (2023.2.1)\nRequirement already satisfied: statsforecast<1.6.0,>=0.5.5 in /local_disk0/.ephemeral_nfs/envs/pythonEnv-e092513e-5ace-47f7-b6ac-26c8bdf2c80d/lib/python3.10/site-packages (from pycaret[full]) (1.5.0)\nRequirement already satisfied: flask>=2.0.3 in /local_disk0/.ephemeral_nfs/envs/pythonEnv-e092513e-5ace-47f7-b6ac-26c8bdf2c80d/lib/python3.10/site-packages (from pycaret[full]) (2.2.3)\nRequirement already satisfied: boto3>=1.24.56 in /local_disk0/.ephemeral_nfs/envs/pythonEnv-e092513e-5ace-47f7-b6ac-26c8bdf2c80d/lib/python3.10/site-packages (from pycaret[full]) (1.28.57)\nRequirement already satisfied: dash[testing] in /local_disk0/.ephemeral_nfs/envs/pythonEnv-e092513e-5ace-47f7-b6ac-26c8bdf2c80d/lib/python3.10/site-packages (from pycaret[full]) (2.13.0)\nRequirement already satisfied: mlflow<2.0.0,>=1.24.0 in /local_disk0/.ephemeral_nfs/envs/pythonEnv-e092513e-5ace-47f7-b6ac-26c8bdf2c80d/lib/python3.10/site-packages (from pycaret[full]) (1.30.1)\nRequirement already satisfied: kmodes>=0.11.1 in /local_disk0/.ephemeral_nfs/envs/pythonEnv-e092513e-5ace-47f7-b6ac-26c8bdf2c80d/lib/python3.10/site-packages (from pycaret[full]) (0.12.2)\nRequirement already satisfied: shap>=0.38.0 in /local_disk0/.ephemeral_nfs/envs/pythonEnv-e092513e-5ace-47f7-b6ac-26c8bdf2c80d/lib/python3.10/site-packages (from pycaret[full]) (0.42.1)\nRequirement already satisfied: ray[tune]>=1.0.0 in /local_disk0/.ephemeral_nfs/envs/pythonEnv-e092513e-5ace-47f7-b6ac-26c8bdf2c80d/lib/python3.10/site-packages (from pycaret[full]) (2.7.0)\nRequirement already satisfied: hyperopt>=0.2.7 in /local_disk0/.ephemeral_nfs/envs/pythonEnv-e092513e-5ace-47f7-b6ac-26c8bdf2c80d/lib/python3.10/site-packages (from pycaret[full]) (0.2.7)\nRequirement already satisfied: moto>=3.0.7 in /local_disk0/.ephemeral_nfs/envs/pythonEnv-e092513e-5ace-47f7-b6ac-26c8bdf2c80d/lib/python3.10/site-packages (from pycaret[full]) (4.2.4)\nRequirement already satisfied: evidently<0.3,>=0.1.45.dev0 in /local_disk0/.ephemeral_nfs/envs/pythonEnv-e092513e-5ace-47f7-b6ac-26c8bdf2c80d/lib/python3.10/site-packages (from pycaret[full]) (0.2.8)\nRequirement already satisfied: optuna>=3.0.0 in /local_disk0/.ephemeral_nfs/envs/pythonEnv-e092513e-5ace-47f7-b6ac-26c8bdf2c80d/lib/python3.10/site-packages (from pycaret[full]) (3.3.0)\nRequirement already satisfied: itsdangerous>=2.0 in /local_disk0/.ephemeral_nfs/envs/pythonEnv-e092513e-5ace-47f7-b6ac-26c8bdf2c80d/lib/python3.10/site-packages (from flask>=2.0.3->pycaret[full]) (2.1.2)\nRequirement already satisfied: Werkzeug>=2.2.2 in /local_disk0/.ephemeral_nfs/envs/pythonEnv-e092513e-5ace-47f7-b6ac-26c8bdf2c80d/lib/python3.10/site-packages (from flask>=2.0.3->pycaret[full]) (2.2.3)\nRequirement already satisfied: click>=8.0 in /databricks/python3/lib/python3.10/site-packages (from flask>=2.0.3->pycaret[full]) (8.0.4)\nRequirement already satisfied: jmespath<2.0.0,>=0.7.1 in /databricks/python3/lib/python3.10/site-packages (from boto3>=1.24.56->pycaret[full]) (0.10.0)\nRequirement already satisfied: botocore<1.32.0,>=1.31.57 in /local_disk0/.ephemeral_nfs/envs/pythonEnv-e092513e-5ace-47f7-b6ac-26c8bdf2c80d/lib/python3.10/site-packages (from boto3>=1.24.56->pycaret[full]) (1.31.57)\nRequirement already satisfied: s3transfer<0.8.0,>=0.7.0 in /local_disk0/.ephemeral_nfs/envs/pythonEnv-e092513e-5ace-47f7-b6ac-26c8bdf2c80d/lib/python3.10/site-packages (from boto3>=1.24.56->pycaret[full]) (0.7.0)\nRequirement already satisfied: graphviz in /local_disk0/.ephemeral_nfs/envs/pythonEnv-e092513e-5ace-47f7-b6ac-26c8bdf2c80d/lib/python3.10/site-packages (from catboost>=0.23.2->pycaret[full]) (0.20.1)\nRequirement already satisfied: six in /usr/lib/python3/dist-packages (from catboost>=0.23.2->pycaret[full]) (1.16.0)\nRequirement already satisfied: patsy>=0.5.1 in /databricks/python3/lib/python3.10/site-packages (from category-encoders>=2.4.0->pycaret[full]) (0.5.3)\nRequirement already satisfied: packaging in /local_disk0/.ephemeral_nfs/envs/pythonEnv-e092513e-5ace-47f7-b6ac-26c8bdf2c80d/lib/python3.10/site-packages (from deprecation>=2.1.0->pycaret[full]) (21.3)\nRequirement already satisfied: PyYAML>=5.1 in /local_disk0/.ephemeral_nfs/envs/pythonEnv-e092513e-5ace-47f7-b6ac-26c8bdf2c80d/lib/python3.10/site-packages (from evidently<0.3,>=0.1.45.dev0->pycaret[full]) (6.0.1)\nRequirement already satisfied: nltk>=3.6.7 in /local_disk0/.ephemeral_nfs/envs/pythonEnv-e092513e-5ace-47f7-b6ac-26c8bdf2c80d/lib/python3.10/site-packages (from evidently<0.3,>=0.1.45.dev0->pycaret[full]) (3.8.1)\nRequirement already satisfied: pydantic<2 in /databricks/python3/lib/python3.10/site-packages (from evidently<0.3,>=0.1.45.dev0->pycaret[full]) (1.10.6)\nRequirement already satisfied: Flask-WTF>=1.1 in /local_disk0/.ephemeral_nfs/envs/pythonEnv-e092513e-5ace-47f7-b6ac-26c8bdf2c80d/lib/python3.10/site-packages (from explainerdashboard>=0.3.8->pycaret[full]) (1.1.1)\nRequirement already satisfied: waitress in /local_disk0/.ephemeral_nfs/envs/pythonEnv-e092513e-5ace-47f7-b6ac-26c8bdf2c80d/lib/python3.10/site-packages (from explainerdashboard>=0.3.8->pycaret[full]) (2.1.2)\nRequirement already satisfied: jupyter-dash>=0.4.1 in /local_disk0/.ephemeral_nfs/envs/pythonEnv-e092513e-5ace-47f7-b6ac-26c8bdf2c80d/lib/python3.10/site-packages (from explainerdashboard>=0.3.8->pycaret[full]) (0.4.2)\nRequirement already satisfied: dash-bootstrap-components>=1 in /local_disk0/.ephemeral_nfs/envs/pythonEnv-e092513e-5ace-47f7-b6ac-26c8bdf2c80d/lib/python3.10/site-packages (from explainerdashboard>=0.3.8->pycaret[full]) (1.5.0)\nRequirement already satisfied: flask-simplelogin in /local_disk0/.ephemeral_nfs/envs/pythonEnv-e092513e-5ace-47f7-b6ac-26c8bdf2c80d/lib/python3.10/site-packages (from explainerdashboard>=0.3.8->pycaret[full]) (0.1.2)\nRequirement already satisfied: dash-auth in /local_disk0/.ephemeral_nfs/envs/pythonEnv-e092513e-5ace-47f7-b6ac-26c8bdf2c80d/lib/python3.10/site-packages (from explainerdashboard>=0.3.8->pycaret[full]) (2.0.0)\nRequirement already satisfied: dtreeviz>=2.1 in /local_disk0/.ephemeral_nfs/envs/pythonEnv-e092513e-5ace-47f7-b6ac-26c8bdf2c80d/lib/python3.10/site-packages (from explainerdashboard>=0.3.8->pycaret[full]) (2.2.2)\nRequirement already satisfied: oyaml in /local_disk0/.ephemeral_nfs/envs/pythonEnv-e092513e-5ace-47f7-b6ac-26c8bdf2c80d/lib/python3.10/site-packages (from explainerdashboard>=0.3.8->pycaret[full]) (1.0)\nRequirement already satisfied: starlette<0.28.0,>=0.27.0 in /local_disk0/.ephemeral_nfs/envs/pythonEnv-e092513e-5ace-47f7-b6ac-26c8bdf2c80d/lib/python3.10/site-packages (from fastapi>=0.75.0->pycaret[full]) (0.27.0)\nRequirement already satisfied: typing-extensions>=4.5.0 in /local_disk0/.ephemeral_nfs/envs/pythonEnv-e092513e-5ace-47f7-b6ac-26c8bdf2c80d/lib/python3.10/site-packages (from fastapi>=0.75.0->pycaret[full]) (4.8.0)\nRequirement already satisfied: anyio<4.0.0,>=3.7.1 in /local_disk0/.ephemeral_nfs/envs/pythonEnv-e092513e-5ace-47f7-b6ac-26c8bdf2c80d/lib/python3.10/site-packages (from fastapi>=0.75.0->pycaret[full]) (3.7.1)\nRequirement already satisfied: pyarrow>=0.15.1 in /databricks/python3/lib/python3.10/site-packages (from fugue[dask]>=0.8.0->pycaret[full]) (8.0.0)\nRequirement already satisfied: qpd>=0.4.4 in /local_disk0/.ephemeral_nfs/envs/pythonEnv-e092513e-5ace-47f7-b6ac-26c8bdf2c80d/lib/python3.10/site-packages (from fugue[dask]>=0.8.0->pycaret[full]) (0.4.4)\nRequirement already satisfied: sqlglot in /local_disk0/.ephemeral_nfs/envs/pythonEnv-e092513e-5ace-47f7-b6ac-26c8bdf2c80d/lib/python3.10/site-packages (from fugue[dask]>=0.8.0->pycaret[full]) (18.10.0)\nRequirement already satisfied: fugue-sql-antlr>=0.1.6 in /local_disk0/.ephemeral_nfs/envs/pythonEnv-e092513e-5ace-47f7-b6ac-26c8bdf2c80d/lib/python3.10/site-packages (from fugue[dask]>=0.8.0->pycaret[full]) (0.1.7)\nRequirement already satisfied: triad>=0.9.1 in /local_disk0/.ephemeral_nfs/envs/pythonEnv-e092513e-5ace-47f7-b6ac-26c8bdf2c80d/lib/python3.10/site-packages (from fugue[dask]>=0.8.0->pycaret[full]) (0.9.1)\nRequirement already satisfied: adagio>=0.2.4 in /local_disk0/.ephemeral_nfs/envs/pythonEnv-e092513e-5ace-47f7-b6ac-26c8bdf2c80d/lib/python3.10/site-packages (from fugue[dask]>=0.8.0->pycaret[full]) (0.2.4)\nRequirement already satisfied: dask[dataframe,distributed]<2023.7.1,>=2022.9.0 in /local_disk0/.ephemeral_nfs/envs/pythonEnv-e092513e-5ace-47f7-b6ac-26c8bdf2c80d/lib/python3.10/site-packages (from fugue[dask]>=0.8.0->pycaret[full]) (2023.7.0)\nRequirement already satisfied: ffmpy in /local_disk0/.ephemeral_nfs/envs/pythonEnv-e092513e-5ace-47f7-b6ac-26c8bdf2c80d/lib/python3.10/site-packages (from gradio>=2.8.10->pycaret[full]) (0.3.1)\nRequirement already satisfied: websockets<12.0,>=10.0 in /local_disk0/.ephemeral_nfs/envs/pythonEnv-e092513e-5ace-47f7-b6ac-26c8bdf2c80d/lib/python3.10/site-packages (from gradio>=2.8.10->pycaret[full]) (11.0.3)\nRequirement already satisfied: python-multipart in /local_disk0/.ephemeral_nfs/envs/pythonEnv-e092513e-5ace-47f7-b6ac-26c8bdf2c80d/lib/python3.10/site-packages (from gradio>=2.8.10->pycaret[full]) (0.0.6)\nRequirement already satisfied: importlib-resources<7.0,>=1.3 in /local_disk0/.ephemeral_nfs/envs/pythonEnv-e092513e-5ace-47f7-b6ac-26c8bdf2c80d/lib/python3.10/site-packages (from gradio>=2.8.10->pycaret[full]) (6.1.0)\nRequirement already satisfied: pillow<11.0,>=8.0 in /databricks/python3/lib/python3.10/site-packages (from gradio>=2.8.10->pycaret[full]) (9.4.0)\nRequirement already satisfied: pydub in /local_disk0/.ephemeral_nfs/envs/pythonEnv-e092513e-5ace-47f7-b6ac-26c8bdf2c80d/lib/python3.10/site-packages (from gradio>=2.8.10->pycaret[full]) (0.25.1)\nRequirement already satisfied: semantic-version~=2.0 in /local_disk0/.ephemeral_nfs/envs/pythonEnv-e092513e-5ace-47f7-b6ac-26c8bdf2c80d/lib/python3.10/site-packages (from gradio>=2.8.10->pycaret[full]) (2.10.0)\nRequirement already satisfied: orjson~=3.0 in /local_disk0/.ephemeral_nfs/envs/pythonEnv-e092513e-5ace-47f7-b6ac-26c8bdf2c80d/lib/python3.10/site-packages (from gradio>=2.8.10->pycaret[full]) (3.9.7)\nRequirement already satisfied: httpx in /local_disk0/.ephemeral_nfs/envs/pythonEnv-e092513e-5ace-47f7-b6ac-26c8bdf2c80d/lib/python3.10/site-packages (from gradio>=2.8.10->pycaret[full]) (0.25.0)\nRequirement already satisfied: gradio-client==0.5.3 in /local_disk0/.ephemeral_nfs/envs/pythonEnv-e092513e-5ace-47f7-b6ac-26c8bdf2c80d/lib/python3.10/site-packages (from gradio>=2.8.10->pycaret[full]) (0.5.3)\nRequirement already satisfied: aiofiles<24.0,>=22.0 in /local_disk0/.ephemeral_nfs/envs/pythonEnv-e092513e-5ace-47f7-b6ac-26c8bdf2c80d/lib/python3.10/site-packages (from gradio>=2.8.10->pycaret[full]) (23.2.1)\nRequirement already satisfied: altair<6.0,>=4.2.0 in /local_disk0/.ephemeral_nfs/envs/pythonEnv-e092513e-5ace-47f7-b6ac-26c8bdf2c80d/lib/python3.10/site-packages (from gradio>=2.8.10->pycaret[full]) (5.1.1)\nRequirement already satisfied: huggingface-hub>=0.14.0 in /local_disk0/.ephemeral_nfs/envs/pythonEnv-e092513e-5ace-47f7-b6ac-26c8bdf2c80d/lib/python3.10/site-packages (from gradio>=2.8.10->pycaret[full]) (0.17.3)\nRequirement already satisfied: fsspec in /local_disk0/.ephemeral_nfs/envs/pythonEnv-e092513e-5ace-47f7-b6ac-26c8bdf2c80d/lib/python3.10/site-packages (from gradio-client==0.5.3->gradio>=2.8.10->pycaret[full]) (2023.9.2)\nRequirement already satisfied: networkx>=2.2 in /local_disk0/.ephemeral_nfs/envs/pythonEnv-e092513e-5ace-47f7-b6ac-26c8bdf2c80d/lib/python3.10/site-packages (from hyperopt>=0.2.7->pycaret[full]) (3.1)\nRequirement already satisfied: py4j in /local_disk0/.ephemeral_nfs/envs/pythonEnv-e092513e-5ace-47f7-b6ac-26c8bdf2c80d/lib/python3.10/site-packages (from hyperopt>=0.2.7->pycaret[full]) (0.10.9.7)\nRequirement already satisfied: future in /local_disk0/.ephemeral_nfs/envs/pythonEnv-e092513e-5ace-47f7-b6ac-26c8bdf2c80d/lib/python3.10/site-packages (from hyperopt>=0.2.7->pycaret[full]) (0.18.3)\nRequirement already satisfied: threadpoolctl>=2.0.0 in /databricks/python3/lib/python3.10/site-packages (from imbalanced-learn>=0.8.1->pycaret[full]) (2.2.0)\nRequirement already satisfied: zipp>=0.5 in /usr/lib/python3/dist-packages (from importlib-metadata>=4.12.0->pycaret[full]) (1.0.0)\nRequirement already satisfied: interpret-core[dash,debug,decisiontree,ebm,lime,linear,notebook,plotly,required,sensitivity,shap,skoperules,treeinterpreter]==0.4.4 in /local_disk0/.ephemeral_nfs/envs/pythonEnv-e092513e-5ace-47f7-b6ac-26c8bdf2c80d/lib/python3.10/site-packages (from interpret>=0.2.7->pycaret[full]) (0.4.4)\nRequirement already satisfied: lime>=0.1.1.33 in /local_disk0/.ephemeral_nfs/envs/pythonEnv-e092513e-5ace-47f7-b6ac-26c8bdf2c80d/lib/python3.10/site-packages (from interpret-core[dash,debug,decisiontree,ebm,lime,linear,notebook,plotly,required,sensitivity,shap,skoperules,treeinterpreter]==0.4.4->interpret>=0.2.7->pycaret[full]) (0.2.0.1)\nRequirement already satisfied: skope-rules>=1.0.1 in /local_disk0/.ephemeral_nfs/envs/pythonEnv-e092513e-5ace-47f7-b6ac-26c8bdf2c80d/lib/python3.10/site-packages (from interpret-core[dash,debug,decisiontree,ebm,lime,linear,notebook,plotly,required,sensitivity,shap,skoperules,treeinterpreter]==0.4.4->interpret>=0.2.7->pycaret[full]) (1.0.1)\nRequirement already satisfied: ipykernel>=4.10.0 in /databricks/python3/lib/python3.10/site-packages (from interpret-core[dash,debug,decisiontree,ebm,lime,linear,notebook,plotly,required,sensitivity,shap,skoperules,treeinterpreter]==0.4.4->interpret>=0.2.7->pycaret[full]) (6.25.0)\nRequirement already satisfied: treeinterpreter>=0.2.2 in /local_disk0/.ephemeral_nfs/envs/pythonEnv-e092513e-5ace-47f7-b6ac-26c8bdf2c80d/lib/python3.10/site-packages (from interpret-core[dash,debug,decisiontree,ebm,lime,linear,notebook,plotly,required,sensitivity,shap,skoperules,treeinterpreter]==0.4.4->interpret>=0.2.7->pycaret[full]) (0.2.3)\nRequirement already satisfied: SALib>=1.3.3 in /local_disk0/.ephemeral_nfs/envs/pythonEnv-e092513e-5ace-47f7-b6ac-26c8bdf2c80d/lib/python3.10/site-packages (from interpret-core[dash,debug,decisiontree,ebm,lime,linear,notebook,plotly,required,sensitivity,shap,skoperules,treeinterpreter]==0.4.4->interpret>=0.2.7->pycaret[full]) (1.4.7)\nRequirement already satisfied: dill>=0.2.5 in /local_disk0/.ephemeral_nfs/envs/pythonEnv-e092513e-5ace-47f7-b6ac-26c8bdf2c80d/lib/python3.10/site-packages (from interpret-core[dash,debug,decisiontree,ebm,lime,linear,notebook,plotly,required,sensitivity,shap,skoperules,treeinterpreter]==0.4.4->interpret>=0.2.7->pycaret[full]) (0.3.7)\nRequirement already satisfied: dash-core-components>=1.0.0 in /local_disk0/.ephemeral_nfs/envs/pythonEnv-e092513e-5ace-47f7-b6ac-26c8bdf2c80d/lib/python3.10/site-packages (from interpret-core[dash,debug,decisiontree,ebm,lime,linear,notebook,plotly,required,sensitivity,shap,skoperules,treeinterpreter]==0.4.4->interpret>=0.2.7->pycaret[full]) (2.0.0)\nRequirement already satisfied: dash-html-components>=1.0.0 in /local_disk0/.ephemeral_nfs/envs/pythonEnv-e092513e-5ace-47f7-b6ac-26c8bdf2c80d/lib/python3.10/site-packages (from interpret-core[dash,debug,decisiontree,ebm,lime,linear,notebook,plotly,required,sensitivity,shap,skoperules,treeinterpreter]==0.4.4->interpret>=0.2.7->pycaret[full]) (2.0.0)\nRequirement already satisfied: gevent>=1.3.6 in /local_disk0/.ephemeral_nfs/envs/pythonEnv-e092513e-5ace-47f7-b6ac-26c8bdf2c80d/lib/python3.10/site-packages (from interpret-core[dash,debug,decisiontree,ebm,lime,linear,notebook,plotly,required,sensitivity,shap,skoperules,treeinterpreter]==0.4.4->interpret>=0.2.7->pycaret[full]) (23.9.1)\nRequirement already satisfied: dash-table>=4.1.0 in /local_disk0/.ephemeral_nfs/envs/pythonEnv-e092513e-5ace-47f7-b6ac-26c8bdf2c80d/lib/python3.10/site-packages (from interpret-core[dash,debug,decisiontree,ebm,lime,linear,notebook,plotly,required,sensitivity,shap,skoperules,treeinterpreter]==0.4.4->interpret>=0.2.7->pycaret[full]) (5.0.0)\nRequirement a\n\n*** WARNING: max output size exceeded, skipping output. ***\n\nt[full]) (1.26.14)\nRequirement already satisfied: Cython!=0.29.18,!=0.29.31,>=0.29 in /databricks/python3/lib/python3.10/site-packages (from pmdarima!=1.8.1,<3.0.0,>=1.8.0->pycaret[full]) (0.29.32)\nRequirement already satisfied: pluggy<2.0,>=0.12 in /databricks/python3/lib/python3.10/site-packages (from pytest>=7.0.1->pycaret[full]) (1.0.0)\nRequirement already satisfied: tomli>=1.0.0 in /databricks/python3/lib/python3.10/site-packages (from pytest>=7.0.1->pycaret[full]) (2.0.1)\nRequirement already satisfied: exceptiongroup>=1.0.0rc8 in /local_disk0/.ephemeral_nfs/envs/pythonEnv-e092513e-5ace-47f7-b6ac-26c8bdf2c80d/lib/python3.10/site-packages (from pytest>=7.0.1->pycaret[full]) (1.1.3)\nRequirement already satisfied: iniconfig in /local_disk0/.ephemeral_nfs/envs/pythonEnv-e092513e-5ace-47f7-b6ac-26c8bdf2c80d/lib/python3.10/site-packages (from pytest>=7.0.1->pycaret[full]) (2.0.0)\nRequirement already satisfied: filelock in /usr/local/lib/python3.10/dist-packages (from ray[tune]>=1.0.0->pycaret[full]) (3.12.2)\nRequirement already satisfied: aiosignal in /local_disk0/.ephemeral_nfs/envs/pythonEnv-e092513e-5ace-47f7-b6ac-26c8bdf2c80d/lib/python3.10/site-packages (from ray[tune]>=1.0.0->pycaret[full]) (1.3.1)\nRequirement already satisfied: frozenlist in /local_disk0/.ephemeral_nfs/envs/pythonEnv-e092513e-5ace-47f7-b6ac-26c8bdf2c80d/lib/python3.10/site-packages (from ray[tune]>=1.0.0->pycaret[full]) (1.4.0)\nRequirement already satisfied: msgpack<2.0.0,>=1.0.0 in /local_disk0/.ephemeral_nfs/envs/pythonEnv-e092513e-5ace-47f7-b6ac-26c8bdf2c80d/lib/python3.10/site-packages (from ray[tune]>=1.0.0->pycaret[full]) (1.0.7)\nRequirement already satisfied: tensorboardX>=1.9 in /local_disk0/.ephemeral_nfs/envs/pythonEnv-e092513e-5ace-47f7-b6ac-26c8bdf2c80d/lib/python3.10/site-packages (from ray[tune]>=1.0.0->pycaret[full]) (2.6.2.2)\nRequirement already satisfied: certifi>=2017.4.17 in /databricks/python3/lib/python3.10/site-packages (from requests>=2.27.1->pycaret[full]) (2022.12.7)\nRequirement already satisfied: charset-normalizer<3,>=2 in /databricks/python3/lib/python3.10/site-packages (from requests>=2.27.1->pycaret[full]) (2.0.4)\nRequirement already satisfied: idna<4,>=2.5 in /databricks/python3/lib/python3.10/site-packages (from requests>=2.27.1->pycaret[full]) (3.4)\nRequirement already satisfied: daal4py==2023.2.1 in /local_disk0/.ephemeral_nfs/envs/pythonEnv-e092513e-5ace-47f7-b6ac-26c8bdf2c80d/lib/python3.10/site-packages (from scikit-learn-intelex>=2023.0.1->pycaret[full]) (2023.2.1)\nRequirement already satisfied: daal==2023.2.1 in /local_disk0/.ephemeral_nfs/envs/pythonEnv-e092513e-5ace-47f7-b6ac-26c8bdf2c80d/lib/python3.10/site-packages (from daal4py==2023.2.1->scikit-learn-intelex>=2023.0.1->pycaret[full]) (2023.2.1)\nRequirement already satisfied: tbb==2021.* in /local_disk0/.ephemeral_nfs/envs/pythonEnv-e092513e-5ace-47f7-b6ac-26c8bdf2c80d/lib/python3.10/site-packages (from daal==2023.2.1->daal4py==2023.2.1->scikit-learn-intelex>=2023.0.1->pycaret[full]) (2021.10.0)\nRequirement already satisfied: pyaml>=16.9 in /local_disk0/.ephemeral_nfs/envs/pythonEnv-e092513e-5ace-47f7-b6ac-26c8bdf2c80d/lib/python3.10/site-packages (from scikit-optimize>=0.9.0->pycaret[full]) (23.9.6)\nRequirement already satisfied: slicer==0.0.7 in /local_disk0/.ephemeral_nfs/envs/pythonEnv-e092513e-5ace-47f7-b6ac-26c8bdf2c80d/lib/python3.10/site-packages (from shap>=0.38.0->pycaret[full]) (0.0.7)\nRequirement already satisfied: deprecated>=1.2.13 in /local_disk0/.ephemeral_nfs/envs/pythonEnv-e092513e-5ace-47f7-b6ac-26c8bdf2c80d/lib/python3.10/site-packages (from sktime!=0.17.1,!=0.17.2,!=0.18.0,<0.22.0,>=0.16.1->pycaret[full]) (1.2.14)\nRequirement already satisfied: scikit-base<0.6.0 in /local_disk0/.ephemeral_nfs/envs/pythonEnv-e092513e-5ace-47f7-b6ac-26c8bdf2c80d/lib/python3.10/site-packages (from sktime!=0.17.1,!=0.17.2,!=0.18.0,<0.22.0,>=0.16.1->pycaret[full]) (0.5.1)\nRequirement already satisfied: pynndescent>=0.5 in /local_disk0/.ephemeral_nfs/envs/pythonEnv-e092513e-5ace-47f7-b6ac-26c8bdf2c80d/lib/python3.10/site-packages (from umap-learn>=0.5.2->pycaret[full]) (0.5.10)\nRequirement already satisfied: h11>=0.8 in /local_disk0/.ephemeral_nfs/envs/pythonEnv-e092513e-5ace-47f7-b6ac-26c8bdf2c80d/lib/python3.10/site-packages (from uvicorn>=0.17.6->pycaret[full]) (0.14.0)\nRequirement already satisfied: typeguard<3,>=2.13.2 in /local_disk0/.ephemeral_nfs/envs/pythonEnv-e092513e-5ace-47f7-b6ac-26c8bdf2c80d/lib/python3.10/site-packages (from ydata-profiling>=4.3.1->pycaret[full]) (2.13.3)\nRequirement already satisfied: multimethod<2,>=1.4 in /local_disk0/.ephemeral_nfs/envs/pythonEnv-e092513e-5ace-47f7-b6ac-26c8bdf2c80d/lib/python3.10/site-packages (from ydata-profiling>=4.3.1->pycaret[full]) (1.10)\nRequirement already satisfied: wordcloud>=1.9.1 in /local_disk0/.ephemeral_nfs/envs/pythonEnv-e092513e-5ace-47f7-b6ac-26c8bdf2c80d/lib/python3.10/site-packages (from ydata-profiling>=4.3.1->pycaret[full]) (1.9.2)\nRequirement already satisfied: visions[type_image_path]==0.7.5 in /local_disk0/.ephemeral_nfs/envs/pythonEnv-e092513e-5ace-47f7-b6ac-26c8bdf2c80d/lib/python3.10/site-packages (from ydata-profiling>=4.3.1->pycaret[full]) (0.7.5)\nRequirement already satisfied: dacite>=1.8 in /local_disk0/.ephemeral_nfs/envs/pythonEnv-e092513e-5ace-47f7-b6ac-26c8bdf2c80d/lib/python3.10/site-packages (from ydata-profiling>=4.3.1->pycaret[full]) (1.8.1)\nRequirement already satisfied: imagehash==4.3.1 in /local_disk0/.ephemeral_nfs/envs/pythonEnv-e092513e-5ace-47f7-b6ac-26c8bdf2c80d/lib/python3.10/site-packages (from ydata-profiling>=4.3.1->pycaret[full]) (4.3.1)\nRequirement already satisfied: htmlmin==0.1.12 in /local_disk0/.ephemeral_nfs/envs/pythonEnv-e092513e-5ace-47f7-b6ac-26c8bdf2c80d/lib/python3.10/site-packages (from ydata-profiling>=4.3.1->pycaret[full]) (0.1.12)\nRequirement already satisfied: phik<0.13,>=0.11.1 in /local_disk0/.ephemeral_nfs/envs/pythonEnv-e092513e-5ace-47f7-b6ac-26c8bdf2c80d/lib/python3.10/site-packages (from ydata-profiling>=4.3.1->pycaret[full]) (0.12.3)\nRequirement already satisfied: seaborn<0.13,>=0.10.1 in /databricks/python3/lib/python3.10/site-packages (from ydata-profiling>=4.3.1->pycaret[full]) (0.12.2)\nRequirement already satisfied: PyWavelets in /local_disk0/.ephemeral_nfs/envs/pythonEnv-e092513e-5ace-47f7-b6ac-26c8bdf2c80d/lib/python3.10/site-packages (from imagehash==4.3.1->ydata-profiling>=4.3.1->pycaret[full]) (1.4.1)\nRequirement already satisfied: tangled-up-in-unicode>=0.0.4 in /local_disk0/.ephemeral_nfs/envs/pythonEnv-e092513e-5ace-47f7-b6ac-26c8bdf2c80d/lib/python3.10/site-packages (from visions[type_image_path]==0.7.5->ydata-profiling>=4.3.1->pycaret[full]) (0.2.0)\nRequirement already satisfied: attrs>=19.3.0 in /databricks/python3/lib/python3.10/site-packages (from visions[type_image_path]==0.7.5->ydata-profiling>=4.3.1->pycaret[full]) (22.1.0)\nRequirement already satisfied: ansi2html in /local_disk0/.ephemeral_nfs/envs/pythonEnv-e092513e-5ace-47f7-b6ac-26c8bdf2c80d/lib/python3.10/site-packages (from dash[testing]->pycaret[full]) (1.8.0)\nRequirement already satisfied: retrying in /local_disk0/.ephemeral_nfs/envs/pythonEnv-e092513e-5ace-47f7-b6ac-26c8bdf2c80d/lib/python3.10/site-packages (from dash[testing]->pycaret[full]) (1.3.4)\nRequirement already satisfied: nest-asyncio in /databricks/python3/lib/python3.10/site-packages (from dash[testing]->pycaret[full]) (1.5.6)\nRequirement already satisfied: lxml>=4.6.2 in /databricks/python3/lib/python3.10/site-packages (from dash[testing]->pycaret[full]) (4.9.1)\nRequirement already satisfied: dash-testing-stub>=0.0.2 in /local_disk0/.ephemeral_nfs/envs/pythonEnv-e092513e-5ace-47f7-b6ac-26c8bdf2c80d/lib/python3.10/site-packages (from dash[testing]->pycaret[full]) (0.0.2)\nRequirement already satisfied: selenium<=4.2.0,>=3.141.0 in /local_disk0/.ephemeral_nfs/envs/pythonEnv-e092513e-5ace-47f7-b6ac-26c8bdf2c80d/lib/python3.10/site-packages (from dash[testing]->pycaret[full]) (4.2.0)\nRequirement already satisfied: multiprocess>=0.70.12 in /local_disk0/.ephemeral_nfs/envs/pythonEnv-e092513e-5ace-47f7-b6ac-26c8bdf2c80d/lib/python3.10/site-packages (from dash[testing]->pycaret[full]) (0.70.15)\nRequirement already satisfied: percy>=2.0.2 in /local_disk0/.ephemeral_nfs/envs/pythonEnv-e092513e-5ace-47f7-b6ac-26c8bdf2c80d/lib/python3.10/site-packages (from dash[testing]->pycaret[full]) (2.0.2)\nRequirement already satisfied: beautifulsoup4>=4.8.2 in /databricks/python3/lib/python3.10/site-packages (from dash[testing]->pycaret[full]) (4.11.1)\nRequirement already satisfied: Mako in /local_disk0/.ephemeral_nfs/envs/pythonEnv-e092513e-5ace-47f7-b6ac-26c8bdf2c80d/lib/python3.10/site-packages (from alembic<2->mlflow<2.0.0,>=1.24.0->pycaret[full]) (1.2.4)\nRequirement already satisfied: toolz in /local_disk0/.ephemeral_nfs/envs/pythonEnv-e092513e-5ace-47f7-b6ac-26c8bdf2c80d/lib/python3.10/site-packages (from altair<6.0,>=4.2.0->gradio>=2.8.10->pycaret[full]) (0.12.0)\nRequirement already satisfied: sniffio>=1.1 in /databricks/python3/lib/python3.10/site-packages (from anyio<4.0.0,>=3.7.1->fastapi>=0.75.0->pycaret[full]) (1.2.0)\nRequirement already satisfied: soupsieve>1.2 in /databricks/python3/lib/python3.10/site-packages (from beautifulsoup4>=4.8.2->dash[testing]->pycaret[full]) (2.3.2.post1)\nRequirement already satisfied: cffi>=1.12 in /databricks/python3/lib/python3.10/site-packages (from cryptography>=3.3.1->moto>=3.0.7->pycaret[full]) (1.15.1)\nRequirement already satisfied: partd>=1.2.0 in /local_disk0/.ephemeral_nfs/envs/pythonEnv-e092513e-5ace-47f7-b6ac-26c8bdf2c80d/lib/python3.10/site-packages (from dask[dataframe,distributed]<2023.7.1,>=2022.9.0->fugue[dask]>=0.8.0->pycaret[full]) (1.4.1)\nRequirement already satisfied: distributed==2023.7.0 in /local_disk0/.ephemeral_nfs/envs/pythonEnv-e092513e-5ace-47f7-b6ac-26c8bdf2c80d/lib/python3.10/site-packages (from dask[dataframe,distributed]<2023.7.1,>=2022.9.0->fugue[dask]>=0.8.0->pycaret[full]) (2023.7.0)\nRequirement already satisfied: sortedcontainers>=2.0.5 in /local_disk0/.ephemeral_nfs/envs/pythonEnv-e092513e-5ace-47f7-b6ac-26c8bdf2c80d/lib/python3.10/site-packages (from distributed==2023.7.0->dask[dataframe,distributed]<2023.7.1,>=2022.9.0->fugue[dask]>=0.8.0->pycaret[full]) (2.4.0)\nRequirement already satisfied: tornado>=6.0.4 in /databricks/python3/lib/python3.10/site-packages (from distributed==2023.7.0->dask[dataframe,distributed]<2023.7.1,>=2022.9.0->fugue[dask]>=0.8.0->pycaret[full]) (6.1)\nRequirement already satisfied: tblib>=1.6.0 in /local_disk0/.ephemeral_nfs/envs/pythonEnv-e092513e-5ace-47f7-b6ac-26c8bdf2c80d/lib/python3.10/site-packages (from distributed==2023.7.0->dask[dataframe,distributed]<2023.7.1,>=2022.9.0->fugue[dask]>=0.8.0->pycaret[full]) (2.0.0)\nRequirement already satisfied: zict>=2.2.0 in /local_disk0/.ephemeral_nfs/envs/pythonEnv-e092513e-5ace-47f7-b6ac-26c8bdf2c80d/lib/python3.10/site-packages (from distributed==2023.7.0->dask[dataframe,distributed]<2023.7.1,>=2022.9.0->fugue[dask]>=0.8.0->pycaret[full]) (3.0.0)\nRequirement already satisfied: locket>=1.0.0 in /local_disk0/.ephemeral_nfs/envs/pythonEnv-e092513e-5ace-47f7-b6ac-26c8bdf2c80d/lib/python3.10/site-packages (from distributed==2023.7.0->dask[dataframe,distributed]<2023.7.1,>=2022.9.0->fugue[dask]>=0.8.0->pycaret[full]) (1.0.0)\nRequirement already satisfied: tabulate>=0.7.7 in /local_disk0/.ephemeral_nfs/envs/pythonEnv-e092513e-5ace-47f7-b6ac-26c8bdf2c80d/lib/python3.10/site-packages (from databricks-cli<1,>=0.8.7->mlflow<2.0.0,>=1.24.0->pycaret[full]) (0.9.0)\nRequirement already satisfied: oauthlib>=3.1.0 in /usr/lib/python3/dist-packages (from databricks-cli<1,>=0.8.7->mlflow<2.0.0,>=1.24.0->pycaret[full]) (3.2.0)\nRequirement already satisfied: pyjwt>=1.7.0 in /usr/lib/python3/dist-packages (from databricks-cli<1,>=0.8.7->mlflow<2.0.0,>=1.24.0->pycaret[full]) (2.3.0)\nRequirement already satisfied: wrapt<2,>=1.10 in /local_disk0/.ephemeral_nfs/envs/pythonEnv-e092513e-5ace-47f7-b6ac-26c8bdf2c80d/lib/python3.10/site-packages (from deprecated>=1.2.13->sktime!=0.17.1,!=0.17.2,!=0.18.0,<0.22.0,>=0.16.1->pycaret[full]) (1.15.0)\nRequirement already satisfied: websocket-client>=0.32.0 in /databricks/python3/lib/python3.10/site-packages (from docker<7,>=4.0.0->mlflow<2.0.0,>=1.24.0->pycaret[full]) (0.58.0)\nRequirement already satisfied: colour in /local_disk0/.ephemeral_nfs/envs/pythonEnv-e092513e-5ace-47f7-b6ac-26c8bdf2c80d/lib/python3.10/site-packages (from dtreeviz>=2.1->explainerdashboard>=0.3.8->pycaret[full]) (0.1.5)\nRequirement already satisfied: WTForms in /local_disk0/.ephemeral_nfs/envs/pythonEnv-e092513e-5ace-47f7-b6ac-26c8bdf2c80d/lib/python3.10/site-packages (from Flask-WTF>=1.1->explainerdashboard>=0.3.8->pycaret[full]) (3.0.1)\nRequirement already satisfied: antlr4-python3-runtime<4.12,>=4.11.1 in /local_disk0/.ephemeral_nfs/envs/pythonEnv-e092513e-5ace-47f7-b6ac-26c8bdf2c80d/lib/python3.10/site-packages (from fugue-sql-antlr>=0.1.6->fugue[dask]>=0.8.0->pycaret[full]) (4.11.1)\nRequirement already satisfied: gitdb<5,>=4.0.1 in /local_disk0/.ephemeral_nfs/envs/pythonEnv-e092513e-5ace-47f7-b6ac-26c8bdf2c80d/lib/python3.10/site-packages (from gitpython<4,>=2.1.0->mlflow<2.0.0,>=1.24.0->pycaret[full]) (4.0.10)\nRequirement already satisfied: debugpy>=1.6.5 in /databricks/python3/lib/python3.10/site-packages (from ipykernel>=4.10.0->interpret-core[dash,debug,decisiontree,ebm,lime,linear,notebook,plotly,required,sensitivity,shap,skoperules,treeinterpreter]==0.4.4->interpret>=0.2.7->pycaret[full]) (1.6.7)\nRequirement already satisfied: jupyter-client>=6.1.12 in /databricks/python3/lib/python3.10/site-packages (from ipykernel>=4.10.0->interpret-core[dash,debug,decisiontree,ebm,lime,linear,notebook,plotly,required,sensitivity,shap,skoperules,treeinterpreter]==0.4.4->interpret>=0.2.7->pycaret[full]) (7.3.4)\nRequirement already satisfied: comm>=0.1.1 in /databricks/python3/lib/python3.10/site-packages (from ipykernel>=4.10.0->interpret-core[dash,debug,decisiontree,ebm,lime,linear,notebook,plotly,required,sensitivity,shap,skoperules,treeinterpreter]==0.4.4->interpret>=0.2.7->pycaret[full]) (0.1.2)\nRequirement already satisfied: pyzmq>=20 in /databricks/python3/lib/python3.10/site-packages (from ipykernel>=4.10.0->interpret-core[dash,debug,decisiontree,ebm,lime,linear,notebook,plotly,required,sensitivity,shap,skoperules,treeinterpreter]==0.4.4->interpret>=0.2.7->pycaret[full]) (23.2.0)\nRequirement already satisfied: parso<0.9.0,>=0.8.0 in /databricks/python3/lib/python3.10/site-packages (from jedi>=0.16->ipython>=5.5.0->pycaret[full]) (0.8.3)\nRequirement already satisfied: pyrsistent!=0.17.0,!=0.17.1,!=0.17.2,>=0.14.0 in /databricks/python3/lib/python3.10/site-packages (from jsonschema>=2.6->nbformat>=4.2.0->pycaret[full]) (0.18.0)\nRequirement already satisfied: platformdirs>=2.5 in /databricks/python3/lib/python3.10/site-packages (from jupyter-core->nbformat>=4.2.0->pycaret[full]) (2.5.2)\nRequirement already satisfied: regex>=2021.8.3 in /local_disk0/.ephemeral_nfs/envs/pythonEnv-e092513e-5ace-47f7-b6ac-26c8bdf2c80d/lib/python3.10/site-packages (from nltk>=3.6.7->evidently<0.3,>=0.1.45.dev0->pycaret[full]) (2023.8.8)\nRequirement already satisfied: ptyprocess>=0.5 in /databricks/python3/lib/python3.10/site-packages (from pexpect>4.3->ipython>=5.5.0->pycaret[full]) (0.7.0)\nRequirement already satisfied: prometheus-client in /databricks/python3/lib/python3.10/site-packages (from prometheus-flask-exporter<1->mlflow<2.0.0,>=1.24.0->pycaret[full]) (0.14.1)\nRequirement already satisfied: wcwidth in /databricks/python3/lib/python3.10/site-packages (from prompt-toolkit!=3.0.37,<3.1.0,>=3.0.30->ipython>=5.5.0->pycaret[full]) (0.2.5)\nRequirement already satisfied: types-PyYAML in /local_disk0/.ephemeral_nfs/envs/pythonEnv-e092513e-5ace-47f7-b6ac-26c8bdf2c80d/lib/python3.10/site-packages (from responses>=0.13.0->moto>=3.0.7->pycaret[full]) (6.0.12.12)\nRequirement already satisfied: trio-websocket~=0.9 in /local_disk0/.ephemeral_nfs/envs/pythonEnv-e092513e-5ace-47f7-b6ac-26c8bdf2c80d/lib/python3.10/site-packages (from selenium<=4.2.0,>=3.141.0->dash[testing]->pycaret[full]) (0.11.1)\nRequirement already satisfied: trio~=0.17 in /local_disk0/.ephemeral_nfs/envs/pythonEnv-e092513e-5ace-47f7-b6ac-26c8bdf2c80d/lib/python3.10/site-packages (from selenium<=4.2.0,>=3.141.0->dash[testing]->pycaret[full]) (0.22.2)\nRequirement already satisfied: greenlet!=0.4.17 in /local_disk0/.ephemeral_nfs/envs/pythonEnv-e092513e-5ace-47f7-b6ac-26c8bdf2c80d/lib/python3.10/site-packages (from sqlalchemy<2,>=1.4.0->mlflow<2.0.0,>=1.24.0->pycaret[full]) (2.0.2)\nRequirement already satisfied: fs in /local_disk0/.ephemeral_nfs/envs/pythonEnv-e092513e-5ace-47f7-b6ac-26c8bdf2c80d/lib/python3.10/site-packages (from triad>=0.9.1->fugue[dask]>=0.8.0->pycaret[full]) (2.4.16)\nRequirement already satisfied: notebook>=4.4.1 in /databricks/python3/lib/python3.10/site-packages (from widgetsnbextension~=3.6.0->ipywidgets>=7.6.5->pycaret[full]) (6.5.2)\nRequirement already satisfied: httpcore<0.19.0,>=0.18.0 in /local_disk0/.ephemeral_nfs/envs/pythonEnv-e092513e-5ace-47f7-b6ac-26c8bdf2c80d/lib/python3.10/site-packages (from httpx->gradio>=2.8.10->pycaret[full]) (0.18.0)\nRequirement already satisfied: executing in /databricks/python3/lib/python3.10/site-packages (from stack-data->ipython>=5.5.0->pycaret[full]) (0.8.3)\nRequirement already satisfied: pure-eval in /databricks/python3/lib/python3.10/site-packages (from stack-data->ipython>=5.5.0->pycaret[full]) (0.2.2)\nRequirement already satisfied: asttokens in /databricks/python3/lib/python3.10/site-packages (from stack-data->ipython>=5.5.0->pycaret[full]) (2.0.5)\nRequirement already satisfied: pycparser in /databricks/python3/lib/python3.10/site-packages (from cffi>=1.12->cryptography>=3.3.1->moto>=3.0.7->pycaret[full]) (2.21)\nRequirement already satisfied: zope.interface in /local_disk0/.ephemeral_nfs/envs/pythonEnv-e092513e-5ace-47f7-b6ac-26c8bdf2c80d/lib/python3.10/site-packages (from gevent>=1.3.6->interpret-core[dash,debug,decisiontree,ebm,lime,linear,notebook,plotly,required,sensitivity,shap,skoperules,treeinterpreter]==0.4.4->interpret>=0.2.7->pycaret[full]) (6.0)\nRequirement already satisfied: zope.event in /local_disk0/.ephemeral_nfs/envs/pythonEnv-e092513e-5ace-47f7-b6ac-26c8bdf2c80d/lib/python3.10/site-packages (from gevent>=1.3.6->interpret-core[dash,debug,decisiontree,ebm,lime,linear,notebook,plotly,required,sensitivity,shap,skoperules,treeinterpreter]==0.4.4->interpret>=0.2.7->pycaret[full]) (5.0)\nRequirement already satisfied: smmap<6,>=3.0.1 in /local_disk0/.ephemeral_nfs/envs/pythonEnv-e092513e-5ace-47f7-b6ac-26c8bdf2c80d/lib/python3.10/site-packages (from gitdb<5,>=4.0.1->gitpython<4,>=2.1.0->mlflow<2.0.0,>=1.24.0->pycaret[full]) (5.0.1)\nRequirement already satisfied: scikit-image>=0.12 in /local_disk0/.ephemeral_nfs/envs/pythonEnv-e092513e-5ace-47f7-b6ac-26c8bdf2c80d/lib/python3.10/site-packages (from lime>=0.1.1.33->interpret-core[dash,debug,decisiontree,ebm,lime,linear,notebook,plotly,required,sensitivity,shap,skoperules,treeinterpreter]==0.4.4->interpret>=0.2.7->pycaret[full]) (0.21.0)\nRequirement already satisfied: Send2Trash>=1.8.0 in /databricks/python3/lib/python3.10/site-packages (from notebook>=4.4.1->widgetsnbextension~=3.6.0->ipywidgets>=7.6.5->pycaret[full]) (1.8.0)\nRequirement already satisfied: argon2-cffi in /databricks/python3/lib/python3.10/site-packages (from notebook>=4.4.1->widgetsnbextension~=3.6.0->ipywidgets>=7.6.5->pycaret[full]) (21.3.0)\nRequirement already satisfied: nbclassic>=0.4.7 in /databricks/python3/lib/python3.10/site-packages (from notebook>=4.4.1->widgetsnbextension~=3.6.0->ipywidgets>=7.6.5->pycaret[full]) (0.5.2)\nRequirement already satisfied: terminado>=0.8.3 in /databricks/python3/lib/python3.10/site-packages (from notebook>=4.4.1->widgetsnbextension~=3.6.0->ipywidgets>=7.6.5->pycaret[full]) (0.17.1)\nRequirement already satisfied: nbconvert>=5 in /databricks/python3/lib/python3.10/site-packages (from notebook>=4.4.1->widgetsnbextension~=3.6.0->ipywidgets>=7.6.5->pycaret[full]) (6.5.4)\nRequirement already satisfied: outcome in /local_disk0/.ephemeral_nfs/envs/pythonEnv-e092513e-5ace-47f7-b6ac-26c8bdf2c80d/lib/python3.10/site-packages (from trio~=0.17->selenium<=4.2.0,>=3.141.0->dash[testing]->pycaret[full]) (1.2.0)\nRequirement already satisfied: wsproto>=0.14 in /local_disk0/.ephemeral_nfs/envs/pythonEnv-e092513e-5ace-47f7-b6ac-26c8bdf2c80d/lib/python3.10/site-packages (from trio-websocket~=0.9->selenium<=4.2.0,>=3.141.0->dash[testing]->pycaret[full]) (1.2.0)\nRequirement already satisfied: pyOpenSSL>=0.14 in /local_disk0/.ephemeral_nfs/envs/pythonEnv-e092513e-5ace-47f7-b6ac-26c8bdf2c80d/lib/python3.10/site-packages (from urllib3->pmdarima!=1.8.1,<3.0.0,>=1.8.0->pycaret[full]) (23.2.0)\nRequirement already satisfied: urllib3-secure-extra in /local_disk0/.ephemeral_nfs/envs/pythonEnv-e092513e-5ace-47f7-b6ac-26c8bdf2c80d/lib/python3.10/site-packages (from urllib3->pmdarima!=1.8.1,<3.0.0,>=1.8.0->pycaret[full]) (0.1.0)\nRequirement already satisfied: PySocks!=1.5.7,<2.0,>=1.5.6 in /local_disk0/.ephemeral_nfs/envs/pythonEnv-e092513e-5ace-47f7-b6ac-26c8bdf2c80d/lib/python3.10/site-packages (from urllib3->pmdarima!=1.8.1,<3.0.0,>=1.8.0->pycaret[full]) (1.7.1)\nRequirement already satisfied: appdirs~=1.4.3 in /local_disk0/.ephemeral_nfs/envs/pythonEnv-e092513e-5ace-47f7-b6ac-26c8bdf2c80d/lib/python3.10/site-packages (from fs->triad>=0.9.1->fugue[dask]>=0.8.0->pycaret[full]) (1.4.4)\nRequirement already satisfied: jupyter-server>=1.8 in /databricks/python3/lib/python3.10/site-packages (from nbclassic>=0.4.7->notebook>=4.4.1->widgetsnbextension~=3.6.0->ipywidgets>=7.6.5->pycaret[full]) (1.23.4)\nRequirement already satisfied: notebook-shim>=0.1.0 in /databricks/python3/lib/python3.10/site-packages (from nbclassic>=0.4.7->notebook>=4.4.1->widgetsnbextension~=3.6.0->ipywidgets>=7.6.5->pycaret[full]) (0.2.2)\nRequirement already satisfied: defusedxml in /databricks/python3/lib/python3.10/site-packages (from nbconvert>=5->notebook>=4.4.1->widgetsnbextension~=3.6.0->ipywidgets>=7.6.5->pycaret[full]) (0.7.1)\nRequirement already satisfied: mistune<2,>=0.8.1 in /databricks/python3/lib/python3.10/site-packages (from nbconvert>=5->notebook>=4.4.1->widgetsnbextension~=3.6.0->ipywidgets>=7.6.5->pycaret[full]) (0.8.4)\nRequirement already satisfied: pandocfilters>=1.4.1 in /databricks/python3/lib/python3.10/site-packages (from nbconvert>=5->notebook>=4.4.1->widgetsnbextension~=3.6.0->ipywidgets>=7.6.5->pycaret[full]) (1.5.0)\nRequirement already satisfied: tinycss2 in /databricks/python3/lib/python3.10/site-packages (from nbconvert>=5->notebook>=4.4.1->widgetsnbextension~=3.6.0->ipywidgets>=7.6.5->pycaret[full]) (1.2.1)\nRequirement already satisfied: bleach in /databricks/python3/lib/python3.10/site-packages (from nbconvert>=5->notebook>=4.4.1->widgetsnbextension~=3.6.0->ipywidgets>=7.6.5->pycaret[full]) (4.1.0)\nRequirement already satisfied: nbclient>=0.5.0 in /databricks/python3/lib/python3.10/site-packages (from nbconvert>=5->notebook>=4.4.1->widgetsnbextension~=3.6.0->ipywidgets>=7.6.5->pycaret[full]) (0.5.13)\nRequirement already satisfied: jupyterlab-pygments in /databricks/python3/lib/python3.10/site-packages (from nbconvert>=5->notebook>=4.4.1->widgetsnbextension~=3.6.0->ipywidgets>=7.6.5->pycaret[full]) (0.1.2)\nRequirement already satisfied: imageio>=2.27 in /local_disk0/.ephemeral_nfs/envs/pythonEnv-e092513e-5ace-47f7-b6ac-26c8bdf2c80d/lib/python3.10/site-packages (from scikit-image>=0.12->lime>=0.1.1.33->interpret-core[dash,debug,decisiontree,ebm,lime,linear,notebook,plotly,required,sensitivity,shap,skoperules,treeinterpreter]==0.4.4->interpret>=0.2.7->pycaret[full]) (2.31.4)\nRequirement already satisfied: tifffile>=2022.8.12 in /local_disk0/.ephemeral_nfs/envs/pythonEnv-e092513e-5ace-47f7-b6ac-26c8bdf2c80d/lib/python3.10/site-packages (from scikit-image>=0.12->lime>=0.1.1.33->interpret-core[dash,debug,decisiontree,ebm,lime,linear,notebook,plotly,required,sensitivity,shap,skoperules,treeinterpreter]==0.4.4->interpret>=0.2.7->pycaret[full]) (2023.9.26)\nRequirement already satisfied: lazy_loader>=0.2 in /local_disk0/.ephemeral_nfs/envs/pythonEnv-e092513e-5ace-47f7-b6ac-26c8bdf2c80d/lib/python3.10/site-packages (from scikit-image>=0.12->lime>=0.1.1.33->interpret-core[dash,debug,decisiontree,ebm,lime,linear,notebook,plotly,required,sensitivity,shap,skoperules,treeinterpreter]==0.4.4->interpret>=0.2.7->pycaret[full]) (0.3)\nRequirement already satisfied: argon2-cffi-bindings in /databricks/python3/lib/python3.10/site-packages (from argon2-cffi->notebook>=4.4.1->widgetsnbextension~=3.6.0->ipywidgets>=7.6.5->pycaret[full]) (21.2.0)\nRequirement already satisfied: webencodings in /databricks/python3/lib/python3.10/site-packages (from bleach->nbconvert>=5->notebook>=4.4.1->widgetsnbextension~=3.6.0->ipywidgets>=7.6.5->pycaret[full]) (0.5.1)\n\u001B[43mNote: you may need to restart the kernel using dbutils.library.restartPython() to use updated packages.\u001B[0m\n"
     ]
    }
   ],
   "source": [
    "!pip install pycaret[full]\n",
    "dbutils.library.restartPython()"
   ]
  },
  {
   "cell_type": "markdown",
   "metadata": {
    "application/vnd.databricks.v1+cell": {
     "cellMetadata": {
      "byteLimit": 2048000,
      "rowLimit": 10000
     },
     "inputWidgets": {},
     "nuid": "4bed758b-2dde-4b91-82cc-0944ae1b362e",
     "showTitle": false,
     "title": ""
    }
   },
   "source": [
    "# Load region_margin data"
   ]
  },
  {
   "cell_type": "code",
   "execution_count": 0,
   "metadata": {
    "application/vnd.databricks.v1+cell": {
     "cellMetadata": {
      "byteLimit": 2048000,
      "implicitDf": true,
      "rowLimit": 10000
     },
     "inputWidgets": {},
     "nuid": "04ef461e-a976-4be0-b7f8-6e8665cc00fd",
     "showTitle": false,
     "title": ""
    }
   },
   "outputs": [
    {
     "output_type": "display_data",
     "data": {
      "text/html": [
       "<style scoped>\n",
       "  .table-result-container {\n",
       "    max-height: 300px;\n",
       "    overflow: auto;\n",
       "  }\n",
       "  table, th, td {\n",
       "    border: 1px solid black;\n",
       "    border-collapse: collapse;\n",
       "  }\n",
       "  th, td {\n",
       "    padding: 5px;\n",
       "  }\n",
       "  th {\n",
       "    text-align: left;\n",
       "  }\n",
       "</style><div class='table-result-container'><table class='table-result'><thead style='background-color: white'><tr><th>region</th><th>product_line</th><th>month</th><th>cost_m_usd</th><th>revenue_m_usd</th><th>margin</th></tr></thead><tbody><tr><td>us-west1</td><td>sql</td><td>2023-01-01</td><td>0.8</td><td>0.6</td><td>-0.25000000000000006</td></tr><tr><td>us-west1</td><td>sql</td><td>2023-02-01</td><td>0.8</td><td>1.0</td><td>0.24999999999999994</td></tr><tr><td>us-west1</td><td>sql</td><td>2023-03-01</td><td>0.8</td><td>1.2</td><td>0.4999999999999999</td></tr><tr><td>us-west1</td><td>sql</td><td>2023-04-01</td><td>0.8</td><td>1.3</td><td>0.625</td></tr><tr><td>us-west1</td><td>sql</td><td>2023-05-01</td><td>0.8</td><td>1.3</td><td>0.625</td></tr><tr><td>us-west1</td><td>sql</td><td>2023-06-01</td><td>0.8</td><td>1.3</td><td>0.625</td></tr><tr><td>us-west1</td><td>sql</td><td>2023-07-01</td><td>0.8</td><td>1.4</td><td>0.7499999999999998</td></tr><tr><td>us-west1</td><td>sql</td><td>2023-08-01</td><td>0.8</td><td>1.5</td><td>0.8749999999999999</td></tr><tr><td>us-west1</td><td>jobs</td><td>2023-01-01</td><td>1.1</td><td>1.1</td><td>0.0</td></tr><tr><td>us-west1</td><td>jobs</td><td>2023-02-01</td><td>1.1</td><td>1.5</td><td>0.36363636363636354</td></tr><tr><td>us-west1</td><td>jobs</td><td>2023-03-01</td><td>1.1</td><td>1.5</td><td>0.36363636363636354</td></tr><tr><td>us-west1</td><td>jobs</td><td>2023-04-01</td><td>1.1</td><td>1.5</td><td>0.36363636363636354</td></tr><tr><td>us-west1</td><td>jobs</td><td>2023-05-01</td><td>1.1</td><td>1.5</td><td>0.36363636363636354</td></tr><tr><td>us-west1</td><td>jobs</td><td>2023-06-01</td><td>1.1</td><td>1.5</td><td>0.36363636363636354</td></tr><tr><td>us-west1</td><td>jobs</td><td>2023-07-01</td><td>1.1</td><td>1.5</td><td>0.36363636363636354</td></tr><tr><td>us-west1</td><td>jobs</td><td>2023-08-01</td><td>1.1</td><td>1.5</td><td>0.36363636363636354</td></tr><tr><td>us-east1</td><td>sql</td><td>2023-01-01</td><td>1.5</td><td>1.4</td><td>-0.06666666666666672</td></tr><tr><td>us-east1</td><td>sql</td><td>2023-02-01</td><td>1.5</td><td>1.4</td><td>-0.06666666666666672</td></tr><tr><td>us-east1</td><td>sql</td><td>2023-03-01</td><td>1.5</td><td>1.4</td><td>-0.06666666666666672</td></tr><tr><td>us-east1</td><td>sql</td><td>2023-04-01</td><td>1.5</td><td>1.4</td><td>-0.06666666666666672</td></tr><tr><td>us-east1</td><td>sql</td><td>2023-05-01</td><td>1.5</td><td>1.5</td><td>0.0</td></tr><tr><td>us-east1</td><td>sql</td><td>2023-06-01</td><td>1.5</td><td>1.5</td><td>0.0</td></tr><tr><td>us-east1</td><td>sql</td><td>2023-07-01</td><td>1.5</td><td>1.5</td><td>0.0</td></tr><tr><td>us-east1</td><td>sql</td><td>2023-08-01</td><td>1.5</td><td>1.5</td><td>0.0</td></tr><tr><td>us-east1</td><td>jobs</td><td>2023-01-01</td><td>2.1</td><td>3.0</td><td>0.4285714285714285</td></tr><tr><td>us-east1</td><td>jobs</td><td>2023-02-01</td><td>2.1</td><td>3.0</td><td>0.4285714285714285</td></tr><tr><td>us-east1</td><td>jobs</td><td>2023-03-01</td><td>2.1</td><td>3.0</td><td>0.4285714285714285</td></tr><tr><td>us-east1</td><td>jobs</td><td>2023-04-01</td><td>2.1</td><td>3.0</td><td>0.4285714285714285</td></tr><tr><td>us-east1</td><td>jobs</td><td>2023-05-01</td><td>2.1</td><td>3.0</td><td>0.4285714285714285</td></tr><tr><td>us-east1</td><td>jobs</td><td>2023-06-01</td><td>2.1</td><td>3.0</td><td>0.4285714285714285</td></tr><tr><td>us-east1</td><td>jobs</td><td>2023-07-01</td><td>2.1</td><td>3.0</td><td>0.4285714285714285</td></tr><tr><td>us-east1</td><td>jobs</td><td>2023-08-01</td><td>2.1</td><td>3.0</td><td>0.4285714285714285</td></tr></tbody></table></div>"
      ]
     },
     "metadata": {
      "application/vnd.databricks.v1+output": {
       "addedWidgets": {},
       "aggData": [],
       "aggError": "",
       "aggOverflow": false,
       "aggSchema": [],
       "aggSeriesLimitReached": false,
       "aggType": "",
       "arguments": {},
       "columnCustomDisplayInfos": {},
       "data": [
        [
         "us-west1",
         "sql",
         "2023-01-01",
         0.8,
         0.6,
         -0.25000000000000006
        ],
        [
         "us-west1",
         "sql",
         "2023-02-01",
         0.8,
         1.0,
         0.24999999999999994
        ],
        [
         "us-west1",
         "sql",
         "2023-03-01",
         0.8,
         1.2,
         0.4999999999999999
        ],
        [
         "us-west1",
         "sql",
         "2023-04-01",
         0.8,
         1.3,
         0.625
        ],
        [
         "us-west1",
         "sql",
         "2023-05-01",
         0.8,
         1.3,
         0.625
        ],
        [
         "us-west1",
         "sql",
         "2023-06-01",
         0.8,
         1.3,
         0.625
        ],
        [
         "us-west1",
         "sql",
         "2023-07-01",
         0.8,
         1.4,
         0.7499999999999998
        ],
        [
         "us-west1",
         "sql",
         "2023-08-01",
         0.8,
         1.5,
         0.8749999999999999
        ],
        [
         "us-west1",
         "jobs",
         "2023-01-01",
         1.1,
         1.1,
         0.0
        ],
        [
         "us-west1",
         "jobs",
         "2023-02-01",
         1.1,
         1.5,
         0.36363636363636354
        ],
        [
         "us-west1",
         "jobs",
         "2023-03-01",
         1.1,
         1.5,
         0.36363636363636354
        ],
        [
         "us-west1",
         "jobs",
         "2023-04-01",
         1.1,
         1.5,
         0.36363636363636354
        ],
        [
         "us-west1",
         "jobs",
         "2023-05-01",
         1.1,
         1.5,
         0.36363636363636354
        ],
        [
         "us-west1",
         "jobs",
         "2023-06-01",
         1.1,
         1.5,
         0.36363636363636354
        ],
        [
         "us-west1",
         "jobs",
         "2023-07-01",
         1.1,
         1.5,
         0.36363636363636354
        ],
        [
         "us-west1",
         "jobs",
         "2023-08-01",
         1.1,
         1.5,
         0.36363636363636354
        ],
        [
         "us-east1",
         "sql",
         "2023-01-01",
         1.5,
         1.4,
         -0.06666666666666672
        ],
        [
         "us-east1",
         "sql",
         "2023-02-01",
         1.5,
         1.4,
         -0.06666666666666672
        ],
        [
         "us-east1",
         "sql",
         "2023-03-01",
         1.5,
         1.4,
         -0.06666666666666672
        ],
        [
         "us-east1",
         "sql",
         "2023-04-01",
         1.5,
         1.4,
         -0.06666666666666672
        ],
        [
         "us-east1",
         "sql",
         "2023-05-01",
         1.5,
         1.5,
         0.0
        ],
        [
         "us-east1",
         "sql",
         "2023-06-01",
         1.5,
         1.5,
         0.0
        ],
        [
         "us-east1",
         "sql",
         "2023-07-01",
         1.5,
         1.5,
         0.0
        ],
        [
         "us-east1",
         "sql",
         "2023-08-01",
         1.5,
         1.5,
         0.0
        ],
        [
         "us-east1",
         "jobs",
         "2023-01-01",
         2.1,
         3.0,
         0.4285714285714285
        ],
        [
         "us-east1",
         "jobs",
         "2023-02-01",
         2.1,
         3.0,
         0.4285714285714285
        ],
        [
         "us-east1",
         "jobs",
         "2023-03-01",
         2.1,
         3.0,
         0.4285714285714285
        ],
        [
         "us-east1",
         "jobs",
         "2023-04-01",
         2.1,
         3.0,
         0.4285714285714285
        ],
        [
         "us-east1",
         "jobs",
         "2023-05-01",
         2.1,
         3.0,
         0.4285714285714285
        ],
        [
         "us-east1",
         "jobs",
         "2023-06-01",
         2.1,
         3.0,
         0.4285714285714285
        ],
        [
         "us-east1",
         "jobs",
         "2023-07-01",
         2.1,
         3.0,
         0.4285714285714285
        ],
        [
         "us-east1",
         "jobs",
         "2023-08-01",
         2.1,
         3.0,
         0.4285714285714285
        ]
       ],
       "datasetInfos": [
        {
         "name": "_sqldf",
         "schema": {
          "fields": [
           {
            "metadata": {},
            "name": "region",
            "nullable": true,
            "type": "string"
           },
           {
            "metadata": {},
            "name": "product_line",
            "nullable": true,
            "type": "string"
           },
           {
            "metadata": {
             "__detected_date_formats": "yyyy-M"
            },
            "name": "month",
            "nullable": true,
            "type": "date"
           },
           {
            "metadata": {},
            "name": "cost_m_usd",
            "nullable": true,
            "type": "double"
           },
           {
            "metadata": {},
            "name": "revenue_m_usd",
            "nullable": true,
            "type": "double"
           },
           {
            "metadata": {},
            "name": "margin",
            "nullable": true,
            "type": "double"
           }
          ],
          "type": "struct"
         },
         "tableIdentifier": null,
         "typeStr": "pyspark.sql.dataframe.DataFrame"
        }
       ],
       "dbfsResultPath": null,
       "isJsonSchema": true,
       "metadata": {
        "dataframeName": "_sqldf",
        "executionCount": 1
       },
       "overflow": false,
       "plotOptions": {
        "customPlotOptions": {},
        "displayType": "table",
        "pivotAggregation": null,
        "pivotColumns": null,
        "xColumns": null,
        "yColumns": null
       },
       "removedWidgets": [],
       "schema": [
        {
         "metadata": "{}",
         "name": "region",
         "type": "\"string\""
        },
        {
         "metadata": "{}",
         "name": "product_line",
         "type": "\"string\""
        },
        {
         "metadata": "{\"__detected_date_formats\":\"yyyy-M\"}",
         "name": "month",
         "type": "\"date\""
        },
        {
         "metadata": "{}",
         "name": "cost_m_usd",
         "type": "\"double\""
        },
        {
         "metadata": "{}",
         "name": "revenue_m_usd",
         "type": "\"double\""
        },
        {
         "metadata": "{}",
         "name": "margin",
         "type": "\"double\""
        }
       ],
       "type": "table"
      }
     },
     "output_type": "display_data"
    }
   ],
   "source": [
    "%sql\n",
    "\n",
    "REFRESH TABLE region_margin;\n",
    "select * from region_margin;"
   ]
  },
  {
   "cell_type": "markdown",
   "metadata": {
    "application/vnd.databricks.v1+cell": {
     "cellMetadata": {
      "byteLimit": 2048000,
      "rowLimit": 10000
     },
     "inputWidgets": {},
     "nuid": "8fda5125-3ff0-4c99-82ea-20e3ce9a8ddc",
     "showTitle": false,
     "title": ""
    }
   },
   "source": [
    "# Load data to Dataframe"
   ]
  },
  {
   "cell_type": "code",
   "execution_count": 0,
   "metadata": {
    "application/vnd.databricks.v1+cell": {
     "cellMetadata": {
      "byteLimit": 2048000,
      "rowLimit": 10000
     },
     "inputWidgets": {},
     "nuid": "fd29860c-e983-4a64-8d92-5ab49af64ab1",
     "showTitle": false,
     "title": ""
    }
   },
   "outputs": [
    {
     "output_type": "stream",
     "name": "stdout",
     "output_type": "stream",
     "text": [
      "<class 'pandas.core.frame.DataFrame'>\nRangeIndex: 32 entries, 0 to 31\nData columns (total 4 columns):\n #   Column        Non-Null Count  Dtype         \n---  ------        --------------  -----         \n 0   margin        32 non-null     float64       \n 1   product_line  32 non-null     object        \n 2   region        32 non-null     object        \n 3   month         32 non-null     datetime64[ns]\ndtypes: datetime64[ns](1), float64(1), object(2)\nmemory usage: 1.1+ KB\n"
     ]
    }
   ],
   "source": [
    "import pandas as pd\n",
    "\n",
    "region_margins_sqldf=_sqldf\n",
    "region_margins_df = region_margins_sqldf.select('margin','product_line','region','month').toPandas()\n",
    "region_margins_df['month'] = pd.to_datetime(region_margins_df['month'])\n",
    "\n",
    "display(region_margins_df.info())"
   ]
  },
  {
   "cell_type": "markdown",
   "metadata": {
    "application/vnd.databricks.v1+cell": {
     "cellMetadata": {
      "byteLimit": 2048000,
      "rowLimit": 10000
     },
     "inputWidgets": {},
     "nuid": "11c9080f-316e-4857-bf2d-fb53dcb8aa1c",
     "showTitle": false,
     "title": ""
    }
   },
   "source": [
    "# TS Forecasting Experiment - Setup"
   ]
  },
  {
   "cell_type": "code",
   "execution_count": 0,
   "metadata": {
    "application/vnd.databricks.v1+cell": {
     "cellMetadata": {
      "byteLimit": 2048000,
      "rowLimit": 10000
     },
     "inputWidgets": {},
     "nuid": "43ff1452-8468-4147-85d8-7068f3d25fcc",
     "showTitle": false,
     "title": ""
    }
   },
   "outputs": [
    {
     "output_type": "stream",
     "name": "stderr",
     "output_type": "stream",
     "text": [
      "Exception ignored on calling ctypes callback function: <function _ThreadpoolInfo._find_modules_with_dl_iterate_phdr.<locals>.match_module_callback at 0x7f64dafd01f0>\nTraceback (most recent call last):\n  File \"/databricks/python/lib/python3.10/site-packages/threadpoolctl.py\", line 400, in match_module_callback\n    self._make_module_from_path(filepath)\n  File \"/databricks/python/lib/python3.10/site-packages/threadpoolctl.py\", line 515, in _make_module_from_path\n    module = module_class(filepath, prefix, user_api, internal_api)\n  File \"/databricks/python/lib/python3.10/site-packages/threadpoolctl.py\", line 606, in __init__\n    self.version = self.get_version()\n  File \"/databricks/python/lib/python3.10/site-packages/threadpoolctl.py\", line 646, in get_version\n    config = get_config().split()\nAttributeError: 'NoneType' object has no attribute 'split'\n"
     ]
    },
    {
     "output_type": "display_data",
     "data": {
      "text/html": [
       "<div>\n",
       "<style scoped>\n",
       "    .dataframe tbody tr th:only-of-type {\n",
       "        vertical-align: middle;\n",
       "    }\n",
       "\n",
       "    .dataframe tbody tr th {\n",
       "        vertical-align: top;\n",
       "    }\n",
       "\n",
       "    .dataframe thead th {\n",
       "        text-align: right;\n",
       "    }\n",
       "</style>\n",
       "<table border=\"1\" class=\"dataframe\">\n",
       "  <thead>\n",
       "    <tr style=\"text-align: right;\">\n",
       "      <th></th>\n",
       "      <th>Description</th>\n",
       "      <th>Value</th>\n",
       "    </tr>\n",
       "  </thead>\n",
       "  <tbody>\n",
       "    <tr>\n",
       "      <th>0</th>\n",
       "      <td>session_id</td>\n",
       "      <td>1</td>\n",
       "    </tr>\n",
       "    <tr>\n",
       "      <th>1</th>\n",
       "      <td>Target</td>\n",
       "      <td>margin</td>\n",
       "    </tr>\n",
       "    <tr>\n",
       "      <th>2</th>\n",
       "      <td>Approach</td>\n",
       "      <td>Univariate</td>\n",
       "    </tr>\n",
       "    <tr>\n",
       "      <th>3</th>\n",
       "      <td>Exogenous Variables</td>\n",
       "      <td>Present</td>\n",
       "    </tr>\n",
       "    <tr>\n",
       "      <th>4</th>\n",
       "      <td>Original data shape</td>\n",
       "      <td>(32, 2)</td>\n",
       "    </tr>\n",
       "    <tr>\n",
       "      <th>5</th>\n",
       "      <td>Transformed data shape</td>\n",
       "      <td>(32, 2)</td>\n",
       "    </tr>\n",
       "    <tr>\n",
       "      <th>6</th>\n",
       "      <td>Transformed train set shape</td>\n",
       "      <td>(29, 2)</td>\n",
       "    </tr>\n",
       "    <tr>\n",
       "      <th>7</th>\n",
       "      <td>Transformed test set shape</td>\n",
       "      <td>(3, 2)</td>\n",
       "    </tr>\n",
       "    <tr>\n",
       "      <th>8</th>\n",
       "      <td>Rows with missing values</td>\n",
       "      <td>0.0%</td>\n",
       "    </tr>\n",
       "    <tr>\n",
       "      <th>9</th>\n",
       "      <td>Fold Generator</td>\n",
       "      <td>ExpandingWindowSplitter</td>\n",
       "    </tr>\n",
       "    <tr>\n",
       "      <th>10</th>\n",
       "      <td>Fold Number</td>\n",
       "      <td>3</td>\n",
       "    </tr>\n",
       "    <tr>\n",
       "      <th>11</th>\n",
       "      <td>Enforce Prediction Interval</td>\n",
       "      <td>False</td>\n",
       "    </tr>\n",
       "    <tr>\n",
       "      <th>12</th>\n",
       "      <td>Splits used for hyperparameters</td>\n",
       "      <td>all</td>\n",
       "    </tr>\n",
       "    <tr>\n",
       "      <th>13</th>\n",
       "      <td>User Defined Seasonal Period(s)</td>\n",
       "      <td>None</td>\n",
       "    </tr>\n",
       "    <tr>\n",
       "      <th>14</th>\n",
       "      <td>Ignore Seasonality Test</td>\n",
       "      <td>False</td>\n",
       "    </tr>\n",
       "    <tr>\n",
       "      <th>15</th>\n",
       "      <td>Seasonality Detection Algo</td>\n",
       "      <td>auto</td>\n",
       "    </tr>\n",
       "    <tr>\n",
       "      <th>16</th>\n",
       "      <td>Max Period to Consider</td>\n",
       "      <td>60</td>\n",
       "    </tr>\n",
       "    <tr>\n",
       "      <th>17</th>\n",
       "      <td>Seasonal Period(s) Tested</td>\n",
       "      <td>[]</td>\n",
       "    </tr>\n",
       "    <tr>\n",
       "      <th>18</th>\n",
       "      <td>Significant Seasonal Period(s)</td>\n",
       "      <td>[1]</td>\n",
       "    </tr>\n",
       "    <tr>\n",
       "      <th>19</th>\n",
       "      <td>Significant Seasonal Period(s) without Harmonics</td>\n",
       "      <td>[1]</td>\n",
       "    </tr>\n",
       "    <tr>\n",
       "      <th>20</th>\n",
       "      <td>Remove Harmonics</td>\n",
       "      <td>False</td>\n",
       "    </tr>\n",
       "    <tr>\n",
       "      <th>21</th>\n",
       "      <td>Harmonics Order Method</td>\n",
       "      <td>harmonic_max</td>\n",
       "    </tr>\n",
       "    <tr>\n",
       "      <th>22</th>\n",
       "      <td>Num Seasonalities to Use</td>\n",
       "      <td>1</td>\n",
       "    </tr>\n",
       "    <tr>\n",
       "      <th>23</th>\n",
       "      <td>All Seasonalities to Use</td>\n",
       "      <td>[1]</td>\n",
       "    </tr>\n",
       "    <tr>\n",
       "      <th>24</th>\n",
       "      <td>Primary Seasonality</td>\n",
       "      <td>1</td>\n",
       "    </tr>\n",
       "    <tr>\n",
       "      <th>25</th>\n",
       "      <td>Seasonality Present</td>\n",
       "      <td>False</td>\n",
       "    </tr>\n",
       "    <tr>\n",
       "      <th>26</th>\n",
       "      <td>Seasonality Type</td>\n",
       "      <td>None</td>\n",
       "    </tr>\n",
       "    <tr>\n",
       "      <th>27</th>\n",
       "      <td>Target Strictly Positive</td>\n",
       "      <td>False</td>\n",
       "    </tr>\n",
       "    <tr>\n",
       "      <th>28</th>\n",
       "      <td>Target White Noise</td>\n",
       "      <td>No</td>\n",
       "    </tr>\n",
       "    <tr>\n",
       "      <th>29</th>\n",
       "      <td>Recommended d</td>\n",
       "      <td>0</td>\n",
       "    </tr>\n",
       "    <tr>\n",
       "      <th>30</th>\n",
       "      <td>Recommended Seasonal D</td>\n",
       "      <td>0</td>\n",
       "    </tr>\n",
       "    <tr>\n",
       "      <th>31</th>\n",
       "      <td>Preprocess</td>\n",
       "      <td>False</td>\n",
       "    </tr>\n",
       "    <tr>\n",
       "      <th>32</th>\n",
       "      <td>CPU Jobs</td>\n",
       "      <td>-1</td>\n",
       "    </tr>\n",
       "    <tr>\n",
       "      <th>33</th>\n",
       "      <td>Use GPU</td>\n",
       "      <td>False</td>\n",
       "    </tr>\n",
       "    <tr>\n",
       "      <th>34</th>\n",
       "      <td>Log Experiment</td>\n",
       "      <td>False</td>\n",
       "    </tr>\n",
       "    <tr>\n",
       "      <th>35</th>\n",
       "      <td>Experiment Name</td>\n",
       "      <td>ts-default-name</td>\n",
       "    </tr>\n",
       "    <tr>\n",
       "      <th>36</th>\n",
       "      <td>USI</td>\n",
       "      <td>1239</td>\n",
       "    </tr>\n",
       "  </tbody>\n",
       "</table>\n",
       "</div>"
      ],
      "text/plain": [
       "                                         Description                    Value\n",
       "0                                         session_id                        1\n",
       "1                                             Target                   margin\n",
       "2                                           Approach               Univariate\n",
       "3                                Exogenous Variables                  Present\n",
       "4                                Original data shape                  (32, 2)\n",
       "5                             Transformed data shape                  (32, 2)\n",
       "6                        Transformed train set shape                  (29, 2)\n",
       "7                         Transformed test set shape                   (3, 2)\n",
       "8                           Rows with missing values                     0.0%\n",
       "9                                     Fold Generator  ExpandingWindowSplitter\n",
       "10                                       Fold Number                        3\n",
       "11                       Enforce Prediction Interval                    False\n",
       "12                   Splits used for hyperparameters                      all\n",
       "13                   User Defined Seasonal Period(s)                     None\n",
       "14                           Ignore Seasonality Test                    False\n",
       "15                        Seasonality Detection Algo                     auto\n",
       "16                            Max Period to Consider                       60\n",
       "17                         Seasonal Period(s) Tested                       []\n",
       "18                    Significant Seasonal Period(s)                      [1]\n",
       "19  Significant Seasonal Period(s) without Harmonics                      [1]\n",
       "20                                  Remove Harmonics                    False\n",
       "21                            Harmonics Order Method             harmonic_max\n",
       "22                          Num Seasonalities to Use                        1\n",
       "23                          All Seasonalities to Use                      [1]\n",
       "24                               Primary Seasonality                        1\n",
       "25                               Seasonality Present                    False\n",
       "26                                  Seasonality Type                     None\n",
       "27                          Target Strictly Positive                    False\n",
       "28                                Target White Noise                       No\n",
       "29                                     Recommended d                        0\n",
       "30                            Recommended Seasonal D                        0\n",
       "31                                        Preprocess                    False\n",
       "32                                          CPU Jobs                       -1\n",
       "33                                           Use GPU                    False\n",
       "34                                    Log Experiment                    False\n",
       "35                                   Experiment Name          ts-default-name\n",
       "36                                               USI                     1239"
      ]
     },
     "metadata": {},
     "output_type": "display_data"
    }
   ],
   "source": [
    "from pycaret.time_series import *\n",
    "exp = TSForecastingExperiment()\n",
    "data = region_margins_df[['month','margin']]\n",
    "s = exp.setup(data=data,target='margin', fh=3, session_id=1)  \n"
   ]
  },
  {
   "cell_type": "markdown",
   "metadata": {
    "application/vnd.databricks.v1+cell": {
     "cellMetadata": {
      "byteLimit": 2048000,
      "rowLimit": 10000
     },
     "inputWidgets": {},
     "nuid": "9c11adda-0e84-4bf2-ab15-7fa0ea0816fb",
     "showTitle": false,
     "title": ""
    }
   },
   "source": [
    "# Check Data Stats"
   ]
  },
  {
   "cell_type": "code",
   "execution_count": 0,
   "metadata": {
    "application/vnd.databricks.v1+cell": {
     "cellMetadata": {
      "byteLimit": 2048000,
      "rowLimit": 10000
     },
     "inputWidgets": {},
     "nuid": "c9b2c270-3900-4100-86de-6334c3863b9d",
     "showTitle": false,
     "title": ""
    }
   },
   "outputs": [
    {
     "output_type": "execute_result",
     "data": {
      "text/html": [
       "<div>\n",
       "<style scoped>\n",
       "    .dataframe tbody tr th:only-of-type {\n",
       "        vertical-align: middle;\n",
       "    }\n",
       "\n",
       "    .dataframe tbody tr th {\n",
       "        vertical-align: top;\n",
       "    }\n",
       "\n",
       "    .dataframe thead th {\n",
       "        text-align: right;\n",
       "    }\n",
       "</style>\n",
       "<table border=\"1\" class=\"dataframe\">\n",
       "  <thead>\n",
       "    <tr style=\"text-align: right;\">\n",
       "      <th></th>\n",
       "      <th>Test</th>\n",
       "      <th>Test Name</th>\n",
       "      <th>Data</th>\n",
       "      <th>Property</th>\n",
       "      <th>Setting</th>\n",
       "      <th>Value</th>\n",
       "    </tr>\n",
       "  </thead>\n",
       "  <tbody>\n",
       "    <tr>\n",
       "      <th>0</th>\n",
       "      <td>Summary</td>\n",
       "      <td>Statistics</td>\n",
       "      <td>Transformed</td>\n",
       "      <td>Length</td>\n",
       "      <td></td>\n",
       "      <td>32.0</td>\n",
       "    </tr>\n",
       "    <tr>\n",
       "      <th>1</th>\n",
       "      <td>Summary</td>\n",
       "      <td>Statistics</td>\n",
       "      <td>Transformed</td>\n",
       "      <td># Missing Values</td>\n",
       "      <td></td>\n",
       "      <td>0.0</td>\n",
       "    </tr>\n",
       "    <tr>\n",
       "      <th>2</th>\n",
       "      <td>Summary</td>\n",
       "      <td>Statistics</td>\n",
       "      <td>Transformed</td>\n",
       "      <td>Mean</td>\n",
       "      <td></td>\n",
       "      <td>0.303355</td>\n",
       "    </tr>\n",
       "    <tr>\n",
       "      <th>3</th>\n",
       "      <td>Summary</td>\n",
       "      <td>Statistics</td>\n",
       "      <td>Transformed</td>\n",
       "      <td>Median</td>\n",
       "      <td></td>\n",
       "      <td>0.363636</td>\n",
       "    </tr>\n",
       "    <tr>\n",
       "      <th>4</th>\n",
       "      <td>Summary</td>\n",
       "      <td>Statistics</td>\n",
       "      <td>Transformed</td>\n",
       "      <td>Standard Deviation</td>\n",
       "      <td></td>\n",
       "      <td>0.27492</td>\n",
       "    </tr>\n",
       "    <tr>\n",
       "      <th>5</th>\n",
       "      <td>Summary</td>\n",
       "      <td>Statistics</td>\n",
       "      <td>Transformed</td>\n",
       "      <td>Variance</td>\n",
       "      <td></td>\n",
       "      <td>0.075581</td>\n",
       "    </tr>\n",
       "    <tr>\n",
       "      <th>6</th>\n",
       "      <td>Summary</td>\n",
       "      <td>Statistics</td>\n",
       "      <td>Transformed</td>\n",
       "      <td>Kurtosis</td>\n",
       "      <td></td>\n",
       "      <td>-0.617765</td>\n",
       "    </tr>\n",
       "    <tr>\n",
       "      <th>7</th>\n",
       "      <td>Summary</td>\n",
       "      <td>Statistics</td>\n",
       "      <td>Transformed</td>\n",
       "      <td>Skewness</td>\n",
       "      <td></td>\n",
       "      <td>-0.184213</td>\n",
       "    </tr>\n",
       "    <tr>\n",
       "      <th>8</th>\n",
       "      <td>Summary</td>\n",
       "      <td>Statistics</td>\n",
       "      <td>Transformed</td>\n",
       "      <td># Distinct Values</td>\n",
       "      <td></td>\n",
       "      <td>10.0</td>\n",
       "    </tr>\n",
       "    <tr>\n",
       "      <th>9</th>\n",
       "      <td>White Noise</td>\n",
       "      <td>Ljung-Box</td>\n",
       "      <td>Transformed</td>\n",
       "      <td>Test Statictic</td>\n",
       "      <td>{'alpha': 0.05, 'K': 24}</td>\n",
       "      <td>69.141186</td>\n",
       "    </tr>\n",
       "    <tr>\n",
       "      <th>10</th>\n",
       "      <td>White Noise</td>\n",
       "      <td>Ljung-Box</td>\n",
       "      <td>Transformed</td>\n",
       "      <td>p-value</td>\n",
       "      <td>{'alpha': 0.05, 'K': 24}</td>\n",
       "      <td>0.000003</td>\n",
       "    </tr>\n",
       "    <tr>\n",
       "      <th>11</th>\n",
       "      <td>White Noise</td>\n",
       "      <td>Ljung-Box</td>\n",
       "      <td>Transformed</td>\n",
       "      <td>White Noise</td>\n",
       "      <td>{'alpha': 0.05, 'K': 24}</td>\n",
       "      <td>False</td>\n",
       "    </tr>\n",
       "    <tr>\n",
       "      <th>12</th>\n",
       "      <td>Stationarity</td>\n",
       "      <td>ADF</td>\n",
       "      <td>Transformed</td>\n",
       "      <td>Stationarity</td>\n",
       "      <td>{'alpha': 0.05}</td>\n",
       "      <td>True</td>\n",
       "    </tr>\n",
       "    <tr>\n",
       "      <th>13</th>\n",
       "      <td>Stationarity</td>\n",
       "      <td>ADF</td>\n",
       "      <td>Transformed</td>\n",
       "      <td>p-value</td>\n",
       "      <td>{'alpha': 0.05}</td>\n",
       "      <td>0.0297</td>\n",
       "    </tr>\n",
       "    <tr>\n",
       "      <th>14</th>\n",
       "      <td>Stationarity</td>\n",
       "      <td>ADF</td>\n",
       "      <td>Transformed</td>\n",
       "      <td>Test Statistic</td>\n",
       "      <td>{'alpha': 0.05}</td>\n",
       "      <td>-3.059493</td>\n",
       "    </tr>\n",
       "    <tr>\n",
       "      <th>15</th>\n",
       "      <td>Stationarity</td>\n",
       "      <td>ADF</td>\n",
       "      <td>Transformed</td>\n",
       "      <td>Critical Value 1%</td>\n",
       "      <td>{'alpha': 0.05}</td>\n",
       "      <td>-3.661429</td>\n",
       "    </tr>\n",
       "    <tr>\n",
       "      <th>16</th>\n",
       "      <td>Stationarity</td>\n",
       "      <td>ADF</td>\n",
       "      <td>Transformed</td>\n",
       "      <td>Critical Value 5%</td>\n",
       "      <td>{'alpha': 0.05}</td>\n",
       "      <td>-2.960525</td>\n",
       "    </tr>\n",
       "    <tr>\n",
       "      <th>17</th>\n",
       "      <td>Stationarity</td>\n",
       "      <td>ADF</td>\n",
       "      <td>Transformed</td>\n",
       "      <td>Critical Value 10%</td>\n",
       "      <td>{'alpha': 0.05}</td>\n",
       "      <td>-2.619319</td>\n",
       "    </tr>\n",
       "    <tr>\n",
       "      <th>18</th>\n",
       "      <td>Stationarity</td>\n",
       "      <td>KPSS</td>\n",
       "      <td>Transformed</td>\n",
       "      <td>Trend Stationarity</td>\n",
       "      <td>{'alpha': 0.05}</td>\n",
       "      <td>True</td>\n",
       "    </tr>\n",
       "    <tr>\n",
       "      <th>19</th>\n",
       "      <td>Stationarity</td>\n",
       "      <td>KPSS</td>\n",
       "      <td>Transformed</td>\n",
       "      <td>p-value</td>\n",
       "      <td>{'alpha': 0.05}</td>\n",
       "      <td>0.090739</td>\n",
       "    </tr>\n",
       "    <tr>\n",
       "      <th>20</th>\n",
       "      <td>Stationarity</td>\n",
       "      <td>KPSS</td>\n",
       "      <td>Transformed</td>\n",
       "      <td>Test Statistic</td>\n",
       "      <td>{'alpha': 0.05}</td>\n",
       "      <td>0.124001</td>\n",
       "    </tr>\n",
       "    <tr>\n",
       "      <th>21</th>\n",
       "      <td>Stationarity</td>\n",
       "      <td>KPSS</td>\n",
       "      <td>Transformed</td>\n",
       "      <td>Critical Value 10%</td>\n",
       "      <td>{'alpha': 0.05}</td>\n",
       "      <td>0.119</td>\n",
       "    </tr>\n",
       "    <tr>\n",
       "      <th>22</th>\n",
       "      <td>Stationarity</td>\n",
       "      <td>KPSS</td>\n",
       "      <td>Transformed</td>\n",
       "      <td>Critical Value 5%</td>\n",
       "      <td>{'alpha': 0.05}</td>\n",
       "      <td>0.146</td>\n",
       "    </tr>\n",
       "    <tr>\n",
       "      <th>23</th>\n",
       "      <td>Stationarity</td>\n",
       "      <td>KPSS</td>\n",
       "      <td>Transformed</td>\n",
       "      <td>Critical Value 2.5%</td>\n",
       "      <td>{'alpha': 0.05}</td>\n",
       "      <td>0.176</td>\n",
       "    </tr>\n",
       "    <tr>\n",
       "      <th>24</th>\n",
       "      <td>Stationarity</td>\n",
       "      <td>KPSS</td>\n",
       "      <td>Transformed</td>\n",
       "      <td>Critical Value 1%</td>\n",
       "      <td>{'alpha': 0.05}</td>\n",
       "      <td>0.216</td>\n",
       "    </tr>\n",
       "    <tr>\n",
       "      <th>25</th>\n",
       "      <td>Normality</td>\n",
       "      <td>Shapiro</td>\n",
       "      <td>Transformed</td>\n",
       "      <td>Normality</td>\n",
       "      <td>{'alpha': 0.05}</td>\n",
       "      <td>False</td>\n",
       "    </tr>\n",
       "    <tr>\n",
       "      <th>26</th>\n",
       "      <td>Normality</td>\n",
       "      <td>Shapiro</td>\n",
       "      <td>Transformed</td>\n",
       "      <td>p-value</td>\n",
       "      <td>{'alpha': 0.05}</td>\n",
       "      <td>0.017907</td>\n",
       "    </tr>\n",
       "  </tbody>\n",
       "</table>\n",
       "</div>"
      ],
      "text/plain": [
       "            Test   Test Name  ...                   Setting      Value\n",
       "0        Summary  Statistics  ...                                 32.0\n",
       "1        Summary  Statistics  ...                                  0.0\n",
       "2        Summary  Statistics  ...                             0.303355\n",
       "3        Summary  Statistics  ...                             0.363636\n",
       "4        Summary  Statistics  ...                              0.27492\n",
       "5        Summary  Statistics  ...                             0.075581\n",
       "6        Summary  Statistics  ...                            -0.617765\n",
       "7        Summary  Statistics  ...                            -0.184213\n",
       "8        Summary  Statistics  ...                                 10.0\n",
       "9    White Noise   Ljung-Box  ...  {'alpha': 0.05, 'K': 24}  69.141186\n",
       "10   White Noise   Ljung-Box  ...  {'alpha': 0.05, 'K': 24}   0.000003\n",
       "11   White Noise   Ljung-Box  ...  {'alpha': 0.05, 'K': 24}      False\n",
       "12  Stationarity         ADF  ...           {'alpha': 0.05}       True\n",
       "13  Stationarity         ADF  ...           {'alpha': 0.05}     0.0297\n",
       "14  Stationarity         ADF  ...           {'alpha': 0.05}  -3.059493\n",
       "15  Stationarity         ADF  ...           {'alpha': 0.05}  -3.661429\n",
       "16  Stationarity         ADF  ...           {'alpha': 0.05}  -2.960525\n",
       "17  Stationarity         ADF  ...           {'alpha': 0.05}  -2.619319\n",
       "18  Stationarity        KPSS  ...           {'alpha': 0.05}       True\n",
       "19  Stationarity        KPSS  ...           {'alpha': 0.05}   0.090739\n",
       "20  Stationarity        KPSS  ...           {'alpha': 0.05}   0.124001\n",
       "21  Stationarity        KPSS  ...           {'alpha': 0.05}      0.119\n",
       "22  Stationarity        KPSS  ...           {'alpha': 0.05}      0.146\n",
       "23  Stationarity        KPSS  ...           {'alpha': 0.05}      0.176\n",
       "24  Stationarity        KPSS  ...           {'alpha': 0.05}      0.216\n",
       "25     Normality     Shapiro  ...           {'alpha': 0.05}      False\n",
       "26     Normality     Shapiro  ...           {'alpha': 0.05}   0.017907\n",
       "\n",
       "[27 rows x 6 columns]"
      ]
     },
     "execution_count": 4,
     "metadata": {},
     "output_type": "execute_result"
    }
   ],
   "source": [
    "s.check_stats()"
   ]
  },
  {
   "cell_type": "markdown",
   "metadata": {
    "application/vnd.databricks.v1+cell": {
     "cellMetadata": {
      "byteLimit": 2048000,
      "rowLimit": 10000
     },
     "inputWidgets": {},
     "nuid": "305a1e2c-d7ba-41c6-91b6-37cbaee1d2f7",
     "showTitle": false,
     "title": ""
    }
   },
   "source": [
    "# Compare Experiment Models"
   ]
  },
  {
   "cell_type": "code",
   "execution_count": 0,
   "metadata": {
    "application/vnd.databricks.v1+cell": {
     "cellMetadata": {
      "byteLimit": 2048000,
      "rowLimit": 10000
     },
     "inputWidgets": {},
     "nuid": "fc36de04-1c72-4466-8c0d-47fd3f26cee5",
     "showTitle": false,
     "title": ""
    }
   },
   "outputs": [
    {
     "output_type": "display_data",
     "data": {
      "text/html": [
       "<div>\n",
       "<style scoped>\n",
       "    .dataframe tbody tr th:only-of-type {\n",
       "        vertical-align: middle;\n",
       "    }\n",
       "\n",
       "    .dataframe tbody tr th {\n",
       "        vertical-align: top;\n",
       "    }\n",
       "\n",
       "    .dataframe thead th {\n",
       "        text-align: right;\n",
       "    }\n",
       "</style>\n",
       "<table border=\"1\" class=\"dataframe\">\n",
       "  <thead>\n",
       "    <tr style=\"text-align: right;\">\n",
       "      <th></th>\n",
       "      <th>Model</th>\n",
       "      <th>MASE</th>\n",
       "      <th>RMSSE</th>\n",
       "      <th>MAE</th>\n",
       "      <th>RMSE</th>\n",
       "      <th>MAPE</th>\n",
       "      <th>SMAPE</th>\n",
       "      <th>R2</th>\n",
       "      <th>TT (Sec)</th>\n",
       "    </tr>\n",
       "  </thead>\n",
       "  <tbody>\n",
       "    <tr>\n",
       "      <th>naive</th>\n",
       "      <td>Naive Forecaster</td>\n",
       "      <td>0.8836</td>\n",
       "      <td>0.5355</td>\n",
       "      <td>0.1175</td>\n",
       "      <td>0.1389</td>\n",
       "      <td>1.000800e+14</td>\n",
       "      <td>1.1111</td>\n",
       "      <td>-3.333000e-01</td>\n",
       "      <td>2.1400</td>\n",
       "    </tr>\n",
       "    <tr>\n",
       "      <th>grand_means</th>\n",
       "      <td>Grand Means Forecaster</td>\n",
       "      <td>1.6013</td>\n",
       "      <td>0.8441</td>\n",
       "      <td>0.2209</td>\n",
       "      <td>0.2235</td>\n",
       "      <td>6.078904e+14</td>\n",
       "      <td>1.1336</td>\n",
       "      <td>-2.569179e+30</td>\n",
       "      <td>0.0533</td>\n",
       "    </tr>\n",
       "    <tr>\n",
       "      <th>croston</th>\n",
       "      <td>Croston</td>\n",
       "      <td>1.7290</td>\n",
       "      <td>0.9283</td>\n",
       "      <td>0.2377</td>\n",
       "      <td>0.2449</td>\n",
       "      <td>6.233455e+14</td>\n",
       "      <td>1.1891</td>\n",
       "      <td>-5.222455e+30</td>\n",
       "      <td>0.0400</td>\n",
       "    </tr>\n",
       "  </tbody>\n",
       "</table>\n",
       "</div>"
      ],
      "text/plain": [
       "                              Model    MASE   RMSSE     MAE    RMSE  \\\n",
       "naive              Naive Forecaster  0.8836  0.5355  0.1175  0.1389   \n",
       "grand_means  Grand Means Forecaster  1.6013  0.8441  0.2209  0.2235   \n",
       "croston                     Croston  1.7290  0.9283  0.2377  0.2449   \n",
       "\n",
       "                     MAPE   SMAPE            R2  TT (Sec)  \n",
       "naive        1.000800e+14  1.1111 -3.333000e-01    2.1400  \n",
       "grand_means  6.078904e+14  1.1336 -2.569179e+30    0.0533  \n",
       "croston      6.233455e+14  1.1891 -5.222455e+30    0.0400  "
      ]
     },
     "metadata": {},
     "output_type": "display_data"
    },
    {
     "output_type": "stream",
     "name": "stderr",
     "output_type": "stream",
     "text": [
      "\rProcessing:   0%|          | 0/97 [00:00<?, ?it/s]\rProcessing:   5%|▌         | 5/97 [00:06<01:58,  1.29s/it]\rProcessing:   7%|▋         | 7/97 [00:06<01:18,  1.15it/s]\rProcessing:   9%|▉         | 9/97 [00:06<00:52,  1.66it/s]\rProcessing:  11%|█▏        | 11/97 [00:07<00:38,  2.26it/s]\rProcessing:  13%|█▎        | 13/97 [00:07<00:27,  3.04it/s]\rProcessing:  15%|█▌        | 15/97 [00:07<00:21,  3.85it/s]\rProcessing:  18%|█▊        | 17/97 [00:07<00:16,  4.90it/s]\rProcessing:  20%|█▉        | 19/97 [00:07<00:13,  5.69it/s]\rProcessing:  22%|██▏       | 21/97 [00:08<00:11,  6.76it/s]\rProcessing:  24%|██▎       | 23/97 [00:08<00:10,  7.29it/s]\rProcessing:  26%|██▌       | 25/97 [00:08<00:08,  8.21it/s]\rProcessing:  28%|██▊       | 27/97 [00:08<00:08,  8.37it/s]\rProcessing:  30%|██▉       | 29/97 [00:08<00:06,  9.73it/s]\rProcessing:  32%|███▏      | 31/97 [00:09<00:07,  9.27it/s]\rProcessing:  34%|███▍      | 33/97 [00:09<00:12,  5.24it/s]\rProcessing:  36%|███▌      | 35/97 [00:10<00:10,  5.98it/s]\rProcessing:  38%|███▊      | 37/97 [00:10<00:09,  6.08it/s]\rProcessing:  40%|████      | 39/97 [00:10<00:08,  6.68it/s]\rProcessing:  42%|████▏     | 41/97 [00:10<00:08,  6.55it/s]\rProcessing:  44%|████▍     | 43/97 [00:11<00:07,  7.06it/s]\rProcessing:  46%|████▋     | 45/97 [00:11<00:07,  6.77it/s]\rProcessing:  48%|████▊     | 47/97 [00:11<00:06,  7.30it/s]\rProcessing:  51%|█████     | 49/97 [00:12<00:07,  6.85it/s]\rProcessing:  53%|█████▎    | 51/97 [00:12<00:06,  7.31it/s]\rProcessing:  55%|█████▍    | 53/97 [00:12<00:06,  6.92it/s]\rProcessing:  57%|█████▋    | 55/97 [00:12<00:05,  7.43it/s]\rProcessing:  59%|█████▉    | 57/97 [00:13<00:05,  6.81it/s]\rProcessing:  61%|██████    | 59/97 [00:13<00:05,  7.28it/s]\rProcessing:  63%|██████▎   | 61/97 [00:13<00:05,  6.92it/s]\rProcessing:  65%|██████▍   | 63/97 [00:13<00:04,  7.02it/s]\rProcessing:  67%|██████▋   | 65/97 [00:14<00:04,  6.64it/s]\rProcessing:  69%|██████▉   | 67/97 [00:14<00:04,  7.24it/s]\rProcessing:  71%|███████   | 69/97 [00:14<00:04,  6.77it/s]\rProcessing:  73%|███████▎  | 71/97 [00:15<00:03,  7.31it/s]\rProcessing:  75%|███████▌  | 73/97 [00:15<00:03,  6.94it/s]\rProcessing:  77%|███████▋  | 75/97 [00:15<00:02,  7.38it/s]\rProcessing:  79%|███████▉  | 77/97 [00:15<00:02,  7.03it/s]\rProcessing:  81%|████████▏ | 79/97 [00:16<00:02,  7.51it/s]\rProcessing:  84%|████████▎ | 81/97 [00:16<00:02,  7.10it/s]\rProcessing:  86%|████████▌ | 83/97 [00:16<00:01,  7.50it/s]\rProcessing:  88%|████████▊ | 85/97 [00:17<00:01,  7.09it/s]\rProcessing:  90%|████████▉ | 87/97 [00:17<00:01,  7.54it/s]\rProcessing:  92%|█████████▏| 89/97 [00:17<00:01,  7.08it/s]\rProcessing:  94%|█████████▍| 91/97 [00:17<00:00,  7.50it/s]\rProcessing:  96%|█████████▌| 93/97 [00:18<00:00,  7.03it/s]\rProcessing:  98%|█████████▊| 95/97 [00:18<00:00,  7.53it/s]\rProcessing: 100%|██████████| 97/97 [00:18<00:00,  7.07it/s]\r                                                           \r"
     ]
    }
   ],
   "source": [
    "best = exp.compare_models()\n"
   ]
  },
  {
   "cell_type": "markdown",
   "metadata": {
    "application/vnd.databricks.v1+cell": {
     "cellMetadata": {
      "byteLimit": 2048000,
      "rowLimit": 10000
     },
     "inputWidgets": {},
     "nuid": "e7442411-31a2-49f5-a78b-3d10270afb96",
     "showTitle": false,
     "title": ""
    }
   },
   "source": [
    "\n",
    "# Plot forecast for 12 months in future"
   ]
  },
  {
   "cell_type": "code",
   "execution_count": 0,
   "metadata": {
    "application/vnd.databricks.v1+cell": {
     "cellMetadata": {
      "byteLimit": 2048000,
      "rowLimit": 10000
     },
     "inputWidgets": {},
     "nuid": "928ae7f1-e5c5-4165-8d71-cb8801a1499d",
     "showTitle": false,
     "title": ""
    }
   },
   "outputs": [
    {
     "output_type": "display_data",
     "data": {
      "text/html": [
       "<html>\n",
       "<head><meta charset=\"utf-8\" /></head>\n",
       "<body>\n",
       "    <div>            <script src=\"https://cdnjs.cloudflare.com/ajax/libs/mathjax/2.7.5/MathJax.js?config=TeX-AMS-MML_SVG\"></script><script type=\"text/javascript\">if (window.MathJax && window.MathJax.Hub && window.MathJax.Hub.Config) {window.MathJax.Hub.Config({SVG: {font: \"STIX-Web\"}});}</script>                <script type=\"text/javascript\">window.PlotlyConfig = {MathJaxConfig: 'local'};</script>\n",
       "        <script src=\"https://cdn.plot.ly/plotly-2.12.1.min.js\"></script>                <div id=\"f71188fe-949d-4073-98cf-7796ed20d4b8\" class=\"plotly-graph-div\" style=\"height:100%; width:100%;\"></div>            <script type=\"text/javascript\">                                    window.PLOTLYENV=window.PLOTLYENV || {};                                    if (document.getElementById(\"f71188fe-949d-4073-98cf-7796ed20d4b8\")) {                    Plotly.newPlot(                        \"f71188fe-949d-4073-98cf-7796ed20d4b8\",                        [{\"line\":{\"color\":\"#1f77b4\"},\"marker\":{\"size\":5},\"mode\":\"lines+markers\",\"name\":\"Forecast | Naive Forecaster\",\"showlegend\":true,\"x\":[29,30,31,32,33,34,35,36,37,38,39,40],\"y\":[0.4286,0.4286,0.4286,0.4286,0.4286,0.4286,0.4286,0.4286,0.4286,0.4286,0.4286,0.4286],\"type\":\"scatter\"},{\"line\":{\"width\":0},\"marker\":{\"color\":\"#68BBE3\"},\"mode\":\"lines\",\"name\":\"Lower Interval\",\"showlegend\":false,\"x\":[29,30,31,32,33,34,35,36,37,38,39,40],\"y\":[0.0316,-0.1328,-0.2589,-0.3653,-0.459,-0.5437,-0.6216,-0.6941,-0.7622,-0.8266,-0.8879,-0.9464],\"type\":\"scatter\"},{\"fill\":\"tonexty\",\"fillcolor\":\"rgba(104,187,227,0.5)\",\"line\":{\"width\":0},\"marker\":{\"color\":\"#68BBE3\"},\"mode\":\"lines\",\"name\":\"Prediction Interval | Naive Forecaster\",\"showlegend\":true,\"x\":[29,30,31,32,33,34,35,36,37,38,39,40],\"y\":[0.8255,0.9899,1.1161,1.2224,1.3161,1.4008,1.4787,1.5512,1.6194,1.6838,1.745,1.8036],\"type\":\"scatter\"},{\"marker\":{\"color\":\"#3f3f3f\",\"size\":5},\"mode\":\"lines+markers\",\"name\":\"Original\",\"showlegend\":true,\"x\":[0,1,2,3,4,5,6,7,8,9,10,11,12,13,14,15,16,17,18,19,20,21,22,23,24,25,26,27,28,29,30,31],\"y\":[-0.25000000000000006,0.24999999999999994,0.4999999999999999,0.625,0.625,0.625,0.7499999999999998,0.8749999999999999,0.0,0.36363636363636354,0.36363636363636354,0.36363636363636354,0.36363636363636354,0.36363636363636354,0.36363636363636354,0.36363636363636354,-0.06666666666666672,-0.06666666666666672,-0.06666666666666672,-0.06666666666666672,0.0,0.0,0.0,0.0,0.4285714285714285,0.4285714285714285,0.4285714285714285,0.4285714285714285,0.4285714285714285,0.4285714285714285,0.4285714285714285,0.4285714285714285],\"type\":\"scatter\"}],                        {\"title\":{\"text\":\"Actual vs. 'Out-of-Sample' Forecast | margin\"},\"xaxis\":{\"title\":{\"text\":\"Time\"}},\"yaxis\":{\"title\":{\"text\":\"Values\"}},\"template\":{\"data\":{\"barpolar\":[{\"marker\":{\"line\":{\"color\":\"rgb(237,237,237)\",\"width\":0.5},\"pattern\":{\"fillmode\":\"overlay\",\"size\":10,\"solidity\":0.2}},\"type\":\"barpolar\"}],\"bar\":[{\"error_x\":{\"color\":\"rgb(51,51,51)\"},\"error_y\":{\"color\":\"rgb(51,51,51)\"},\"marker\":{\"line\":{\"color\":\"rgb(237,237,237)\",\"width\":0.5},\"pattern\":{\"fillmode\":\"overlay\",\"size\":10,\"solidity\":0.2}},\"type\":\"bar\"}],\"carpet\":[{\"aaxis\":{\"endlinecolor\":\"rgb(51,51,51)\",\"gridcolor\":\"white\",\"linecolor\":\"white\",\"minorgridcolor\":\"white\",\"startlinecolor\":\"rgb(51,51,51)\"},\"baxis\":{\"endlinecolor\":\"rgb(51,51,51)\",\"gridcolor\":\"white\",\"linecolor\":\"white\",\"minorgridcolor\":\"white\",\"startlinecolor\":\"rgb(51,51,51)\"},\"type\":\"carpet\"}],\"choropleth\":[{\"colorbar\":{\"outlinewidth\":0,\"tickcolor\":\"rgb(237,237,237)\",\"ticklen\":6,\"ticks\":\"inside\"},\"type\":\"choropleth\"}],\"contourcarpet\":[{\"colorbar\":{\"outlinewidth\":0,\"tickcolor\":\"rgb(237,237,237)\",\"ticklen\":6,\"ticks\":\"inside\"},\"type\":\"contourcarpet\"}],\"contour\":[{\"colorbar\":{\"outlinewidth\":0,\"tickcolor\":\"rgb(237,237,237)\",\"ticklen\":6,\"ticks\":\"inside\"},\"colorscale\":[[0,\"rgb(20,44,66)\"],[1,\"rgb(90,179,244)\"]],\"type\":\"contour\"}],\"heatmapgl\":[{\"colorbar\":{\"outlinewidth\":0,\"tickcolor\":\"rgb(237,237,237)\",\"ticklen\":6,\"ticks\":\"inside\"},\"colorscale\":[[0,\"rgb(20,44,66)\"],[1,\"rgb(90,179,244)\"]],\"type\":\"heatmapgl\"}],\"heatmap\":[{\"colorbar\":{\"outlinewidth\":0,\"tickcolor\":\"rgb(237,237,237)\",\"ticklen\":6,\"ticks\":\"inside\"},\"colorscale\":[[0,\"rgb(20,44,66)\"],[1,\"rgb(90,179,244)\"]],\"type\":\"heatmap\"}],\"histogram2dcontour\":[{\"colorbar\":{\"outlinewidth\":0,\"tickcolor\":\"rgb(237,237,237)\",\"ticklen\":6,\"ticks\":\"inside\"},\"colorscale\":[[0,\"rgb(20,44,66)\"],[1,\"rgb(90,179,244)\"]],\"type\":\"histogram2dcontour\"}],\"histogram2d\":[{\"colorbar\":{\"outlinewidth\":0,\"tickcolor\":\"rgb(237,237,237)\",\"ticklen\":6,\"ticks\":\"inside\"},\"colorscale\":[[0,\"rgb(20,44,66)\"],[1,\"rgb(90,179,244)\"]],\"type\":\"histogram2d\"}],\"histogram\":[{\"marker\":{\"pattern\":{\"fillmode\":\"overlay\",\"size\":10,\"solidity\":0.2}},\"type\":\"histogram\"}],\"mesh3d\":[{\"colorbar\":{\"outlinewidth\":0,\"tickcolor\":\"rgb(237,237,237)\",\"ticklen\":6,\"ticks\":\"inside\"},\"type\":\"mesh3d\"}],\"parcoords\":[{\"line\":{\"colorbar\":{\"outlinewidth\":0,\"tickcolor\":\"rgb(237,237,237)\",\"ticklen\":6,\"ticks\":\"inside\"}},\"type\":\"parcoords\"}],\"pie\":[{\"automargin\":true,\"type\":\"pie\"}],\"scatter3d\":[{\"line\":{\"colorbar\":{\"outlinewidth\":0,\"tickcolor\":\"rgb(237,237,237)\",\"ticklen\":6,\"ticks\":\"inside\"}},\"marker\":{\"colorbar\":{\"outlinewidth\":0,\"tickcolor\":\"rgb(237,237,237)\",\"ticklen\":6,\"ticks\":\"inside\"}},\"type\":\"scatter3d\"}],\"scattercarpet\":[{\"marker\":{\"colorbar\":{\"outlinewidth\":0,\"tickcolor\":\"rgb(237,237,237)\",\"ticklen\":6,\"ticks\":\"inside\"}},\"type\":\"scattercarpet\"}],\"scattergeo\":[{\"marker\":{\"colorbar\":{\"outlinewidth\":0,\"tickcolor\":\"rgb(237,237,237)\",\"ticklen\":6,\"ticks\":\"inside\"}},\"type\":\"scattergeo\"}],\"scattergl\":[{\"marker\":{\"colorbar\":{\"outlinewidth\":0,\"tickcolor\":\"rgb(237,237,237)\",\"ticklen\":6,\"ticks\":\"inside\"}},\"type\":\"scattergl\"}],\"scattermapbox\":[{\"marker\":{\"colorbar\":{\"outlinewidth\":0,\"tickcolor\":\"rgb(237,237,237)\",\"ticklen\":6,\"ticks\":\"inside\"}},\"type\":\"scattermapbox\"}],\"scatterpolargl\":[{\"marker\":{\"colorbar\":{\"outlinewidth\":0,\"tickcolor\":\"rgb(237,237,237)\",\"ticklen\":6,\"ticks\":\"inside\"}},\"type\":\"scatterpolargl\"}],\"scatterpolar\":[{\"marker\":{\"colorbar\":{\"outlinewidth\":0,\"tickcolor\":\"rgb(237,237,237)\",\"ticklen\":6,\"ticks\":\"inside\"}},\"type\":\"scatterpolar\"}],\"scatter\":[{\"fillpattern\":{\"fillmode\":\"overlay\",\"size\":10,\"solidity\":0.2},\"type\":\"scatter\"}],\"scatterternary\":[{\"marker\":{\"colorbar\":{\"outlinewidth\":0,\"tickcolor\":\"rgb(237,237,237)\",\"ticklen\":6,\"ticks\":\"inside\"}},\"type\":\"scatterternary\"}],\"surface\":[{\"colorbar\":{\"outlinewidth\":0,\"tickcolor\":\"rgb(237,237,237)\",\"ticklen\":6,\"ticks\":\"inside\"},\"colorscale\":[[0,\"rgb(20,44,66)\"],[1,\"rgb(90,179,244)\"]],\"type\":\"surface\"}],\"table\":[{\"cells\":{\"fill\":{\"color\":\"rgb(237,237,237)\"},\"line\":{\"color\":\"white\"}},\"header\":{\"fill\":{\"color\":\"rgb(217,217,217)\"},\"line\":{\"color\":\"white\"}},\"type\":\"table\"}]},\"layout\":{\"annotationdefaults\":{\"arrowhead\":0,\"arrowwidth\":1},\"autotypenumbers\":\"strict\",\"coloraxis\":{\"colorbar\":{\"outlinewidth\":0,\"tickcolor\":\"rgb(237,237,237)\",\"ticklen\":6,\"ticks\":\"inside\"}},\"colorscale\":{\"sequential\":[[0,\"rgb(20,44,66)\"],[1,\"rgb(90,179,244)\"]],\"sequentialminus\":[[0,\"rgb(20,44,66)\"],[1,\"rgb(90,179,244)\"]]},\"colorway\":[\"#F8766D\",\"#A3A500\",\"#00BF7D\",\"#00B0F6\",\"#E76BF3\"],\"font\":{\"color\":\"rgb(51,51,51)\"},\"geo\":{\"bgcolor\":\"white\",\"lakecolor\":\"white\",\"landcolor\":\"rgb(237,237,237)\",\"showlakes\":true,\"showland\":true,\"subunitcolor\":\"white\"},\"hoverlabel\":{\"align\":\"left\"},\"hovermode\":\"closest\",\"paper_bgcolor\":\"white\",\"plot_bgcolor\":\"rgb(237,237,237)\",\"polar\":{\"angularaxis\":{\"gridcolor\":\"white\",\"linecolor\":\"white\",\"showgrid\":true,\"tickcolor\":\"rgb(51,51,51)\",\"ticks\":\"outside\"},\"bgcolor\":\"rgb(237,237,237)\",\"radialaxis\":{\"gridcolor\":\"white\",\"linecolor\":\"white\",\"showgrid\":true,\"tickcolor\":\"rgb(51,51,51)\",\"ticks\":\"outside\"}},\"scene\":{\"xaxis\":{\"backgroundcolor\":\"rgb(237,237,237)\",\"gridcolor\":\"white\",\"gridwidth\":2,\"linecolor\":\"white\",\"showbackground\":true,\"showgrid\":true,\"tickcolor\":\"rgb(51,51,51)\",\"ticks\":\"outside\",\"zerolinecolor\":\"white\"},\"yaxis\":{\"backgroundcolor\":\"rgb(237,237,237)\",\"gridcolor\":\"white\",\"gridwidth\":2,\"linecolor\":\"white\",\"showbackground\":true,\"showgrid\":true,\"tickcolor\":\"rgb(51,51,51)\",\"ticks\":\"outside\",\"zerolinecolor\":\"white\"},\"zaxis\":{\"backgroundcolor\":\"rgb(237,237,237)\",\"gridcolor\":\"white\",\"gridwidth\":2,\"linecolor\":\"white\",\"showbackground\":true,\"showgrid\":true,\"tickcolor\":\"rgb(51,51,51)\",\"ticks\":\"outside\",\"zerolinecolor\":\"white\"}},\"shapedefaults\":{\"fillcolor\":\"black\",\"line\":{\"width\":0},\"opacity\":0.3},\"ternary\":{\"aaxis\":{\"gridcolor\":\"white\",\"linecolor\":\"white\",\"showgrid\":true,\"tickcolor\":\"rgb(51,51,51)\",\"ticks\":\"outside\"},\"baxis\":{\"gridcolor\":\"white\",\"linecolor\":\"white\",\"showgrid\":true,\"tickcolor\":\"rgb(51,51,51)\",\"ticks\":\"outside\"},\"bgcolor\":\"rgb(237,237,237)\",\"caxis\":{\"gridcolor\":\"white\",\"linecolor\":\"white\",\"showgrid\":true,\"tickcolor\":\"rgb(51,51,51)\",\"ticks\":\"outside\"}},\"xaxis\":{\"automargin\":true,\"gridcolor\":\"white\",\"linecolor\":\"white\",\"showgrid\":true,\"tickcolor\":\"rgb(51,51,51)\",\"ticks\":\"outside\",\"title\":{\"standoff\":15},\"zerolinecolor\":\"white\"},\"yaxis\":{\"automargin\":true,\"gridcolor\":\"white\",\"linecolor\":\"white\",\"showgrid\":true,\"tickcolor\":\"rgb(51,51,51)\",\"ticks\":\"outside\",\"title\":{\"standoff\":15},\"zerolinecolor\":\"white\"}}},\"showlegend\":true},                        {\"responsive\": true}                    )                };                            </script>        </div>\n",
       "</body>\n",
       "</html>"
      ]
     },
     "metadata": {},
     "output_type": "display_data"
    }
   ],
   "source": [
    "exp.plot_model(best, plot = 'forecast', data_kwargs = {'fh' : 12})\n"
   ]
  },
  {
   "cell_type": "markdown",
   "metadata": {
    "application/vnd.databricks.v1+cell": {
     "cellMetadata": {
      "byteLimit": 2048000,
      "rowLimit": 10000
     },
     "inputWidgets": {},
     "nuid": "68a8c797-9e5f-44f8-9e82-09476804213c",
     "showTitle": false,
     "title": ""
    }
   },
   "source": [
    "# Residuals"
   ]
  },
  {
   "cell_type": "code",
   "execution_count": 0,
   "metadata": {
    "application/vnd.databricks.v1+cell": {
     "cellMetadata": {
      "byteLimit": 2048000,
      "rowLimit": 10000
     },
     "inputWidgets": {},
     "nuid": "d675754f-66dc-46ce-bed1-e9a25f028519",
     "showTitle": false,
     "title": ""
    }
   },
   "outputs": [
    {
     "output_type": "display_data",
     "data": {
      "text/html": [
       "<html>\n",
       "<head><meta charset=\"utf-8\" /></head>\n",
       "<body>\n",
       "    <div>            <script src=\"https://cdnjs.cloudflare.com/ajax/libs/mathjax/2.7.5/MathJax.js?config=TeX-AMS-MML_SVG\"></script><script type=\"text/javascript\">if (window.MathJax && window.MathJax.Hub && window.MathJax.Hub.Config) {window.MathJax.Hub.Config({SVG: {font: \"STIX-Web\"}});}</script>                <script type=\"text/javascript\">window.PlotlyConfig = {MathJaxConfig: 'local'};</script>\n",
       "        <script src=\"https://cdn.plot.ly/plotly-2.12.1.min.js\"></script>                <div id=\"8c7c7139-d82d-45b9-9ab0-cd1709c45de3\" class=\"plotly-graph-div\" style=\"height:100%; width:100%;\"></div>            <script type=\"text/javascript\">                                    window.PLOTLYENV=window.PLOTLYENV || {};                                    if (document.getElementById(\"8c7c7139-d82d-45b9-9ab0-cd1709c45de3\")) {                    Plotly.newPlot(                        \"8c7c7139-d82d-45b9-9ab0-cd1709c45de3\",                        [{\"line\":{\"color\":\"rgb(31, 119, 180)\",\"width\":2},\"marker\":{\"color\":\"rgb(31, 119, 180)\",\"size\":5},\"mode\":\"lines+markers\",\"name\":\"margin\",\"x\":[0,1,2,3,4,5,6,7,8,9,10,11,12,13,14,15,16,17,18,19,20,21,22,23,24,25,26,27,28,29,30,31],\"y\":[-0.25000000000000006,0.24999999999999994,0.4999999999999999,0.625,0.625,0.625,0.7499999999999998,0.8749999999999999,0.0,0.36363636363636354,0.36363636363636354,0.36363636363636354,0.36363636363636354,0.36363636363636354,0.36363636363636354,0.36363636363636354,-0.06666666666666672,-0.06666666666666672,-0.06666666666666672,-0.06666666666666672,0.0,0.0,0.0,0.0,0.4285714285714285,0.4285714285714285,0.4285714285714285,0.4285714285714285,0.4285714285714285,0.4285714285714285,0.4285714285714285,0.4285714285714285],\"type\":\"scattergl\",\"xaxis\":\"x\",\"yaxis\":\"y\"},{\"line\":{\"color\":\"rgb(255, 127, 14)\",\"width\":2},\"marker\":{\"color\":\"rgb(255, 127, 14)\",\"size\":5},\"mode\":\"lines+markers\",\"name\":\"Naive Forecaster\",\"x\":[0,1,2,3,4,5,6,7,8,9,10,11,12,13,14,15,16,17,18,19,20,21,22,23,24,25,26,27,28,29,30,31],\"y\":[-5.551115123125783e-17,0.49999999999999994,0.2499999999999999,0.125,0.0,0.0,0.12499999999999978,0.12499999999999989,-0.875,0.36363636363636354,0.00003636363636355666,0.00003636363636355666,0.00003636363636355666,0.00003636363636355666,0.00003636363636355666,0.00003636363636355666,-0.4302666666666667,0.00003333333333327415,0.00003333333333327415,0.00003333333333327415,0.0667,0.0,0.0,0.0,0.4285714285714285,-0.000028571428571488866,-0.000028571428571488866,-0.000028571428571488866,-0.000028571428571488866,null,null,null],\"type\":\"scattergl\",\"xaxis\":\"x\",\"yaxis\":\"y\"}],                        {\"template\":{\"data\":{\"barpolar\":[{\"marker\":{\"line\":{\"color\":\"rgb(237,237,237)\",\"width\":0.5},\"pattern\":{\"fillmode\":\"overlay\",\"size\":10,\"solidity\":0.2}},\"type\":\"barpolar\"}],\"bar\":[{\"error_x\":{\"color\":\"rgb(51,51,51)\"},\"error_y\":{\"color\":\"rgb(51,51,51)\"},\"marker\":{\"line\":{\"color\":\"rgb(237,237,237)\",\"width\":0.5},\"pattern\":{\"fillmode\":\"overlay\",\"size\":10,\"solidity\":0.2}},\"type\":\"bar\"}],\"carpet\":[{\"aaxis\":{\"endlinecolor\":\"rgb(51,51,51)\",\"gridcolor\":\"white\",\"linecolor\":\"white\",\"minorgridcolor\":\"white\",\"startlinecolor\":\"rgb(51,51,51)\"},\"baxis\":{\"endlinecolor\":\"rgb(51,51,51)\",\"gridcolor\":\"white\",\"linecolor\":\"white\",\"minorgridcolor\":\"white\",\"startlinecolor\":\"rgb(51,51,51)\"},\"type\":\"carpet\"}],\"choropleth\":[{\"colorbar\":{\"outlinewidth\":0,\"tickcolor\":\"rgb(237,237,237)\",\"ticklen\":6,\"ticks\":\"inside\"},\"type\":\"choropleth\"}],\"contourcarpet\":[{\"colorbar\":{\"outlinewidth\":0,\"tickcolor\":\"rgb(237,237,237)\",\"ticklen\":6,\"ticks\":\"inside\"},\"type\":\"contourcarpet\"}],\"contour\":[{\"colorbar\":{\"outlinewidth\":0,\"tickcolor\":\"rgb(237,237,237)\",\"ticklen\":6,\"ticks\":\"inside\"},\"colorscale\":[[0,\"rgb(20,44,66)\"],[1,\"rgb(90,179,244)\"]],\"type\":\"contour\"}],\"heatmapgl\":[{\"colorbar\":{\"outlinewidth\":0,\"tickcolor\":\"rgb(237,237,237)\",\"ticklen\":6,\"ticks\":\"inside\"},\"colorscale\":[[0,\"rgb(20,44,66)\"],[1,\"rgb(90,179,244)\"]],\"type\":\"heatmapgl\"}],\"heatmap\":[{\"colorbar\":{\"outlinewidth\":0,\"tickcolor\":\"rgb(237,237,237)\",\"ticklen\":6,\"ticks\":\"inside\"},\"colorscale\":[[0,\"rgb(20,44,66)\"],[1,\"rgb(90,179,244)\"]],\"type\":\"heatmap\"}],\"histogram2dcontour\":[{\"colorbar\":{\"outlinewidth\":0,\"tickcolor\":\"rgb(237,237,237)\",\"ticklen\":6,\"ticks\":\"inside\"},\"colorscale\":[[0,\"rgb(20,44,66)\"],[1,\"rgb(90,179,244)\"]],\"type\":\"histogram2dcontour\"}],\"histogram2d\":[{\"colorbar\":{\"outlinewidth\":0,\"tickcolor\":\"rgb(237,237,237)\",\"ticklen\":6,\"ticks\":\"inside\"},\"colorscale\":[[0,\"rgb(20,44,66)\"],[1,\"rgb(90,179,244)\"]],\"type\":\"histogram2d\"}],\"histogram\":[{\"marker\":{\"pattern\":{\"fillmode\":\"overlay\",\"size\":10,\"solidity\":0.2}},\"type\":\"histogram\"}],\"mesh3d\":[{\"colorbar\":{\"outlinewidth\":0,\"tickcolor\":\"rgb(237,237,237)\",\"ticklen\":6,\"ticks\":\"inside\"},\"type\":\"mesh3d\"}],\"parcoords\":[{\"line\":{\"colorbar\":{\"outlinewidth\":0,\"tickcolor\":\"rgb(237,237,237)\",\"ticklen\":6,\"ticks\":\"inside\"}},\"type\":\"parcoords\"}],\"pie\":[{\"automargin\":true,\"type\":\"pie\"}],\"scatter3d\":[{\"line\":{\"colorbar\":{\"outlinewidth\":0,\"tickcolor\":\"rgb(237,237,237)\",\"ticklen\":6,\"ticks\":\"inside\"}},\"marker\":{\"colorbar\":{\"outlinewidth\":0,\"tickcolor\":\"rgb(237,237,237)\",\"ticklen\":6,\"ticks\":\"inside\"}},\"type\":\"scatter3d\"}],\"scattercarpet\":[{\"marker\":{\"colorbar\":{\"outlinewidth\":0,\"tickcolor\":\"rgb(237,237,237)\",\"ticklen\":6,\"ticks\":\"inside\"}},\"type\":\"scattercarpet\"}],\"scattergeo\":[{\"marker\":{\"colorbar\":{\"outlinewidth\":0,\"tickcolor\":\"rgb(237,237,237)\",\"ticklen\":6,\"ticks\":\"inside\"}},\"type\":\"scattergeo\"}],\"scattergl\":[{\"marker\":{\"colorbar\":{\"outlinewidth\":0,\"tickcolor\":\"rgb(237,237,237)\",\"ticklen\":6,\"ticks\":\"inside\"}},\"type\":\"scattergl\"}],\"scattermapbox\":[{\"marker\":{\"colorbar\":{\"outlinewidth\":0,\"tickcolor\":\"rgb(237,237,237)\",\"ticklen\":6,\"ticks\":\"inside\"}},\"type\":\"scattermapbox\"}],\"scatterpolargl\":[{\"marker\":{\"colorbar\":{\"outlinewidth\":0,\"tickcolor\":\"rgb(237,237,237)\",\"ticklen\":6,\"ticks\":\"inside\"}},\"type\":\"scatterpolargl\"}],\"scatterpolar\":[{\"marker\":{\"colorbar\":{\"outlinewidth\":0,\"tickcolor\":\"rgb(237,237,237)\",\"ticklen\":6,\"ticks\":\"inside\"}},\"type\":\"scatterpolar\"}],\"scatter\":[{\"fillpattern\":{\"fillmode\":\"overlay\",\"size\":10,\"solidity\":0.2},\"type\":\"scatter\"}],\"scatterternary\":[{\"marker\":{\"colorbar\":{\"outlinewidth\":0,\"tickcolor\":\"rgb(237,237,237)\",\"ticklen\":6,\"ticks\":\"inside\"}},\"type\":\"scatterternary\"}],\"surface\":[{\"colorbar\":{\"outlinewidth\":0,\"tickcolor\":\"rgb(237,237,237)\",\"ticklen\":6,\"ticks\":\"inside\"},\"colorscale\":[[0,\"rgb(20,44,66)\"],[1,\"rgb(90,179,244)\"]],\"type\":\"surface\"}],\"table\":[{\"cells\":{\"fill\":{\"color\":\"rgb(237,237,237)\"},\"line\":{\"color\":\"white\"}},\"header\":{\"fill\":{\"color\":\"rgb(217,217,217)\"},\"line\":{\"color\":\"white\"}},\"type\":\"table\"}]},\"layout\":{\"annotationdefaults\":{\"arrowhead\":0,\"arrowwidth\":1},\"autotypenumbers\":\"strict\",\"coloraxis\":{\"colorbar\":{\"outlinewidth\":0,\"tickcolor\":\"rgb(237,237,237)\",\"ticklen\":6,\"ticks\":\"inside\"}},\"colorscale\":{\"sequential\":[[0,\"rgb(20,44,66)\"],[1,\"rgb(90,179,244)\"]],\"sequentialminus\":[[0,\"rgb(20,44,66)\"],[1,\"rgb(90,179,244)\"]]},\"colorway\":[\"#F8766D\",\"#A3A500\",\"#00BF7D\",\"#00B0F6\",\"#E76BF3\"],\"font\":{\"color\":\"rgb(51,51,51)\"},\"geo\":{\"bgcolor\":\"white\",\"lakecolor\":\"white\",\"landcolor\":\"rgb(237,237,237)\",\"showlakes\":true,\"showland\":true,\"subunitcolor\":\"white\"},\"hoverlabel\":{\"align\":\"left\"},\"hovermode\":\"closest\",\"paper_bgcolor\":\"white\",\"plot_bgcolor\":\"rgb(237,237,237)\",\"polar\":{\"angularaxis\":{\"gridcolor\":\"white\",\"linecolor\":\"white\",\"showgrid\":true,\"tickcolor\":\"rgb(51,51,51)\",\"ticks\":\"outside\"},\"bgcolor\":\"rgb(237,237,237)\",\"radialaxis\":{\"gridcolor\":\"white\",\"linecolor\":\"white\",\"showgrid\":true,\"tickcolor\":\"rgb(51,51,51)\",\"ticks\":\"outside\"}},\"scene\":{\"xaxis\":{\"backgroundcolor\":\"rgb(237,237,237)\",\"gridcolor\":\"white\",\"gridwidth\":2,\"linecolor\":\"white\",\"showbackground\":true,\"showgrid\":true,\"tickcolor\":\"rgb(51,51,51)\",\"ticks\":\"outside\",\"zerolinecolor\":\"white\"},\"yaxis\":{\"backgroundcolor\":\"rgb(237,237,237)\",\"gridcolor\":\"white\",\"gridwidth\":2,\"linecolor\":\"white\",\"showbackground\":true,\"showgrid\":true,\"tickcolor\":\"rgb(51,51,51)\",\"ticks\":\"outside\",\"zerolinecolor\":\"white\"},\"zaxis\":{\"backgroundcolor\":\"rgb(237,237,237)\",\"gridcolor\":\"white\",\"gridwidth\":2,\"linecolor\":\"white\",\"showbackground\":true,\"showgrid\":true,\"tickcolor\":\"rgb(51,51,51)\",\"ticks\":\"outside\",\"zerolinecolor\":\"white\"}},\"shapedefaults\":{\"fillcolor\":\"black\",\"line\":{\"width\":0},\"opacity\":0.3},\"ternary\":{\"aaxis\":{\"gridcolor\":\"white\",\"linecolor\":\"white\",\"showgrid\":true,\"tickcolor\":\"rgb(51,51,51)\",\"ticks\":\"outside\"},\"baxis\":{\"gridcolor\":\"white\",\"linecolor\":\"white\",\"showgrid\":true,\"tickcolor\":\"rgb(51,51,51)\",\"ticks\":\"outside\"},\"bgcolor\":\"rgb(237,237,237)\",\"caxis\":{\"gridcolor\":\"white\",\"linecolor\":\"white\",\"showgrid\":true,\"tickcolor\":\"rgb(51,51,51)\",\"ticks\":\"outside\"}},\"xaxis\":{\"automargin\":true,\"gridcolor\":\"white\",\"linecolor\":\"white\",\"showgrid\":true,\"tickcolor\":\"rgb(51,51,51)\",\"ticks\":\"outside\",\"title\":{\"standoff\":15},\"zerolinecolor\":\"white\"},\"yaxis\":{\"automargin\":true,\"gridcolor\":\"white\",\"linecolor\":\"white\",\"showgrid\":true,\"tickcolor\":\"rgb(51,51,51)\",\"ticks\":\"outside\",\"title\":{\"standoff\":15},\"zerolinecolor\":\"white\"}}},\"xaxis\":{\"anchor\":\"y\",\"domain\":[0.0,1.0]},\"yaxis\":{\"anchor\":\"x\",\"domain\":[0.0,1.0]},\"showlegend\":true,\"title\":{\"text\":\"Actual vs. Residuals\"}},                        {\"responsive\": true}                    )                };                            </script>        </div>\n",
       "</body>\n",
       "</html>"
      ]
     },
     "metadata": {},
     "output_type": "display_data"
    }
   ],
   "source": [
    "# residuals plot\n",
    "exp.plot_model(best, plot = 'residuals')\n"
   ]
  },
  {
   "cell_type": "markdown",
   "metadata": {
    "application/vnd.databricks.v1+cell": {
     "cellMetadata": {
      "byteLimit": 2048000,
      "rowLimit": 10000
     },
     "inputWidgets": {},
     "nuid": "77d980c3-406e-4545-a713-401bbc1cbfdf",
     "showTitle": false,
     "title": ""
    }
   },
   "source": [
    "\n",
    "# Prediction"
   ]
  },
  {
   "cell_type": "code",
   "execution_count": 0,
   "metadata": {
    "application/vnd.databricks.v1+cell": {
     "cellMetadata": {
      "byteLimit": 2048000,
      "rowLimit": 10000
     },
     "inputWidgets": {},
     "nuid": "9a7dcaa4-8273-4032-b8cc-9d4be0cd79f1",
     "showTitle": false,
     "title": ""
    }
   },
   "outputs": [
    {
     "output_type": "display_data",
     "data": {
      "text/html": [
       "<div>\n",
       "<style scoped>\n",
       "    .dataframe tbody tr th:only-of-type {\n",
       "        vertical-align: middle;\n",
       "    }\n",
       "\n",
       "    .dataframe tbody tr th {\n",
       "        vertical-align: top;\n",
       "    }\n",
       "\n",
       "    .dataframe thead th {\n",
       "        text-align: right;\n",
       "    }\n",
       "</style>\n",
       "<table border=\"1\" class=\"dataframe\">\n",
       "  <thead>\n",
       "    <tr style=\"text-align: right;\">\n",
       "      <th></th>\n",
       "      <th>Model</th>\n",
       "      <th>MASE</th>\n",
       "      <th>RMSSE</th>\n",
       "      <th>MAE</th>\n",
       "      <th>RMSE</th>\n",
       "      <th>MAPE</th>\n",
       "      <th>SMAPE</th>\n",
       "      <th>R2</th>\n",
       "    </tr>\n",
       "  </thead>\n",
       "  <tbody>\n",
       "    <tr>\n",
       "      <th>0</th>\n",
       "      <td>Naive Forecaster</td>\n",
       "      <td>0.0002</td>\n",
       "      <td>0.0001</td>\n",
       "      <td>0.0</td>\n",
       "      <td>0.0</td>\n",
       "      <td>0.0001</td>\n",
       "      <td>0.0001</td>\n",
       "      <td>-2.649131e+23</td>\n",
       "    </tr>\n",
       "  </tbody>\n",
       "</table>\n",
       "</div>"
      ],
      "text/plain": [
       "              Model    MASE   RMSSE  MAE  RMSE    MAPE   SMAPE            R2\n",
       "0  Naive Forecaster  0.0002  0.0001  0.0   0.0  0.0001  0.0001 -2.649131e+23"
      ]
     },
     "metadata": {},
     "output_type": "display_data"
    }
   ],
   "source": [
    "holdout_pred = exp.predict_model(best)\n"
   ]
  },
  {
   "cell_type": "code",
   "execution_count": 0,
   "metadata": {
    "application/vnd.databricks.v1+cell": {
     "cellMetadata": {
      "byteLimit": 2048000,
      "rowLimit": 10000
     },
     "inputWidgets": {},
     "nuid": "8963e604-79b6-42ac-9683-e81b280c52c9",
     "showTitle": false,
     "title": ""
    }
   },
   "outputs": [
    {
     "output_type": "execute_result",
     "data": {
      "text/html": [
       "<div>\n",
       "<style scoped>\n",
       "    .dataframe tbody tr th:only-of-type {\n",
       "        vertical-align: middle;\n",
       "    }\n",
       "\n",
       "    .dataframe tbody tr th {\n",
       "        vertical-align: top;\n",
       "    }\n",
       "\n",
       "    .dataframe thead th {\n",
       "        text-align: right;\n",
       "    }\n",
       "</style>\n",
       "<table border=\"1\" class=\"dataframe\">\n",
       "  <thead>\n",
       "    <tr style=\"text-align: right;\">\n",
       "      <th></th>\n",
       "      <th>y_pred</th>\n",
       "    </tr>\n",
       "  </thead>\n",
       "  <tbody>\n",
       "    <tr>\n",
       "      <th>29</th>\n",
       "      <td>0.4286</td>\n",
       "    </tr>\n",
       "    <tr>\n",
       "      <th>30</th>\n",
       "      <td>0.4286</td>\n",
       "    </tr>\n",
       "    <tr>\n",
       "      <th>31</th>\n",
       "      <td>0.4286</td>\n",
       "    </tr>\n",
       "    <tr>\n",
       "      <th>32</th>\n",
       "      <td>0.4286</td>\n",
       "    </tr>\n",
       "    <tr>\n",
       "      <th>33</th>\n",
       "      <td>0.4286</td>\n",
       "    </tr>\n",
       "  </tbody>\n",
       "</table>\n",
       "</div>"
      ],
      "text/plain": [
       "    y_pred\n",
       "29  0.4286\n",
       "30  0.4286\n",
       "31  0.4286\n",
       "32  0.4286\n",
       "33  0.4286"
      ]
     },
     "execution_count": 9,
     "metadata": {},
     "output_type": "execute_result"
    }
   ],
   "source": [
    "exp.predict_model(best, fh = 5)\n"
   ]
  }
 ],
 "metadata": {
  "application/vnd.databricks.v1+notebook": {
   "dashboards": [],
   "language": "python",
   "notebookMetadata": {
    "mostRecentlyExecutedCommandWithImplicitDF": {
     "commandId": 2153297306321106,
     "dataframes": [
      "_sqldf"
     ]
    },
    "pythonIndentUnit": 4
   },
   "notebookName": "Forecast",
   "widgets": {}
  }
 },
 "nbformat": 4,
 "nbformat_minor": 0
}
