{
 "cells": [
  {
   "cell_type": "markdown",
   "metadata": {
    "application/vnd.databricks.v1+cell": {
     "cellMetadata": {
      "byteLimit": 2048000,
      "rowLimit": 10000
     },
     "inputWidgets": {},
     "nuid": "b713d11d-3b47-4b0e-9af8-0e75366fac9d",
     "showTitle": false,
     "title": ""
    }
   },
   "source": [
    "# Install Pycaret"
   ]
  },
  {
   "cell_type": "code",
   "execution_count": 0,
   "metadata": {
    "application/vnd.databricks.v1+cell": {
     "cellMetadata": {
      "byteLimit": 2048000,
      "rowLimit": 10000
     },
     "inputWidgets": {},
     "nuid": "3a74d28d-3fa9-4ccf-8e8b-ab33841bce3f",
     "showTitle": false,
     "title": ""
    }
   },
   "outputs": [
    {
     "output_type": "stream",
     "name": "stdout",
     "output_type": "stream",
     "text": [
      "\u001B[43mNote: you may need to restart the kernel using dbutils.library.restartPython() to use updated packages.\u001B[0m\nCollecting pycaret[full]\n  Downloading pycaret-3.1.0-py3-none-any.whl (483 kB)\n     ━━━━━━━━━━━━━━━━━━━━━━━━━━━━━━━━━━━━━━━ 483.9/483.9 kB 4.9 MB/s eta 0:00:00\nCollecting cloudpickle\n  Downloading cloudpickle-2.2.1-py3-none-any.whl (25 kB)\nCollecting pmdarima!=1.8.1,<3.0.0,>=1.8.0\n  Downloading pmdarima-2.0.3-cp310-cp310-manylinux_2_17_x86_64.manylinux2014_x86_64.manylinux_2_28_x86_64.whl (1.8 MB)\n     ━━━━━━━━━━━━━━━━━━━━━━━━━━━━━━━━━━━━━━━━ 1.8/1.8 MB 11.2 MB/s eta 0:00:00\nRequirement already satisfied: ipywidgets>=7.6.5 in /databricks/python3/lib/python3.10/site-packages (from pycaret[full]) (7.7.2)\nCollecting numba>=0.55.0\n  Downloading numba-0.58.0-cp310-cp310-manylinux2014_x86_64.manylinux_2_17_x86_64.whl (3.6 MB)\n     ━━━━━━━━━━━━━━━━━━━━━━━━━━━━━━━━━━━━━━━━ 3.6/3.6 MB 20.7 MB/s eta 0:00:00\nRequirement already satisfied: scikit-learn<1.3.0,>=1.0 in /databricks/python3/lib/python3.10/site-packages (from pycaret[full]) (1.1.1)\nRequirement already satisfied: jinja2>=1.2 in /databricks/python3/lib/python3.10/site-packages (from pycaret[full]) (3.1.2)\nCollecting lightgbm>=3.0.0\n  Downloading lightgbm-4.1.0-py3-none-manylinux_2_28_x86_64.whl (3.1 MB)\n     ━━━━━━━━━━━━━━━━━━━━━━━━━━━━━━━━━━━━━━━━ 3.1/3.1 MB 32.4 MB/s eta 0:00:00\nRequirement already satisfied: ipython>=5.5.0 in /databricks/python3/lib/python3.10/site-packages (from pycaret[full]) (8.14.0)\nCollecting kaleido>=0.2.1\n  Downloading kaleido-0.2.1-py2.py3-none-manylinux1_x86_64.whl (79.9 MB)\n     ━━━━━━━━━━━━━━━━━━━━━━━━━━━━━━━━━━━━━━━━ 79.9/79.9 MB 3.2 MB/s eta 0:00:00\nCollecting category-encoders>=2.4.0\n  Downloading category_encoders-2.6.2-py2.py3-none-any.whl (81 kB)\n     ━━━━━━━━━━━━━━━━━━━━━━━━━━━━━━━━━━━━━━━━ 81.8/81.8 kB 14.0 MB/s eta 0:00:00\nCollecting tqdm>=4.62.0\n  Downloading tqdm-4.66.1-py3-none-any.whl (78 kB)\n     ━━━━━━━━━━━━━━━━━━━━━━━━━━━━━━━━━━━━━━━━ 78.3/78.3 kB 10.7 MB/s eta 0:00:00\nRequirement already satisfied: matplotlib>=3.3.0 in /databricks/python3/lib/python3.10/site-packages (from pycaret[full]) (3.7.0)\nCollecting tbats>=1.1.3\n  Downloading tbats-1.1.3-py3-none-any.whl (44 kB)\n     ━━━━━━━━━━━━━━━━━━━━━━━━━━━━━━━━━━━━━━━━ 44.0/44.0 kB 7.5 MB/s eta 0:00:00\nCollecting yellowbrick>=1.4\n  Downloading yellowbrick-1.5-py3-none-any.whl (282 kB)\n     ━━━━━━━━━━━━━━━━━━━━━━━━━━━━━━━━━━━━━━ 282.6/282.6 kB 36.0 MB/s eta 0:00:00\nRequirement already satisfied: plotly>=5.0.0 in /databricks/python3/lib/python3.10/site-packages (from pycaret[full]) (5.9.0)\nCollecting deprecation>=2.1.0\n  Downloading deprecation-2.1.0-py2.py3-none-any.whl (11 kB)\nRequirement already satisfied: numpy<1.24,>=1.21 in /databricks/python3/lib/python3.10/site-packages (from pycaret[full]) (1.23.5)\nRequirement already satisfied: joblib>=1.2.0 in /databricks/python3/lib/python3.10/site-packages (from pycaret[full]) (1.2.0)\nRequirement already satisfied: markupsafe>=2.0.1 in /databricks/python3/lib/python3.10/site-packages (from pycaret[full]) (2.1.1)\nCollecting xxhash\n  Downloading xxhash-3.3.0-cp310-cp310-manylinux_2_17_x86_64.manylinux2014_x86_64.whl (194 kB)\n     ━━━━━━━━━━━━━━━━━━━━━━━━━━━━━━━━━━━━━━ 194.1/194.1 kB 28.2 MB/s eta 0:00:00\nCollecting schemdraw==0.15\n  Downloading schemdraw-0.15-py3-none-any.whl (106 kB)\n     ━━━━━━━━━━━━━━━━━━━━━━━━━━━━━━━━━━━━━━━ 106.8/106.8 kB 6.7 MB/s eta 0:00:00\nRequirement already satisfied: statsmodels>=0.12.1 in /databricks/python3/lib/python3.10/site-packages (from pycaret[full]) (0.13.5)\nRequirement already satisfied: requests>=2.27.1 in /databricks/python3/lib/python3.10/site-packages (from pycaret[full]) (2.28.1)\nCollecting sktime!=0.17.1,!=0.17.2,!=0.18.0,<0.22.0,>=0.16.1\n  Downloading sktime-0.21.1-py3-none-any.whl (17.1 MB)\n     ━━━━━━━━━━━━━━━━━━━━━━━━━━━━━━━━━━━━━━━━ 17.1/17.1 MB 54.8 MB/s eta 0:00:00\nCollecting pyod>=1.0.8\n  Downloading pyod-1.1.0.tar.gz (153 kB)\n     ━━━━━━━━━━━━━━━━━━━━━━━━━━━━━━━━━━━━━━ 153.4/153.4 kB 21.7 MB/s eta 0:00:00\n  Preparing metadata (setup.py): started\n  Preparing metadata (setup.py): finished with status 'done'\nCollecting scikit-plot>=0.3.7\n  Downloading scikit_plot-0.3.7-py3-none-any.whl (33 kB)\nCollecting wurlitzer\n  Downloading wurlitzer-3.0.3-py3-none-any.whl (7.3 kB)\nCollecting importlib-metadata>=4.12.0\n  Downloading importlib_metadata-6.8.0-py3-none-any.whl (22 kB)\nCollecting imbalanced-learn>=0.8.1\n  Downloading imbalanced_learn-0.11.0-py3-none-any.whl (235 kB)\n     ━━━━━━━━━━━━━━━━━━━━━━━━━━━━━━━━━━━━━━ 235.6/235.6 kB 32.1 MB/s eta 0:00:00\nRequirement already satisfied: nbformat>=4.2.0 in /databricks/python3/lib/python3.10/site-packages (from pycaret[full]) (5.7.0)\nRequirement already satisfied: pandas<2.0.0,>=1.3.0 in /databricks/python3/lib/python3.10/site-packages (from pycaret[full]) (1.5.3)\nCollecting plotly-resampler>=0.8.3.1\n  Downloading plotly_resampler-0.9.1-py3-none-any.whl (73 kB)\n     ━━━━━━━━━━━━━━━━━━━━━━━━━━━━━━━━━━━━━━━━ 73.4/73.4 kB 13.9 MB/s eta 0:00:00\nCollecting scipy~=1.10.1\n  Downloading scipy-1.10.1-cp310-cp310-manylinux_2_17_x86_64.manylinux2014_x86_64.whl (34.4 MB)\n     ━━━━━━━━━━━━━━━━━━━━━━━━━━━━━━━━━━━━━━━━ 34.4/34.4 MB 39.7 MB/s eta 0:00:00\nRequirement already satisfied: psutil>=5.9.0 in /databricks/python3/lib/python3.10/site-packages (from pycaret[full]) (5.9.0)\nCollecting tune-sklearn>=0.2.1\n  Downloading tune_sklearn-0.4.6-py3-none-any.whl (41 kB)\n     ━━━━━━━━━━━━━━━━━━━━━━━━━━━━━━━━━━━━━━━━ 41.9/41.9 kB 8.1 MB/s eta 0:00:00\nCollecting fastapi>=0.75.0\n  Downloading fastapi-0.103.1-py3-none-any.whl (66 kB)\n     ━━━━━━━━━━━━━━━━━━━━━━━━━━━━━━━━━━━━━━━━ 66.2/66.2 kB 11.8 MB/s eta 0:00:00\nCollecting interpret>=0.2.7\n  Downloading interpret-0.4.4-py3-none-any.whl (1.4 kB)\nCollecting mlxtend>=0.19.0\n  Downloading mlxtend-0.23.0-py3-none-any.whl (1.4 MB)\n     ━━━━━━━━━━━━━━━━━━━━━━━━━━━━━━━━━━━━━━━━ 1.4/1.4 MB 57.1 MB/s eta 0:00:00\nCollecting kmodes>=0.11.1\n  Downloading kmodes-0.12.2-py2.py3-none-any.whl (20 kB)\nCollecting gradio>=2.8.10\n  Downloading gradio-3.45.1-py3-none-any.whl (20.2 MB)\n     ━━━━━━━━━━━━━━━━━━━━━━━━━━━━━━━━━━━━━━━━ 20.2/20.2 MB 51.1 MB/s eta 0:00:00\nCollecting xgboost>=1.1.0\n  Downloading xgboost-2.0.0-py3-none-manylinux2014_x86_64.whl (297.1 MB)\n     ━━━━━━━━━━━━━━━━━━━━━━━━━━━━━━━━━━━━━━━ 297.1/297.1 MB 1.1 MB/s eta 0:00:00\nCollecting statsforecast<1.6.0,>=0.5.5\n  Downloading statsforecast-1.5.0-py3-none-any.whl (99 kB)\n     ━━━━━━━━━━━━━━━━━━━━━━━━━━━━━━━━━━━━━ 100.0/100.0 kB 341.7 kB/s eta 0:00:00\nCollecting explainerdashboard>=0.3.8\n  Downloading explainerdashboard-0.4.3-py3-none-any.whl (287 kB)\n     ━━━━━━━━━━━━━━━━━━━━━━━━━━━━━━━━━━━━━━━ 287.2/287.2 kB 1.4 MB/s eta 0:00:00\nCollecting shap>=0.38.0\n  Downloading shap-0.42.1-cp310-cp310-manylinux_2_12_x86_64.manylinux2010_x86_64.manylinux_2_17_x86_64.manylinux2014_x86_64.whl (547 kB)\n     ━━━━━━━━━━━━━━━━━━━━━━━━━━━━━━━━━━━━━━━ 547.9/547.9 kB 2.5 MB/s eta 0:00:00\nCollecting uvicorn>=0.17.6\n  Downloading uvicorn-0.23.2-py3-none-any.whl (59 kB)\n     ━━━━━━━━━━━━━━━━━━━━━━━━━━━━━━━━━━━━━━━ 59.5/59.5 kB 193.7 kB/s eta 0:00:00\nCollecting mlflow<2.0.0,>=1.24.0\n  Downloading mlflow-1.30.1-py3-none-any.whl (17.0 MB)\n     ━━━━━━━━━━━━━━━━━━━━━━━━━━━━━━━━━━━━━━━━ 17.0/17.0 MB 14.5 MB/s eta 0:00:00\nCollecting boto3>=1.24.56\n  Downloading boto3-1.28.56-py3-none-any.whl (135 kB)\n     ━━━━━━━━━━━━━━━━━━━━━━━━━━━━━━━━━━━━━━ 135.8/135.8 kB 12.7 MB/s eta 0:00:00\nCollecting evidently<0.3,>=0.1.45.dev0\n  Downloading evidently-0.2.8-py3-none-any.whl (12.1 MB)\n     ━━━━━━━━━━━━━━━━━━━━━━━━━━━━━━━━━━━━━━━━ 12.1/12.1 MB 70.0 MB/s eta 0:00:00\nCollecting fugue[dask]>=0.8.0\n  Downloading fugue-0.8.6-py3-none-any.whl (275 kB)\n     ━━━━━━━━━━━━━━━━━━━━━━━━━━━━━━━━━━━━━━ 275.0/275.0 kB 36.3 MB/s eta 0:00:00\nCollecting m2cgen>=0.9.0\n  Downloading m2cgen-0.10.0-py3-none-any.whl (92 kB)\n     ━━━━━━━━━━━━━━━━━━━━━━━━━━━━━━━━━━━━━━━━ 92.2/92.2 kB 14.2 MB/s eta 0:00:00\nCollecting pytest>=7.0.1\n  Downloading pytest-7.4.2-py3-none-any.whl (324 kB)\n     ━━━━━━━━━━━━━━━━━━━━━━━━━━━━━━━━━━━━━━ 324.5/324.5 kB 38.4 MB/s eta 0:00:00\nCollecting umap-learn>=0.5.2\n  Downloading umap-learn-0.5.4.tar.gz (90 kB)\n     ━━━━━━━━━━━━━━━━━━━━━━━━━━━━━━━━━━━━━━━━ 90.8/90.8 kB 16.9 MB/s eta 0:00:00\n  Preparing metadata (setup.py): started\n  Preparing metadata (setup.py): finished with status 'done'\nCollecting hyperopt>=0.2.7\n  Downloading hyperopt-0.2.7-py2.py3-none-any.whl (1.6 MB)\n     ━━━━━━━━━━━━━━━━━━━━━━━━━━━━━━━━━━━━━━━━ 1.6/1.6 MB 66.6 MB/s eta 0:00:00\nCollecting flask>=2.0.3\n  Downloading flask-2.3.3-py3-none-any.whl (96 kB)\n     ━━━━━━━━━━━━━━━━━━━━━━━━━━━━━━━━━━━━━━━━ 96.1/96.1 kB 19.2 MB/s eta 0:00:00\nCollecting moto>=3.0.7\n  Downloading moto-4.2.4-py2.py3-none-any.whl (3.1 MB)\n     ━━━━━━━━━━━━━━━━━━━━━━━━━━━━━━━━━━━━━━━━ 3.1/3.1 MB 71.7 MB/s eta 0:00:00\nCollecting ray[tune]>=1.0.0\n  Downloading ray-2.7.0-cp310-cp310-manylinux2014_x86_64.whl (62.5 MB)\n     ━━━━━━━━━━━━━━━━━━━━━━━━━━━━━━━━━━━━━━━━ 62.5/62.5 MB 22.3 MB/s eta 0:00:00\nCollecting catboost>=0.23.2\n  Downloading catboost-1.2.2-cp310-cp310-manylinux2014_x86_64.whl (98.7 MB)\n     ━━━━━━━━━━━━━━━━━━━━━━━━━━━━━━━━━━━━━━━━ 98.7/98.7 MB 8.1 MB/s eta 0:00:00\nCollecting flask>=2.0.3\n  Downloading Flask-2.2.3-py3-none-any.whl (101 kB)\n     ━━━━━━━━━━━━━━━━━━━━━━━━━━━━━━━━━━━━━━ 101.8/101.8 kB 19.8 MB/s eta 0:00:00\nCollecting optuna>=3.0.0\n  Downloading optuna-3.3.0-py3-none-any.whl (404 kB)\n     ━━━━━━━━━━━━━━━━━━━━━━━━━━━━━━━━━━━━━━ 404.2/404.2 kB 48.7 MB/s eta 0:00:00\nCollecting ydata-profiling>=4.3.1\n  Downloading ydata_profiling-4.5.1-py2.py3-none-any.whl (357 kB)\n     ━━━━━━━━━━━━━━━━━━━━━━━━━━━━━━━━━━━━━━ 357.3/357.3 kB 43.4 MB/s eta 0:00:00\nCollecting fairlearn==0.7.0\n  Downloading fairlearn-0.7.0-py3-none-any.whl (177 kB)\n     ━━━━━━━━━━━━━━━━━━━━━━━━━━━━━━━━━━━━━━ 177.5/177.5 kB 28.5 MB/s eta 0:00:00\nCollecting scikit-optimize>=0.9.0\n  Downloading scikit_optimize-0.9.0-py2.py3-none-any.whl (100 kB)\n     ━━━━━━━━━━━━━━━━━━━━━━━━━━━━━━━━━━━━━━ 100.3/100.3 kB 20.1 MB/s eta 0:00:00\nCollecting scikit-learn-intelex>=2023.0.1\n  Downloading scikit_learn_intelex-2023.2.1-py310-none-manylinux1_x86_64.whl (128 kB)\n     ━━━━━━━━━━━━━━━━━━━━━━━━━━━━━━━━━━━━━━ 128.7/128.7 kB 21.7 MB/s eta 0:00:00\nCollecting dash[testing]\n  Downloading dash-2.13.0-py3-none-any.whl (10.4 MB)\n     ━━━━━━━━━━━━━━━━━━━━━━━━━━━━━━━━━━━━━━━━ 10.4/10.4 MB 55.4 MB/s eta 0:00:00\nRequirement already satisfied: click>=8.0 in /databricks/python3/lib/python3.10/site-packages (from flask>=2.0.3->pycaret[full]) (8.0.4)\nCollecting itsdangerous>=2.0\n  Downloading itsdangerous-2.1.2-py3-none-any.whl (15 kB)\nCollecting Werkzeug>=2.2.2\n  Downloading werkzeug-2.3.7-py3-none-any.whl (242 kB)\n     ━━━━━━━━━━━━━━━━━━━━━━━━━━━━━━━━━━━━━━ 242.2/242.2 kB 36.7 MB/s eta 0:00:00\nRequirement already satisfied: jmespath<2.0.0,>=0.7.1 in /databricks/python3/lib/python3.10/site-packages (from boto3>=1.24.56->pycaret[full]) (0.10.0)\nCollecting s3transfer<0.8.0,>=0.7.0\n  Downloading s3transfer-0.7.0-py3-none-any.whl (79 kB)\n     ━━━━━━━━━━━━━━━━━━━━━━━━━━━━━━━━━━━━━━━━ 79.8/79.8 kB 15.6 MB/s eta 0:00:00\nCollecting botocore<1.32.0,>=1.31.56\n  Downloading botocore-1.31.56-py3-none-any.whl (11.2 MB)\n     ━━━━━━━━━━━━━━━━━━━━━━━━━━━━━━━━━━━━━━━━ 11.2/11.2 MB 81.4 MB/s eta 0:00:00\nCollecting graphviz\n  Downloading graphviz-0.20.1-py3-none-any.whl (47 kB)\n     ━━━━━━━━━━━━━━━━━━━━━━━━━━━━━━━━━━━━━━━━ 47.0/47.0 kB 4.6 MB/s eta 0:00:00\nRequirement already satisfied: six in /usr/lib/python3/dist-packages (from catboost>=0.23.2->pycaret[full]) (1.16.0)\nRequirement already satisfied: patsy>=0.5.1 in /databricks/python3/lib/python3.10/site-packages (from category-encoders>=2.4.0->pycaret[full]) (0.5.3)\nRequirement already satisfied: packaging in /databricks/python3/lib/python3.10/site-packages (from deprecation>=2.1.0->pycaret[full]) (22.0)\nCollecting nltk>=3.6.7\n  Downloading nltk-3.8.1-py3-none-any.whl (1.5 MB)\n     ━━━━━━━━━━━━━━━━━━━━━━━━━━━━━━━━━━━━━━━━ 1.5/1.5 MB 58.8 MB/s eta 0:00:00\nRequirement already satisfied: pydantic<2 in /databricks/python3/lib/python3.10/site-packages (from evidently<0.3,>=0.1.45.dev0->pycaret[full]) (1.10.6)\nCollecting PyYAML>=5.1\n  Downloading PyYAML-6.0.1-cp310-cp310-manylinux_2_17_x86_64.manylinux2014_x86_64.whl (705 kB)\n     ━━━━━━━━━━━━━━━━━━━━━━━━━━━━━━━━━━━━━━ 705.5/705.5 kB 60.5 MB/s eta 0:00:00\nCollecting jupyter-dash>=0.4.1\n  Downloading jupyter_dash-0.4.2-py3-none-any.whl (23 kB)\nCollecting dash-auth\n  Downloading dash_auth-2.0.0-py3-none-any.whl (3.4 kB)\nCollecting dtreeviz>=2.1\n  Downloading dtreeviz-2.2.2-py3-none-any.whl (91 kB)\n     ━━━━━━━━━━━━━━━━━━━━━━━━━━━━━━━━━━━━━━━━ 91.8/91.8 kB 14.0 MB/s eta 0:00:00\nCollecting flask-simplelogin\n  Downloading flask_simplelogin-0.1.2-py3-none-any.whl (7.2 kB)\nCollecting waitress\n  Downloading waitress-2.1.2-py3-none-any.whl (57 kB)\n     ━━━━━━━━━━━━━━━━━━━━━━━━━━━━━━━━━━━━━━━━ 57.7/57.7 kB 11.2 MB/s eta 0:00:00\nCollecting dash-bootstrap-components>=1\n  Downloading dash_bootstrap_components-1.5.0-py3-none-any.whl (221 kB)\n     ━━━━━━━━━━━━━━━━━━━━━━━━━━━━━━━━━━━━━━ 221.2/221.2 kB 33.2 MB/s eta 0:00:00\nCollecting oyaml\n  Downloading oyaml-1.0-py2.py3-none-any.whl (3.0 kB)\nCollecting Flask-WTF>=1.1\n  Downloading Flask_WTF-1.1.1-py3-none-any.whl (12 kB)\nCollecting typing-extensions>=4.5.0\n  Downloading typing_extensions-4.8.0-py3-none-any.whl (31 kB)\nCollecting starlette<0.28.0,>=0.27.0\n  Downloading starlette-0.27.0-py3-none-any.whl (66 kB)\n     ━━━━━━━━━━━━━━━━━━━━━━━━━━━━━━━━━━━━━━━━ 67.0/67.0 kB 12.9 MB/s eta 0:00:00\nCollecting anyio<4.0.0,>=3.7.1\n  Downloading anyio-3.7.1-py3-none-any.whl (80 kB)\n     ━━━━━━━━━━━━━━━━━━━━━━━━━━━━━━━━━━━━━━━━ 80.9/80.9 kB 15.1 MB/s eta 0:00:00\nRequirement already satisfied: pyarrow>=0.15.1 in /databricks/python3/lib/python3.10/site-packages (from fugue[dask]>=0.8.0->pycaret[full]) (8.0.0)\nCollecting sqlglot\n  Downloading sqlglot-18.8.0-py3-none-any.whl (312 kB)\n     ━━━━━━━━━━━━━━━━━━━━━━━━━━━━━━━━━━━━━━ 312.1/312.1 kB 40.3 MB/s eta 0:00:00\nCollecting qpd>=0.4.4\n  Downloading qpd-0.4.4-py3-none-any.whl (169 kB)\n     ━━━━━━━━━━━━━━━━━━━━━━━━━━━━━━━━━━━━━━ 169.2/169.2 kB 26.8 MB/s eta 0:00:00\nCollecting fugue-sql-antlr>=0.1.6\n  Downloading fugue-sql-antlr-0.1.7.tar.gz (154 kB)\n     ━━━━━━━━━━━━━━━━━━━━━━━━━━━━━━━━━━━━━━ 154.7/154.7 kB 22.4 MB/s eta 0:00:00\n  Preparing metadata (setup.py): started\n  Preparing metadata (setup.py): finished with status 'done'\nCollecting adagio>=0.2.4\n  Downloading adagio-0.2.4-py3-none-any.whl (26 kB)\nCollecting triad>=0.9.1\n  Downloading triad-0.9.1-py3-none-any.whl (57 kB)\n     ━━━━━━━━━━━━━━━━━━━━━━━━━━━━━━━━━━━━━━━━ 57.0/57.0 kB 10.4 MB/s eta 0:00:00\nCollecting dask[dataframe,distributed]<2023.7.1,>=2022.9.0\n  Downloading dask-2023.7.0-py3-none-any.whl (1.2 MB)\n     ━━━━━━━━━━━━━━━━━━━━━━━━━━━━━━━━━━━━━━━━ 1.2/1.2 MB 63.8 MB/s eta 0:00:00\nCollecting python-multipart\n  Downloading python_multipart-0.0.6-py3-none-any.whl (45 kB)\n     ━━━━━━━━━━━━━━━━━━━━━━━━━━━━━━━━━━━━━━━━ 45.7/45.7 kB 9.9 MB/s eta 0:00:00\nCollecting orjson~=3.0\n  Downloading orjson-3.9.7-cp310-cp310-manylinux_2_17_x86_64.manylinux2014_x86_64.whl (138 kB)\n     ━━━━━━━━━━━━━━━━━━━━━━━━━━━━━━━━━━━━━━ 138.7/138.7 kB 26.0 MB/s eta 0:00:00\nCollecting semantic-version~=2.0\n  Downloading semantic_version-2.10.0-py2.py3-none-any.whl (15 kB)\nCollecting ffmpy\n  Downloading ffmpy-0.3.1.tar.gz (5.5 kB)\n  Preparing metadata (setup.py): started\n  Preparing metadata (setup.py): finished with status 'done'\nCollecting pydub\n  Downloading pydub-0.25.1-py2.py3-none-any.whl (32 kB)\nCollecting importlib-resources<7.0,>=1.3\n  Downloading importlib_resources-6.1.0-py3-none-any.whl (33 kB)\nRequirement already satisfied: pillow<11.0,>=8.0 in /databricks/python3/lib/python3.10/site-packages (from gradio>=2.8.10->pycaret[full]) (9.4.0)\nCollecting altair<6.0,>=4.2.0\n  Downloading altair-5.1.1-py3-none-any.whl (520 kB)\n     ━━━━━━━━━━━━━━━━━━━━━━━━━━━━━━━━━━━━━━ 520.6/520.6 kB 48.1 MB/s eta 0:00:00\nCollecting httpx\n  Downloading httpx-0.25.0-py3-none-any.whl (75 kB)\n     ━━━━━━━━━━━━━━━━━━━━━━━━━━━━━━━━━━━━━━━━ 75.7/75.7 kB 17.0 MB/s eta 0:00:00\nCollecting huggingface-hub>=0.14.0\n  Downloading huggingface_hub-0.17.3-py3-none-any.whl (295 kB)\n     ━━━━━━━━━━━━━━━━━━━━━━━━━━━━━━━━━━━━━━ 295.0/295.0 kB 36.3 MB/s eta 0:00:00\nCollecting aiofiles<24.0,>=22.0\n  Downloading aiofiles-23.2.1-py3-none-any.whl (15 kB)\nCollecting gradio-client==0.5.2\n  Downloading gradio_client-0.5.2-py3-none-any.whl (298 kB)\n     ━━━━━━━━━━━━━━━━━━━━━━━━━━━━━━━━━━━━━━ 298.3/298.3 kB 33.5 MB/s eta 0:00:00\nCollecting websockets<12.0,>=10.0\n  Downloading websockets-11.0.3-cp310-cp310-manylinux_2_5_x86_64.manylinux1_x86_64.manylinux_2_17_x86_64.manylinux2014_x86_64.whl (129 kB)\n     ━━━━━━━━━━━━━━━━━━━━━━━━━━━━━━━━━━━━━━ 129.9/129.9 kB 25.0 MB/s eta 0:00:00\nCollecting fsspec\n  Downloading fsspec-2023.9.2-py3-none-any.whl (173 kB)\n     ━━━━━━━━━━━━━━━━━━━━━━━━━━━━━━━━━━━━━━ 173.4/173.4 kB 24.7 MB/s eta 0:00:00\nCollecting py4j\n  Downloading py4j-0.10.9.7-py2.py3-none-any.whl (200 kB)\n     ━━━━━━━━━━━━━━━━━━━━━━━━━━━━━━━━━━━━━━ 200.5/200.5 kB 30.2 MB/s eta 0:00:00\nCollecting future\n  Downloading future-0.18.3.tar.gz (840 kB)\n     ━━━━━━━━━━━━━━━━━━━━━━━━━━━━━━━━━━━━━━ 840.9/840.9 kB 61.8 MB/s eta 0:00:00\n  Preparing metadata (setup.py): started\n  Preparing metadata (setup.py): finished with status 'done'\nCollecting networkx>=2.2\n  Downloading networkx-3.1-py3-none-any.whl (2.1 MB)\n     ━━━━━━━━━━━━━━━━━━━━━━━━━━━━━━━━━━━━━━━━ 2.1/2.1 MB 71.3 MB/s eta 0:00:00\nRequirement already satisfied: threadpoolctl>=2.0.0 in /databricks/python3/lib/python3.10/site-packages (from imbalanced-learn>=0.8.1->pycaret[full]) (2.2.0)\nRequirement already satisfied: zipp>=0.5 in /usr/lib/python3/dist-packages (from importlib-metadata>=4.12.0->pycaret[full]) (1.0.0)\nCollecting interpret-core[dash,debug,decisiontree,ebm,lime,linear,notebook,plotly,required,sensitivity,shap,skoperules,treeinterpreter]==0.4.4\n  Downloading interpret_core-0.4.4-py3-none-any.whl (16.9 MB)\n     ━━━━━━━━━━━━━━━━━━━━━━━━━━━━━━━━━━━━━━━━ 16.9/16.9 MB 56.7 MB/s eta 0:00:00\nCollecting lime>=0.1.1.33\n  Downloading lime-0.2.0.1.tar.gz (275 kB)\n     ━━━━━━━━━━━━━━━━━━━━━━━━━━━━━━━━━━━━━━ 275.7/275.7 kB 34.5 MB/s eta 0:00:00\n  Preparing metadata (setup.py): started\n  Preparing metadata (setup.py): finished with status 'done'\nCollecting skope-rules>=1.0.1\n  Downloading skope_rules-1.0.1-py3-none-any.whl (14 kB)\nRequirement already satisfied: ipykernel>=4.10.0 in /databricks/python3/lib/python3.10/site-packages (from interpret-core[dash,debug,decisiontree,ebm,lime,linear,notebook,plotly,required,sensitivity,shap,skoperules,treeinterpreter]==0.4.4->interpret>=0.2.7->pycaret[full]) (6.25.0)\nCollecting treeinterpreter>=0.2.2\n  Downloading treeinterpreter-0.2.3-py2.py3-none-any.whl (6.0 kB)\nCollecting SALib>=1.3.3\n  Downloading salib-1.4.7-py3-none-any.whl (757 kB)\n     ━━━━━━━━━━━━━━━━━━━━━━━━━━━━━━━━━━━━━━ 758.0/758.0 kB 62.1 MB/s eta 0:00:00\nCollecting dill>=0.2.5\n  Downloading dill-0.3.7-py3-none-any.whl (115 kB)\n     ━━━━━━━━━━━━━━━━━━━━━━━━━━━━━━━━━━━━━━ 115.3/115.3 kB 21.0 MB/s eta 0:00:00\nCollecting gevent>=1.3.6\n  Downloading gevent-23.9.1-cp310-cp310-manylinux_2_28_x86_64.whl (6.4 MB)\n     ━━━━━━━━━━━━━━━━━━━━━━━━━━━━━━━━━━━━━━━━ 6.4/6.4 MB 81.8 MB/s eta 0:00:00\nCollecting dash-cytoscape>=0.1.1\n  Downloading dash_cytoscape-0.3.0-py3-none-any.whl (3.6 MB)\n     ━━━━━━━━━━━━━━━━━━━━━━━━━━━━━━━━━━━━━━━━ 3.6/3.6 MB 76.4 MB/s eta 0:00:00\nCollecting dash-table>=4.1.0\n  Downloading dash_table-5.0.0-py3-none-any.whl (3.9 kB)\nCollecting dash-core-components>=1.0.0\n  Downloading dash_core_components-2.0.0-py3-none-any.whl (3.8 kB)\nCollecting dash-html-components>=1.0.0\n  Downloading dash_html_components-2.0.0-py3-none-any.whl (4.1 kB)\nRequirement already satisfied: pygments>=2.4.0 in /databricks/python3/lib/python3.10/site-packages (from ipython>=5.5.0->pycaret[full]) (2.11.2)\nRequirement already satisfied: stack-data in /databricks/python3/lib/python3.10/site-packages (from ipython>=5.5.0->pycaret[full]) (0.2.0)\nRequirement already satisfied: prompt-toolkit!=3.0.37,<3.1.0,>=3.0.30 in /databricks/python3/lib/python3.10/site-packages (from ipython>=5.5.0->pycaret[full]) (3.0.36)\nRequirement already satisfied: pexpect>4.3 in /databricks/python3/lib/python3.10/site-packages (from ipython>=5.5.0->pycaret[full]) (4.8.0)\nRequirement already satisfied: matplotlib-inline in /databricks/python3/lib/python3.10/site-packages (from ipython>=5.5.0->pycaret[full]) (0.1.6)\nRequirement already satisfied: jedi>=0.16 in /databricks/python3/lib/python3.10/site-packages (from ipython>=5.5.0->pycaret[full]) (0.18.1)\nRequirement already satisfied: traitlets>=5 in /databricks/python3/lib/python3.10/site-packages (from ipython>=5.5.0->pycaret[full]) (5.7.1)\nRequirement already satisfied: backcall in /databricks/python3/lib/python3.10/site-packages (from ipython>=5.5.0->pycaret[full]) (0.2.0)\nRequirement already satisfied: decorator in /databricks/python3/lib/python3.10/site-packages (from ipython>=5.5.0->pycaret[full]) (5.1.1)\nRequirement already satisfied: pickleshare in /databricks/python3/lib/python3.10/site-packages (from ipython>=5.5.0->pycaret[full]) (0.7.5)\nRequirement already satisfied: widgetsnbextension~=3.6.0 in /databricks/python3/lib/python3.10/site-packages (from ipywidgets>=7.6.5->pycaret[full]) (3.6.1)\nRequirement already satisfied: jupyterlab-widgets<3,>=1.0.0 in /databricks/python3/lib/python3.10/site-packages (from ipywidgets>=7.6.5->pycaret[full]) (1.0.0)\nRequirement already satisfied: ipython-genutils~=0.2.0 in /databricks/python3/lib/python3.10/site-packages (from ipywidgets>=7.6.5->pycaret[full]) (0.2.0)\nRequirement already satisfied: contourpy>=1.0.1 in /databricks/python3/lib/python3.10/site-packages (from matplotlib>=3.3.0->pycaret[full]) (1.0.5)\nRequirement already satisfied: pyparsing>=2.3.1 in /databricks/python3/lib/python3.10/site-packages (from matplotlib>=3.3.0->pycaret[full]) (3.0.9)\nRequirement already satisfied: kiwisolver>=1.0.1 in /databricks/python3/lib/python3.10/site-packages (from matplotlib>=3.3.0->pycaret[full]) (1.4.4)\nRequirement already satisfied: fonttools>=4.22.0 in /databricks/python3/lib/python3.10/site-packages (from matplotlib>=3.3.0->pycaret[full]) (4.25.0)\nRequirement already satisfied: cycler>=0.10 in /databricks/python3/lib/python3.10/site-packages (from matplotlib>=3.3.0->pycaret[full]) (0.11.0)\nRequirement already satisfied: python-dateutil>=2.7 in /databricks/python3/lib/python3.10/site-packages (from matplotlib>=3.3.0->pycaret[full]) (2.8.2)\nRequirement already satisfied: protobuf<5,>=3.12.0 in /databricks/python3/lib/python3.10/site-packages (from mlflow<2.0.0,>=1.24.0->pycaret[full]) (4.24.0)\nRequirement already satisfied: pytz<2023 in /databricks/python3/lib/python3.10/site-packages (from mlflow<2.0.0,>=1.24.0->pycaret[full]) (2022.7)\nCollecting importlib-metadata>=4.12.0\n  Downloading importlib_metadata-5.2.0-py3-none-any.whl (21 kB)\nCollecting sqlalchemy<2,>=1.4.0\n  Downloading SQLAlchemy-1.4.49-cp310-cp310-manylinux_2_5_x86_64.manylinux1_x86_64.manylinux_2_17_x86_64.manylinux2014_x86_64.whl (1.6 MB)\n     ━━━━━━━━━━━━━━━━━━━━━━━━━━━━━━━━━━━━━━━━ 1.6/1.6 MB 65.7 MB/s eta 0:00:00\nCollecting alembic<2\n  Downloading alembic-1.12.0-py3-none-any.whl (226 kB)\n     ━━━━━━━━━━━━━━━━━━━━━━━━━━━━━━━━━━━━━━ 226.0/226.0 kB 34.9 MB/s eta 0:00:00\nCollecting sqlparse<1,>=0.4.0\n  Downloading sqlparse-0.4.4-py3-none-any.whl (41 kB)\n     ━━━━━━━━━━━━━━━━━━━━━━━━━━━━━━━━━━━━━━━━ 41.2/41.2 kB 7.8 MB/s eta 0:00:00\nCollecting querystring-parser<2\n  Downloading querystring_parser-1.2.4-py2.py3-none-any.whl (7.9 kB)\nCollecting databricks-cli<1,>=0.8.7\n  Downloading databricks-cli-0.17.8.tar.gz (85 kB)\n     ━━━━━━━━━━━━━━━━━━━━━━━━━━━━━━━━━━━━━━━━ 85.2/85.2 kB 16.1 MB/s eta 0:00:00\n  Preparing metadata (setup.py): started\n  Preparing metadata (setup.py): finished with status 'done'\nCollecting gunicorn<21\n  Downloading gunicorn-20.1.0-py3-none-any.whl (79 kB)\n     ━━━━━━━━━━━━━━━━━━━━━━━━━━━━━━━━━━━━━━━━ 79.5/79.5 kB 13.1 MB/s eta 0:00:00\nCollecting packaging\n  Downloading packaging-21.3-py3-none-any.whl (40 kB)\n     ━━━━━━━━━━━━━━━━━━━━━━━━━━━━━━━━━━━━━━━━ 40.8/40.8 kB 7.1 MB/s eta 0:00:00\nCollecting prometheus-flask-exporter<1\n  Downloading prometheus_flask_exporter-0.22.4-py3-none-any.whl (18 kB)\nCollecting gitpython<4,>=2.1.0\n  Downloading GitPython-3.1.37-py3-none-any.whl (190 kB)\n     ━━━━━━━━━━━━━━━━━━━━━━━━━━━━━━━━━━━━━━ 190.0/190.0 kB 30.7 MB/s eta 0:00:00\nCollecting docker<7,>=4.0.0\n  Downloading docker-6.1.3-py3-none-any.whl (148 kB)\n     ━━━━━━━━━━━━━━━━━━━━━━━━━━━━━━━━━━━━━━ 148.1/148.1 kB 24.7 MB/s eta 0:00:00\nRequirement already satisfied: entrypoints<1 in /databricks/python3/lib/python3.10/site-packages (from mlflow<2.0.0,>=1.24.0->pycaret[full]) (0.4)\nCollecting xmltodict\n  Downloading xmltodict-0.13.0-py2.py3-none-any.whl (10.0 kB)\nRequirement already satisfied: cryptography>=3.3.1 in /databricks/\n\n*** WARNING: max output size exceeded, skipping output. ***\n\nl (16 kB)\nCollecting percy>=2.0.2\n  Downloading percy-2.0.2-py2.py3-none-any.whl (12 kB)\nRequirement already satisfied: beautifulsoup4>=4.8.2 in /databricks/python3/lib/python3.10/site-packages (from dash[testing]->pycaret[full]) (4.11.1)\nCollecting multiprocess>=0.70.12\n  Downloading multiprocess-0.70.15-py310-none-any.whl (134 kB)\n     ━━━━━━━━━━━━━━━━━━━━━━━━━━━━━━━━━━━━━ 134.8/134.8 kB 692.5 kB/s eta 0:00:00\nCollecting selenium<=4.2.0,>=3.141.0\n  Downloading selenium-4.2.0-py3-none-any.whl (983 kB)\n     ━━━━━━━━━━━━━━━━━━━━━━━━━━━━━━━━━━━━━━━ 983.2/983.2 kB 3.2 MB/s eta 0:00:00\nCollecting dash-testing-stub>=0.0.2\n  Downloading dash_testing_stub-0.0.2-py3-none-any.whl (2.6 kB)\nRequirement already satisfied: lxml>=4.6.2 in /databricks/python3/lib/python3.10/site-packages (from dash[testing]->pycaret[full]) (4.9.1)\nCollecting Mako\n  Downloading Mako-1.2.4-py3-none-any.whl (78 kB)\n     ━━━━━━━━━━━━━━━━━━━━━━━━━━━━━━━━━━━━━━━ 78.7/78.7 kB 389.4 kB/s eta 0:00:00\nCollecting toolz\n  Downloading toolz-0.12.0-py3-none-any.whl (55 kB)\n     ━━━━━━━━━━━━━━━━━━━━━━━━━━━━━━━━━━━━━━━ 55.8/55.8 kB 372.0 kB/s eta 0:00:00\nRequirement already satisfied: sniffio>=1.1 in /databricks/python3/lib/python3.10/site-packages (from anyio<4.0.0,>=3.7.1->fastapi>=0.75.0->pycaret[full]) (1.2.0)\nRequirement already satisfied: soupsieve>1.2 in /databricks/python3/lib/python3.10/site-packages (from beautifulsoup4>=4.8.2->dash[testing]->pycaret[full]) (2.3.2.post1)\nRequirement already satisfied: cffi>=1.12 in /databricks/python3/lib/python3.10/site-packages (from cryptography>=3.3.1->moto>=3.0.7->pycaret[full]) (1.15.1)\nCollecting partd>=1.2.0\n  Downloading partd-1.4.1-py3-none-any.whl (18 kB)\nCollecting distributed==2023.7.0\n  Downloading distributed-2023.7.0-py3-none-any.whl (981 kB)\n     ━━━━━━━━━━━━━━━━━━━━━━━━━━━━━━━━━━━━━━━ 981.6/981.6 kB 3.2 MB/s eta 0:00:00\nCollecting zict>=2.2.0\n  Downloading zict-3.0.0-py2.py3-none-any.whl (43 kB)\n     ━━━━━━━━━━━━━━━━━━━━━━━━━━━━━━━━━━━━━━━ 43.3/43.3 kB 169.2 kB/s eta 0:00:00\nCollecting locket>=1.0.0\n  Downloading locket-1.0.0-py2.py3-none-any.whl (4.4 kB)\nRequirement already satisfied: tornado>=6.0.4 in /databricks/python3/lib/python3.10/site-packages (from distributed==2023.7.0->dask[dataframe,distributed]<2023.7.1,>=2022.9.0->fugue[dask]>=0.8.0->pycaret[full]) (6.1)\nCollecting tblib>=1.6.0\n  Downloading tblib-2.0.0-py3-none-any.whl (11 kB)\nCollecting sortedcontainers>=2.0.5\n  Downloading sortedcontainers-2.4.0-py2.py3-none-any.whl (29 kB)\nRequirement already satisfied: pyjwt>=1.7.0 in /usr/lib/python3/dist-packages (from databricks-cli<1,>=0.8.7->mlflow<2.0.0,>=1.24.0->pycaret[full]) (2.3.0)\nRequirement already satisfied: oauthlib>=3.1.0 in /usr/lib/python3/dist-packages (from databricks-cli<1,>=0.8.7->mlflow<2.0.0,>=1.24.0->pycaret[full]) (3.2.0)\nCollecting tabulate>=0.7.7\n  Downloading tabulate-0.9.0-py3-none-any.whl (35 kB)\nCollecting wrapt<2,>=1.10\n  Downloading wrapt-1.15.0-cp310-cp310-manylinux_2_5_x86_64.manylinux1_x86_64.manylinux_2_17_x86_64.manylinux2014_x86_64.whl (78 kB)\n     ━━━━━━━━━━━━━━━━━━━━━━━━━━━━━━━━━━━━━━━━ 78.4/78.4 kB 15.1 MB/s eta 0:00:00\nRequirement already satisfied: websocket-client>=0.32.0 in /databricks/python3/lib/python3.10/site-packages (from docker<7,>=4.0.0->mlflow<2.0.0,>=1.24.0->pycaret[full]) (0.58.0)\nCollecting colour\n  Downloading colour-0.1.5-py2.py3-none-any.whl (23 kB)\nCollecting WTForms\n  Downloading WTForms-3.0.1-py3-none-any.whl (136 kB)\n     ━━━━━━━━━━━━━━━━━━━━━━━━━━━━━━━━━━━━━━ 136.5/136.5 kB 23.1 MB/s eta 0:00:00\nCollecting antlr4-python3-runtime<4.12,>=4.11.1\n  Downloading antlr4_python3_runtime-4.11.1-py3-none-any.whl (144 kB)\n     ━━━━━━━━━━━━━━━━━━━━━━━━━━━━━━━━━━━━━━ 144.2/144.2 kB 27.3 MB/s eta 0:00:00\nCollecting gitdb<5,>=4.0.1\n  Downloading gitdb-4.0.10-py3-none-any.whl (62 kB)\n     ━━━━━━━━━━━━━━━━━━━━━━━━━━━━━━━━━━━━━━━━ 62.7/62.7 kB 13.7 MB/s eta 0:00:00\nRequirement already satisfied: jupyter-client>=6.1.12 in /databricks/python3/lib/python3.10/site-packages (from ipykernel>=4.10.0->interpret-core[dash,debug,decisiontree,ebm,lime,linear,notebook,plotly,required,sensitivity,shap,skoperules,treeinterpreter]==0.4.4->interpret>=0.2.7->pycaret[full]) (7.3.4)\nRequirement already satisfied: debugpy>=1.6.5 in /databricks/python3/lib/python3.10/site-packages (from ipykernel>=4.10.0->interpret-core[dash,debug,decisiontree,ebm,lime,linear,notebook,plotly,required,sensitivity,shap,skoperules,treeinterpreter]==0.4.4->interpret>=0.2.7->pycaret[full]) (1.6.7)\nRequirement already satisfied: comm>=0.1.1 in /databricks/python3/lib/python3.10/site-packages (from ipykernel>=4.10.0->interpret-core[dash,debug,decisiontree,ebm,lime,linear,notebook,plotly,required,sensitivity,shap,skoperules,treeinterpreter]==0.4.4->interpret>=0.2.7->pycaret[full]) (0.1.2)\nRequirement already satisfied: pyzmq>=20 in /databricks/python3/lib/python3.10/site-packages (from ipykernel>=4.10.0->interpret-core[dash,debug,decisiontree,ebm,lime,linear,notebook,plotly,required,sensitivity,shap,skoperules,treeinterpreter]==0.4.4->interpret>=0.2.7->pycaret[full]) (23.2.0)\nRequirement already satisfied: parso<0.9.0,>=0.8.0 in /databricks/python3/lib/python3.10/site-packages (from jedi>=0.16->ipython>=5.5.0->pycaret[full]) (0.8.3)\nRequirement already satisfied: pyrsistent!=0.17.0,!=0.17.1,!=0.17.2,>=0.14.0 in /databricks/python3/lib/python3.10/site-packages (from jsonschema>=2.6->nbformat>=4.2.0->pycaret[full]) (0.18.0)\nRequirement already satisfied: platformdirs>=2.5 in /databricks/python3/lib/python3.10/site-packages (from jupyter-core->nbformat>=4.2.0->pycaret[full]) (2.5.2)\nCollecting regex>=2021.8.3\n  Downloading regex-2023.8.8-cp310-cp310-manylinux_2_17_x86_64.manylinux2014_x86_64.whl (771 kB)\n     ━━━━━━━━━━━━━━━━━━━━━━━━━━━━━━━━━━━━━━ 771.9/771.9 kB 61.2 MB/s eta 0:00:00\nRequirement already satisfied: ptyprocess>=0.5 in /databricks/python3/lib/python3.10/site-packages (from pexpect>4.3->ipython>=5.5.0->pycaret[full]) (0.7.0)\nRequirement already satisfied: prometheus-client in /databricks/python3/lib/python3.10/site-packages (from prometheus-flask-exporter<1->mlflow<2.0.0,>=1.24.0->pycaret[full]) (0.14.1)\nRequirement already satisfied: wcwidth in /databricks/python3/lib/python3.10/site-packages (from prompt-toolkit!=3.0.37,<3.1.0,>=3.0.30->ipython>=5.5.0->pycaret[full]) (0.2.5)\nCollecting responses>=0.13.0\n  Downloading responses-0.23.2-py3-none-any.whl (52 kB)\n     ━━━━━━━━━━━━━━━━━━━━━━━━━━━━━━━━━━━━━━━━ 52.7/52.7 kB 9.6 MB/s eta 0:00:00\n  Downloading responses-0.23.1-py3-none-any.whl (52 kB)\n     ━━━━━━━━━━━━━━━━━━━━━━━━━━━━━━━━━━━━━━━━ 52.1/52.1 kB 7.4 MB/s eta 0:00:00\nCollecting types-PyYAML\n  Downloading types_PyYAML-6.0.12.12-py3-none-any.whl (14 kB)\nCollecting trio-websocket~=0.9\n  Downloading trio_websocket-0.11.1-py3-none-any.whl (17 kB)\nCollecting trio~=0.17\n  Downloading trio-0.22.2-py3-none-any.whl (400 kB)\n     ━━━━━━━━━━━━━━━━━━━━━━━━━━━━━━━━━━━━━━ 400.2/400.2 kB 45.6 MB/s eta 0:00:00\nCollecting greenlet!=0.4.17\n  Downloading greenlet-2.0.2-cp310-cp310-manylinux_2_17_x86_64.manylinux2014_x86_64.whl (613 kB)\n     ━━━━━━━━━━━━━━━━━━━━━━━━━━━━━━━━━━━━━━ 613.7/613.7 kB 56.6 MB/s eta 0:00:00\nCollecting fs\n  Downloading fs-2.4.16-py2.py3-none-any.whl (135 kB)\n     ━━━━━━━━━━━━━━━━━━━━━━━━━━━━━━━━━━━━━━ 135.3/135.3 kB 25.3 MB/s eta 0:00:00\nRequirement already satisfied: notebook>=4.4.1 in /databricks/python3/lib/python3.10/site-packages (from widgetsnbextension~=3.6.0->ipywidgets>=7.6.5->pycaret[full]) (6.5.2)\nCollecting httpcore<0.19.0,>=0.18.0\n  Downloading httpcore-0.18.0-py3-none-any.whl (76 kB)\n     ━━━━━━━━━━━━━━━━━━━━━━━━━━━━━━━━━━━━━━━━ 76.0/76.0 kB 16.5 MB/s eta 0:00:00\nRequirement already satisfied: asttokens in /databricks/python3/lib/python3.10/site-packages (from stack-data->ipython>=5.5.0->pycaret[full]) (2.0.5)\nRequirement already satisfied: pure-eval in /databricks/python3/lib/python3.10/site-packages (from stack-data->ipython>=5.5.0->pycaret[full]) (0.2.2)\nRequirement already satisfied: executing in /databricks/python3/lib/python3.10/site-packages (from stack-data->ipython>=5.5.0->pycaret[full]) (0.8.3)\nRequirement already satisfied: pycparser in /databricks/python3/lib/python3.10/site-packages (from cffi>=1.12->cryptography>=3.3.1->moto>=3.0.7->pycaret[full]) (2.21)\nCollecting zope.event\n  Downloading zope.event-5.0-py3-none-any.whl (6.8 kB)\nCollecting zope.interface\n  Downloading zope.interface-6.0-cp310-cp310-manylinux_2_5_x86_64.manylinux1_x86_64.manylinux_2_17_x86_64.manylinux2014_x86_64.whl (246 kB)\n     ━━━━━━━━━━━━━━━━━━━━━━━━━━━━━━━━━━━━━━ 247.0/247.0 kB 33.2 MB/s eta 0:00:00\nCollecting smmap<6,>=3.0.1\n  Downloading smmap-5.0.1-py3-none-any.whl (24 kB)\nCollecting scikit-image>=0.12\n  Downloading scikit_image-0.21.0-cp310-cp310-manylinux_2_17_x86_64.manylinux2014_x86_64.whl (13.8 MB)\n     ━━━━━━━━━━━━━━━━━━━━━━━━━━━━━━━━━━━━━━━━ 13.8/13.8 MB 64.2 MB/s eta 0:00:00\nRequirement already satisfied: nbclassic>=0.4.7 in /databricks/python3/lib/python3.10/site-packages (from notebook>=4.4.1->widgetsnbextension~=3.6.0->ipywidgets>=7.6.5->pycaret[full]) (0.5.2)\nRequirement already satisfied: terminado>=0.8.3 in /databricks/python3/lib/python3.10/site-packages (from notebook>=4.4.1->widgetsnbextension~=3.6.0->ipywidgets>=7.6.5->pycaret[full]) (0.17.1)\nRequirement already satisfied: Send2Trash>=1.8.0 in /databricks/python3/lib/python3.10/site-packages (from notebook>=4.4.1->widgetsnbextension~=3.6.0->ipywidgets>=7.6.5->pycaret[full]) (1.8.0)\nRequirement already satisfied: nbconvert>=5 in /databricks/python3/lib/python3.10/site-packages (from notebook>=4.4.1->widgetsnbextension~=3.6.0->ipywidgets>=7.6.5->pycaret[full]) (6.5.4)\nRequirement already satisfied: argon2-cffi in /databricks/python3/lib/python3.10/site-packages (from notebook>=4.4.1->widgetsnbextension~=3.6.0->ipywidgets>=7.6.5->pycaret[full]) (21.3.0)\nCollecting outcome\n  Downloading outcome-1.2.0-py2.py3-none-any.whl (9.7 kB)\nCollecting wsproto>=0.14\n  Downloading wsproto-1.2.0-py3-none-any.whl (24 kB)\nCollecting urllib3-secure-extra\n  Downloading urllib3_secure_extra-0.1.0-py2.py3-none-any.whl (1.4 kB)\nCollecting pyOpenSSL>=0.14\n  Downloading pyOpenSSL-23.2.0-py3-none-any.whl (59 kB)\n     ━━━━━━━━━━━━━━━━━━━━━━━━━━━━━━━━━━━━━━━━ 59.0/59.0 kB 11.6 MB/s eta 0:00:00\nCollecting PySocks!=1.5.7,<2.0,>=1.5.6\n  Downloading PySocks-1.7.1-py3-none-any.whl (16 kB)\nCollecting appdirs~=1.4.3\n  Downloading appdirs-1.4.4-py2.py3-none-any.whl (9.6 kB)\nRequirement already satisfied: jupyter-server>=1.8 in /databricks/python3/lib/python3.10/site-packages (from nbclassic>=0.4.7->notebook>=4.4.1->widgetsnbextension~=3.6.0->ipywidgets>=7.6.5->pycaret[full]) (1.23.4)\nRequirement already satisfied: notebook-shim>=0.1.0 in /databricks/python3/lib/python3.10/site-packages (from nbclassic>=0.4.7->notebook>=4.4.1->widgetsnbextension~=3.6.0->ipywidgets>=7.6.5->pycaret[full]) (0.2.2)\nRequirement already satisfied: tinycss2 in /databricks/python3/lib/python3.10/site-packages (from nbconvert>=5->notebook>=4.4.1->widgetsnbextension~=3.6.0->ipywidgets>=7.6.5->pycaret[full]) (1.2.1)\nRequirement already satisfied: nbclient>=0.5.0 in /databricks/python3/lib/python3.10/site-packages (from nbconvert>=5->notebook>=4.4.1->widgetsnbextension~=3.6.0->ipywidgets>=7.6.5->pycaret[full]) (0.5.13)\nRequirement already satisfied: pandocfilters>=1.4.1 in /databricks/python3/lib/python3.10/site-packages (from nbconvert>=5->notebook>=4.4.1->widgetsnbextension~=3.6.0->ipywidgets>=7.6.5->pycaret[full]) (1.5.0)\nRequirement already satisfied: jupyterlab-pygments in /databricks/python3/lib/python3.10/site-packages (from nbconvert>=5->notebook>=4.4.1->widgetsnbextension~=3.6.0->ipywidgets>=7.6.5->pycaret[full]) (0.1.2)\nRequirement already satisfied: bleach in /databricks/python3/lib/python3.10/site-packages (from nbconvert>=5->notebook>=4.4.1->widgetsnbextension~=3.6.0->ipywidgets>=7.6.5->pycaret[full]) (4.1.0)\nRequirement already satisfied: mistune<2,>=0.8.1 in /databricks/python3/lib/python3.10/site-packages (from nbconvert>=5->notebook>=4.4.1->widgetsnbextension~=3.6.0->ipywidgets>=7.6.5->pycaret[full]) (0.8.4)\nRequirement already satisfied: defusedxml in /databricks/python3/lib/python3.10/site-packages (from nbconvert>=5->notebook>=4.4.1->widgetsnbextension~=3.6.0->ipywidgets>=7.6.5->pycaret[full]) (0.7.1)\nCollecting lazy_loader>=0.2\n  Downloading lazy_loader-0.3-py3-none-any.whl (9.1 kB)\nCollecting imageio>=2.27\n  Downloading imageio-2.31.4-py3-none-any.whl (313 kB)\n     ━━━━━━━━━━━━━━━━━━━━━━━━━━━━━━━━━━━━━━ 313.2/313.2 kB 38.2 MB/s eta 0:00:00\nCollecting tifffile>=2022.8.12\n  Downloading tifffile-2023.9.26-py3-none-any.whl (222 kB)\n     ━━━━━━━━━━━━━━━━━━━━━━━━━━━━━━━━━━━━━━ 222.9/222.9 kB 38.3 MB/s eta 0:00:00\nRequirement already satisfied: argon2-cffi-bindings in /databricks/python3/lib/python3.10/site-packages (from argon2-cffi->notebook>=4.4.1->widgetsnbextension~=3.6.0->ipywidgets>=7.6.5->pycaret[full]) (21.2.0)\nRequirement already satisfied: webencodings in /databricks/python3/lib/python3.10/site-packages (from bleach->nbconvert>=5->notebook>=4.4.1->widgetsnbextension~=3.6.0->ipywidgets>=7.6.5->pycaret[full]) (0.5.1)\nBuilding wheels for collected packages: pyod, umap-learn, htmlmin, databricks-cli, fugue-sql-antlr, pynndescent, ffmpy, future, lime\n  Building wheel for pyod (setup.py): started\n  Building wheel for pyod (setup.py): finished with status 'done'\n  Created wheel for pyod: filename=pyod-1.1.0-py3-none-any.whl size=185331 sha256=fe7090664f491b6e17dd9937a766206b46854dfb65864d75b554022fbd6e6d7f\n  Stored in directory: /root/.cache/pip/wheels/10/ab/ab/a243c5d60b01bfdc3a9ee0998da1b118df1df73c221956c9c7\n  Building wheel for umap-learn (setup.py): started\n  Building wheel for umap-learn (setup.py): finished with status 'done'\n  Created wheel for umap-learn: filename=umap_learn-0.5.4-py3-none-any.whl size=86776 sha256=e55a5f1d51ffdb5a6d37811e5d791e7f67118680f8280210da5da78d6149bf0b\n  Stored in directory: /root/.cache/pip/wheels/3d/a4/e8/5a5af00baa82e1dd59ac108da7f86657ef674115126e461cfe\n  Building wheel for htmlmin (setup.py): started\n  Building wheel for htmlmin (setup.py): finished with status 'done'\n  Created wheel for htmlmin: filename=htmlmin-0.1.12-py3-none-any.whl size=27081 sha256=75566d43124c80e2973e3ab12b2a102c8d8306a19d935fbdea10390514665e84\n  Stored in directory: /root/.cache/pip/wheels/ea/1c/a8/5cec3479cd45136a7111e2d96aac299b219b199c411665250b\n  Building wheel for databricks-cli (setup.py): started\n  Building wheel for databricks-cli (setup.py): finished with status 'done'\n  Created wheel for databricks-cli: filename=databricks_cli-0.17.8-py3-none-any.whl size=145474 sha256=deb4bcbe9e2cea7efe19969ce01f221a4314991751c5d6c6e72f545b1a885c8f\n  Stored in directory: /root/.cache/pip/wheels/93/e8/1a/2665468e618ef7c56a971535ff2f6f903f0ed0ad9d27533590\n  Building wheel for fugue-sql-antlr (setup.py): started\n  Building wheel for fugue-sql-antlr (setup.py): finished with status 'done'\n  Created wheel for fugue-sql-antlr: filename=fugue_sql_antlr-0.1.7-py3-none-any.whl size=158207 sha256=8bd55170dfbee5918a5896fea3f043079059c67b0043daa646638aa30125cac5\n  Stored in directory: /root/.cache/pip/wheels/d5/41/7e/10bb7c26718c31dbb42bcc309c6072e4c28334f6ca7e7139a3\n  Building wheel for pynndescent (setup.py): started\n  Building wheel for pynndescent (setup.py): finished with status 'done'\n  Created wheel for pynndescent: filename=pynndescent-0.5.10-py3-none-any.whl size=55623 sha256=bb874c6a66d984961b8a9b8697fce468888a8f8144eb9e16e53c47d6963d35ae\n  Stored in directory: /root/.cache/pip/wheels/45/f6/1b/b2cbeeaddcd5e454a300424e9bc30d5dcd2baaa7b94cfa2795\n  Building wheel for ffmpy (setup.py): started\n  Building wheel for ffmpy (setup.py): finished with status 'done'\n  Created wheel for ffmpy: filename=ffmpy-0.3.1-py3-none-any.whl size=5580 sha256=7cbffa46d82e63e61e2a2d25a78eb55d7b6b1d2dff38b87f8d63d0f108df5005\n  Stored in directory: /root/.cache/pip/wheels/25/a7/dd/c513d5a67b9610660774187483d20314b63e406dd6687e4b4a\n  Building wheel for future (setup.py): started\n  Building wheel for future (setup.py): finished with status 'done'\n  Created wheel for future: filename=future-0.18.3-py3-none-any.whl size=492025 sha256=25ce089a5cbe84cac1a2f57cadef6a01a8a999e6d1d262fb2689631eff3ccb10\n  Stored in directory: /root/.cache/pip/wheels/69/c0/ce/f2a18105d619f21239a048bcc58e98d8ce47ac824e0531f1a0\n  Building wheel for lime (setup.py): started\n  Building wheel for lime (setup.py): finished with status 'done'\n  Created wheel for lime: filename=lime-0.2.0.1-py3-none-any.whl size=283839 sha256=0b99a7b94b360111a4f4cb2f7bb770a3dfc27be352614d7b4a01634c83434482\n  Stored in directory: /root/.cache/pip/wheels/ac/fc/ba/bc2e218408e730b7ad32dc45fbaa1ae6f0ab314e581101bdff\nSuccessfully built pyod umap-learn htmlmin databricks-cli fugue-sql-antlr pynndescent ffmpy future lime\nInstalling collected packages: urllib3-secure-extra, types-PyYAML, treeinterpreter, trace-updater, tbb, sortedcontainers, pydub, py4j, kaleido, interpret-core, htmlmin, ffmpy, dash-testing-stub, dash-table, dash-html-components, dash-core-components, colour, appdirs, antlr4-python3-runtime, zope.interface, zope.event, zict, xxhash, xmltodict, wurlitzer, WTForms, wrapt, Werkzeug, websockets, waitress, typing-extensions, typeguard, tsdownsample, tqdm, toolz, tifffile, tblib, tangled-up-in-unicode, tabulate, sqlparse, sqlglot, smmap, slicer, semantic-version, scipy, scikit-base, schemdraw, retrying, regex, querystring-parser, PyYAML, PyWavelets, python-multipart, PySocks, packaging, outcome, orjson, networkx, multimethod, msgpack, Mako, m2cgen, locket, llvmlite, lazy_loader, itsdangerous, iniconfig, importlib-resources, importlib-metadata, imageio, h11, gunicorn, greenlet, graphviz, future, fsspec, fs, frozenlist, exceptiongroup, dill, dacite, daal, colorlog, cmaes, cloudpickle, ansi2html, aiofiles, xgboost, wsproto, uvicorn, trio, tensorboardX, sqlalchemy, scikit-image, responses, pytest, pyaml, percy, partd, oyaml, numba, nltk, multiprocess, lightgbm, imagehash, hyperopt, huggingface-hub, gitdb, gevent, flask, docker, deprecation, deprecated, databricks-cli, daal4py, botocore, anyio, aiosignal, yellowbrick, wordcloud, visions, trio-websocket, triad, starlette, sktime, skope-rules, shap, scikit-plot, scikit-optimize, scikit-learn-intelex, SALib, s3transfer, ray, pyOpenSSL, pyod, pynndescent, prometheus-flask-exporter, phik, mlxtend, lime, kmodes, imbalanced-learn, httpcore, gitpython, Flask-WTF, fairlearn, dtreeviz, dask, dash, catboost, altair, alembic, umap-learn, pmdarima, plotly-resampler, optuna, mlflow, httpx, fugue-sql-antlr, flask-simplelogin, fastapi, evidently, distributed, dash-cytoscape, dash-bootstrap-components, dash-auth, category-encoders, boto3, adagio, ydata-profiling, tune-sklearn, tbats, selenium, qpd, moto, jupyter-dash, gradio-client, interpret, gradio, fugue, explainerdashboard, statsforecast, pycaret\n  Attempting uninstall: typing-extensions\n    Found existing installation: typing_extensions 4.4.0\n    Not uninstalling typing-extensions at /databricks/python3/lib/python3.10/site-packages, outside environment /local_disk0/.ephemeral_nfs/envs/pythonEnv-1a2a3bd5-4f22-47f4-a8b2-ff4d9d7ae74b\n    Can't uninstall 'typing_extensions'. No files were found to uninstall.\n  Attempting uninstall: scipy\n    Found existing installation: scipy 1.10.0\n    Not uninstalling scipy at /databricks/python3/lib/python3.10/site-packages, outside environment /local_disk0/.ephemeral_nfs/envs/pythonEnv-1a2a3bd5-4f22-47f4-a8b2-ff4d9d7ae74b\n    Can't uninstall 'scipy'. No files were found to uninstall.\n  Attempting uninstall: packaging\n    Found existing installation: packaging 22.0\n    Not uninstalling packaging at /databricks/python3/lib/python3.10/site-packages, outside environment /local_disk0/.ephemeral_nfs/envs/pythonEnv-1a2a3bd5-4f22-47f4-a8b2-ff4d9d7ae74b\n    Can't uninstall 'packaging'. No files were found to uninstall.\n  Attempting uninstall: importlib-metadata\n    Found existing installation: importlib-metadata 4.6.4\n    Not uninstalling importlib-metadata at /usr/lib/python3/dist-packages, outside environment /local_disk0/.ephemeral_nfs/envs/pythonEnv-1a2a3bd5-4f22-47f4-a8b2-ff4d9d7ae74b\n    Can't uninstall 'importlib-metadata'. No files were found to uninstall.\n  Attempting uninstall: botocore\n    Found existing installation: botocore 1.27.96\n    Not uninstalling botocore at /databricks/python3/lib/python3.10/site-packages, outside environment /local_disk0/.ephemeral_nfs/envs/pythonEnv-1a2a3bd5-4f22-47f4-a8b2-ff4d9d7ae74b\n    Can't uninstall 'botocore'. No files were found to uninstall.\n  Attempting uninstall: anyio\n    Found existing installation: anyio 3.5.0\n    Not uninstalling anyio at /databricks/python3/lib/python3.10/site-packages, outside environment /local_disk0/.ephemeral_nfs/envs/pythonEnv-1a2a3bd5-4f22-47f4-a8b2-ff4d9d7ae74b\n    Can't uninstall 'anyio'. No files were found to uninstall.\n  Attempting uninstall: s3transfer\n    Found existing installation: s3transfer 0.6.1\n    Not uninstalling s3transfer at /databricks/python3/lib/python3.10/site-packages, outside environment /local_disk0/.ephemeral_nfs/envs/pythonEnv-1a2a3bd5-4f22-47f4-a8b2-ff4d9d7ae74b\n    Can't uninstall 's3transfer'. No files were found to uninstall.\n  Attempting uninstall: boto3\n    Found existing installation: boto3 1.24.28\n    Not uninstalling boto3 at /databricks/python3/lib/python3.10/site-packages, outside environment /local_disk0/.ephemeral_nfs/envs/pythonEnv-1a2a3bd5-4f22-47f4-a8b2-ff4d9d7ae74b\n    Can't uninstall 'boto3'. No files were found to uninstall.\nERROR: pip's dependency resolver does not currently take into account all the packages that are installed. This behaviour is the source of the following dependency conflicts.\npytoolconfig 1.2.5 requires packaging>=22.0, but you have packaging 21.3 which is incompatible.\nSuccessfully installed Flask-WTF-1.1.1 Mako-1.2.4 PySocks-1.7.1 PyWavelets-1.4.1 PyYAML-6.0.1 SALib-1.4.7 WTForms-3.0.1 Werkzeug-2.2.3 adagio-0.2.4 aiofiles-23.2.1 aiosignal-1.3.1 alembic-1.12.0 altair-5.1.1 ansi2html-1.8.0 antlr4-python3-runtime-4.11.1 anyio-3.7.1 appdirs-1.4.4 boto3-1.28.56 botocore-1.31.56 catboost-1.2.2 category-encoders-2.6.2 cloudpickle-2.2.1 cmaes-0.10.0 colorlog-6.7.0 colour-0.1.5 daal-2023.2.1 daal4py-2023.2.1 dacite-1.8.1 dash-2.13.0 dash-auth-2.0.0 dash-bootstrap-components-1.5.0 dash-core-components-2.0.0 dash-cytoscape-0.3.0 dash-html-components-2.0.0 dash-table-5.0.0 dash-testing-stub-0.0.2 dask-2023.7.0 databricks-cli-0.17.8 deprecated-1.2.14 deprecation-2.1.0 dill-0.3.7 distributed-2023.7.0 docker-6.1.3 dtreeviz-2.2.2 evidently-0.2.8 exceptiongroup-1.1.3 explainerdashboard-0.4.3 fairlearn-0.7.0 fastapi-0.103.1 ffmpy-0.3.1 flask-2.2.3 flask-simplelogin-0.1.2 frozenlist-1.4.0 fs-2.4.16 fsspec-2023.9.2 fugue-0.8.6 fugue-sql-antlr-0.1.7 future-0.18.3 gevent-23.9.1 gitdb-4.0.10 gitpython-3.1.37 gradio-3.45.1 gradio-client-0.5.2 graphviz-0.20.1 greenlet-2.0.2 gunicorn-20.1.0 h11-0.14.0 htmlmin-0.1.12 httpcore-0.18.0 httpx-0.25.0 huggingface-hub-0.17.3 hyperopt-0.2.7 imagehash-4.3.1 imageio-2.31.4 imbalanced-learn-0.11.0 importlib-metadata-5.2.0 importlib-resources-6.1.0 iniconfig-2.0.0 interpret-0.4.4 interpret-core-0.4.4 itsdangerous-2.1.2 jupyter-dash-0.4.2 kaleido-0.2.1 kmodes-0.12.2 lazy_loader-0.3 lightgbm-4.1.0 lime-0.2.0.1 llvmlite-0.41.0 locket-1.0.0 m2cgen-0.10.0 mlflow-1.30.1 mlxtend-0.23.0 moto-4.2.4 msgpack-1.0.7 multimethod-1.10 multiprocess-0.70.15 networkx-3.1 nltk-3.8.1 numba-0.58.0 optuna-3.3.0 orjson-3.9.7 outcome-1.2.0 oyaml-1.0 packaging-21.3 partd-1.4.1 percy-2.0.2 phik-0.12.3 plotly-resampler-0.9.1 pmdarima-2.0.3 prometheus-flask-exporter-0.22.4 py4j-0.10.9.7 pyOpenSSL-23.2.0 pyaml-23.9.6 pycaret-3.1.0 pydub-0.25.1 pynndescent-0.5.10 pyod-1.1.0 pytest-7.4.2 python-multipart-0.0.6 qpd-0.4.4 querystring-parser-1.2.4 ray-2.7.0 regex-2023.8.8 responses-0.23.1 retrying-1.3.4 s3transfer-0.7.0 schemdraw-0.15 scikit-base-0.5.1 scikit-image-0.21.0 scikit-learn-intelex-2023.2.1 scikit-optimize-0.9.0 scikit-plot-0.3.7 scipy-1.10.1 selenium-4.2.0 semantic-version-2.10.0 shap-0.42.1 skope-rules-1.0.1 sktime-0.21.1 slicer-0.0.7 smmap-5.0.1 sortedcontainers-2.4.0 sqlalchemy-1.4.49 sqlglot-18.8.0 sqlparse-0.4.4 starlette-0.27.0 statsforecast-1.5.0 tabulate-0.9.0 tangled-up-in-unicode-0.2.0 tbats-1.1.3 tbb-2021.10.0 tblib-2.0.0 tensorboardX-2.6.2.2 tifffile-2023.9.26 toolz-0.12.0 tqdm-4.66.1 trace-updater-0.0.9.1 treeinterpreter-0.2.3 triad-0.9.1 trio-0.22.2 trio-websocket-0.11.1 tsdownsample-0.1.2 tune-sklearn-0.4.6 typeguard-2.13.3 types-PyYAML-6.0.12.12 typing-extensions-4.8.0 umap-learn-0.5.4 urllib3-secure-extra-0.1.0 uvicorn-0.23.2 visions-0.7.5 waitress-2.1.2 websockets-11.0.3 wordcloud-1.9.2 wrapt-1.15.0 wsproto-1.2.0 wurlitzer-3.0.3 xgboost-2.0.0 xmltodict-0.13.0 xxhash-3.3.0 ydata-profiling-4.5.1 yellowbrick-1.5 zict-3.0.0 zope.event-5.0 zope.interface-6.0\n\u001B[43mNote: you may need to restart the kernel using dbutils.library.restartPython() to use updated packages.\u001B[0m\n"
     ]
    }
   ],
   "source": [
    "!pip install pycaret[full]\n",
    "dbutils.library.restartPython()"
   ]
  },
  {
   "cell_type": "markdown",
   "metadata": {
    "application/vnd.databricks.v1+cell": {
     "cellMetadata": {
      "byteLimit": 2048000,
      "rowLimit": 10000
     },
     "inputWidgets": {},
     "nuid": "4bed758b-2dde-4b91-82cc-0944ae1b362e",
     "showTitle": false,
     "title": ""
    }
   },
   "source": [
    "# Load region_margin data"
   ]
  },
  {
   "cell_type": "code",
   "execution_count": 0,
   "metadata": {
    "application/vnd.databricks.v1+cell": {
     "cellMetadata": {
      "byteLimit": 2048000,
      "implicitDf": true,
      "rowLimit": 10000
     },
     "inputWidgets": {},
     "nuid": "04ef461e-a976-4be0-b7f8-6e8665cc00fd",
     "showTitle": false,
     "title": ""
    }
   },
   "outputs": [
    {
     "output_type": "display_data",
     "data": {
      "text/html": [
       "<style scoped>\n",
       "  .table-result-container {\n",
       "    max-height: 300px;\n",
       "    overflow: auto;\n",
       "  }\n",
       "  table, th, td {\n",
       "    border: 1px solid black;\n",
       "    border-collapse: collapse;\n",
       "  }\n",
       "  th, td {\n",
       "    padding: 5px;\n",
       "  }\n",
       "  th {\n",
       "    text-align: left;\n",
       "  }\n",
       "</style><div class='table-result-container'><table class='table-result'><thead style='background-color: white'><tr><th>region</th><th>product_line</th><th>month</th><th>cost_m_usd</th><th>revenue_m_usd</th><th>margin</th><th>margin_mom_change</th><th>region_month_margin_mom_change</th><th>product_line_month_margin_mom_change</th><th>region_product_line_month_margin_mom_change</th></tr></thead><tbody><tr><td>us-east1</td><td>jobs</td><td>2023-01-01</td><td>2.1</td><td>3.0</td><td>0.4285714285714285</td><td>0.4952380952380952</td><td>0.5619047619047619</td><td>null</td><td>null</td></tr><tr><td>us-east1</td><td>jobs</td><td>2023-02-01</td><td>2.1</td><td>3.0</td><td>0.4285714285714285</td><td>0.4952380952380952</td><td>0.9255411255411254</td><td>0.24523809523809514</td><td>0.0</td></tr><tr><td>us-east1</td><td>jobs</td><td>2023-03-01</td><td>2.1</td><td>3.0</td><td>0.4285714285714285</td><td>0.4952380952380952</td><td>0.9255411255411254</td><td>0.3816017316017316</td><td>0.0</td></tr><tr><td>us-east1</td><td>jobs</td><td>2023-04-01</td><td>2.1</td><td>3.0</td><td>0.4285714285714285</td><td>0.4952380952380952</td><td>0.9255411255411254</td><td>0.6316017316017315</td><td>0.0</td></tr><tr><td>us-east1</td><td>jobs</td><td>2023-05-01</td><td>2.1</td><td>3.0</td><td>0.4285714285714285</td><td>0.4285714285714285</td><td>0.792207792207792</td><td>0.689935064935065</td><td>-0.06666666666666671</td></tr><tr><td>us-east1</td><td>jobs</td><td>2023-06-01</td><td>2.1</td><td>3.0</td><td>0.4285714285714285</td><td>0.4285714285714285</td><td>0.792207792207792</td><td>0.689935064935065</td><td>0.0</td></tr><tr><td>us-east1</td><td>jobs</td><td>2023-07-01</td><td>2.1</td><td>3.0</td><td>0.4285714285714285</td><td>0.4285714285714285</td><td>0.792207792207792</td><td>0.689935064935065</td><td>0.0</td></tr><tr><td>us-east1</td><td>jobs</td><td>2023-08-01</td><td>2.1</td><td>3.0</td><td>0.4285714285714285</td><td>0.4285714285714285</td><td>0.792207792207792</td><td>0.8149350649350647</td><td>0.0</td></tr><tr><td>us-east1</td><td>sql</td><td>2023-01-01</td><td>1.5</td><td>1.4</td><td>-0.06666666666666672</td><td>-0.06666666666666672</td><td>null</td><td>null</td><td>null</td></tr><tr><td>us-east1</td><td>sql</td><td>2023-02-01</td><td>1.5</td><td>1.4</td><td>-0.06666666666666672</td><td>-0.43030303030303024</td><td>-0.9255411255411254</td><td>null</td><td>-0.36363636363636354</td></tr><tr><td>us-east1</td><td>sql</td><td>2023-03-01</td><td>1.5</td><td>1.4</td><td>-0.06666666666666672</td><td>-0.43030303030303024</td><td>-0.9255411255411254</td><td>-0.2517316017316017</td><td>0.0</td></tr><tr><td>us-east1</td><td>sql</td><td>2023-04-01</td><td>1.5</td><td>1.4</td><td>-0.06666666666666672</td><td>-0.43030303030303024</td><td>-0.9255411255411254</td><td>-0.5017316017316016</td><td>0.0</td></tr><tr><td>us-east1</td><td>sql</td><td>2023-05-01</td><td>1.5</td><td>1.5</td><td>0.0</td><td>-0.36363636363636354</td><td>-0.8588744588744588</td><td>-0.560064935064935</td><td>0.06666666666666671</td></tr><tr><td>us-east1</td><td>sql</td><td>2023-06-01</td><td>1.5</td><td>1.5</td><td>0.0</td><td>-0.36363636363636354</td><td>-0.792207792207792</td><td>-0.560064935064935</td><td>0.0</td></tr><tr><td>us-east1</td><td>sql</td><td>2023-07-01</td><td>1.5</td><td>1.5</td><td>0.0</td><td>-0.36363636363636354</td><td>-0.792207792207792</td><td>-0.560064935064935</td><td>0.0</td></tr><tr><td>us-east1</td><td>sql</td><td>2023-08-01</td><td>1.5</td><td>1.5</td><td>0.0</td><td>-0.36363636363636354</td><td>-0.792207792207792</td><td>-0.6850649350649348</td><td>0.0</td></tr><tr><td>us-west1</td><td>jobs</td><td>2023-01-01</td><td>1.1</td><td>1.1</td><td>0.0</td><td>0.25000000000000006</td><td>null</td><td>-0.24523809523809514</td><td>null</td></tr><tr><td>us-west1</td><td>jobs</td><td>2023-02-01</td><td>1.1</td><td>1.5</td><td>0.36363636363636354</td><td>0.11363636363636359</td><td>0.29220779220779214</td><td>-0.3816017316017316</td><td>-0.13636363636363646</td></tr><tr><td>us-west1</td><td>jobs</td><td>2023-03-01</td><td>1.1</td><td>1.5</td><td>0.36363636363636354</td><td>-0.13636363636363635</td><td>-0.20779220779220775</td><td>-0.6316017316017315</td><td>-0.24999999999999994</td></tr><tr><td>us-west1</td><td>jobs</td><td>2023-04-01</td><td>1.1</td><td>1.5</td><td>0.36363636363636354</td><td>-0.26136363636363646</td><td>-0.457792207792208</td><td>-0.7566017316017317</td><td>-0.1250000000000001</td></tr><tr><td>us-west1</td><td>jobs</td><td>2023-05-01</td><td>1.1</td><td>1.5</td><td>0.36363636363636354</td><td>-0.26136363636363646</td><td>-0.457792207792208</td><td>-0.689935064935065</td><td>0.0</td></tr><tr><td>us-west1</td><td>jobs</td><td>2023-06-01</td><td>1.1</td><td>1.5</td><td>0.36363636363636354</td><td>-0.26136363636363646</td><td>-0.457792207792208</td><td>-0.689935064935065</td><td>0.0</td></tr><tr><td>us-west1</td><td>jobs</td><td>2023-07-01</td><td>1.1</td><td>1.5</td><td>0.36363636363636354</td><td>-0.38636363636363624</td><td>-0.7077922077922075</td><td>-0.8149350649350647</td><td>-0.12499999999999978</td></tr><tr><td>us-west1</td><td>jobs</td><td>2023-08-01</td><td>1.1</td><td>1.5</td><td>0.36363636363636354</td><td>-0.5113636363636364</td><td>-0.9577922077922078</td><td>-0.9399350649350648</td><td>-0.1250000000000001</td></tr><tr><td>us-west1</td><td>sql</td><td>2023-01-01</td><td>0.8</td><td>0.6</td><td>-0.25000000000000006</td><td>null</td><td>null</td><td>null</td><td>null</td></tr><tr><td>us-west1</td><td>sql</td><td>2023-02-01</td><td>0.8</td><td>1.0</td><td>0.24999999999999994</td><td>-0.17857142857142855</td><td>-0.4285714285714286</td><td>0.2517316017316017</td><td>null</td></tr><tr><td>us-west1</td><td>sql</td><td>2023-03-01</td><td>0.8</td><td>1.2</td><td>0.4999999999999999</td><td>0.0714285714285714</td><td>-0.042207792207792194</td><td>0.5017316017316016</td><td>0.24999999999999994</td></tr><tr><td>us-west1</td><td>sql</td><td>2023-04-01</td><td>0.8</td><td>1.3</td><td>0.625</td><td>0.1964285714285715</td><td>0.33279220779220786</td><td>0.6267316017316018</td><td>0.1250000000000001</td></tr><tr><td>us-west1</td><td>sql</td><td>2023-05-01</td><td>0.8</td><td>1.3</td><td>0.625</td><td>0.1964285714285715</td><td>0.457792207792208</td><td>0.560064935064935</td><td>0.0</td></tr><tr><td>us-west1</td><td>sql</td><td>2023-06-01</td><td>0.8</td><td>1.3</td><td>0.625</td><td>0.1964285714285715</td><td>0.457792207792208</td><td>0.560064935064935</td><td>0.0</td></tr><tr><td>us-west1</td><td>sql</td><td>2023-07-01</td><td>0.8</td><td>1.4</td><td>0.7499999999999998</td><td>0.3214285714285713</td><td>0.5827922077922078</td><td>0.6850649350649348</td><td>0.12499999999999978</td></tr><tr><td>us-west1</td><td>sql</td><td>2023-08-01</td><td>0.8</td><td>1.5</td><td>0.8749999999999999</td><td>0.4464285714285714</td><td>0.8327922077922076</td><td>0.8100649350649349</td><td>0.1250000000000001</td></tr></tbody></table></div>"
      ]
     },
     "metadata": {
      "application/vnd.databricks.v1+output": {
       "addedWidgets": {},
       "aggData": [],
       "aggError": "",
       "aggOverflow": false,
       "aggSchema": [],
       "aggSeriesLimitReached": false,
       "aggType": "",
       "arguments": {},
       "columnCustomDisplayInfos": {},
       "data": [
        [
         "us-east1",
         "jobs",
         "2023-01-01",
         2.1,
         3.0,
         0.4285714285714285,
         0.4952380952380952,
         0.5619047619047619,
         null,
         null
        ],
        [
         "us-east1",
         "jobs",
         "2023-02-01",
         2.1,
         3.0,
         0.4285714285714285,
         0.4952380952380952,
         0.9255411255411254,
         0.24523809523809514,
         0.0
        ],
        [
         "us-east1",
         "jobs",
         "2023-03-01",
         2.1,
         3.0,
         0.4285714285714285,
         0.4952380952380952,
         0.9255411255411254,
         0.3816017316017316,
         0.0
        ],
        [
         "us-east1",
         "jobs",
         "2023-04-01",
         2.1,
         3.0,
         0.4285714285714285,
         0.4952380952380952,
         0.9255411255411254,
         0.6316017316017315,
         0.0
        ],
        [
         "us-east1",
         "jobs",
         "2023-05-01",
         2.1,
         3.0,
         0.4285714285714285,
         0.4285714285714285,
         0.792207792207792,
         0.689935064935065,
         -0.06666666666666671
        ],
        [
         "us-east1",
         "jobs",
         "2023-06-01",
         2.1,
         3.0,
         0.4285714285714285,
         0.4285714285714285,
         0.792207792207792,
         0.689935064935065,
         0.0
        ],
        [
         "us-east1",
         "jobs",
         "2023-07-01",
         2.1,
         3.0,
         0.4285714285714285,
         0.4285714285714285,
         0.792207792207792,
         0.689935064935065,
         0.0
        ],
        [
         "us-east1",
         "jobs",
         "2023-08-01",
         2.1,
         3.0,
         0.4285714285714285,
         0.4285714285714285,
         0.792207792207792,
         0.8149350649350647,
         0.0
        ],
        [
         "us-east1",
         "sql",
         "2023-01-01",
         1.5,
         1.4,
         -0.06666666666666672,
         -0.06666666666666672,
         null,
         null,
         null
        ],
        [
         "us-east1",
         "sql",
         "2023-02-01",
         1.5,
         1.4,
         -0.06666666666666672,
         -0.43030303030303024,
         -0.9255411255411254,
         null,
         -0.36363636363636354
        ],
        [
         "us-east1",
         "sql",
         "2023-03-01",
         1.5,
         1.4,
         -0.06666666666666672,
         -0.43030303030303024,
         -0.9255411255411254,
         -0.2517316017316017,
         0.0
        ],
        [
         "us-east1",
         "sql",
         "2023-04-01",
         1.5,
         1.4,
         -0.06666666666666672,
         -0.43030303030303024,
         -0.9255411255411254,
         -0.5017316017316016,
         0.0
        ],
        [
         "us-east1",
         "sql",
         "2023-05-01",
         1.5,
         1.5,
         0.0,
         -0.36363636363636354,
         -0.8588744588744588,
         -0.560064935064935,
         0.06666666666666671
        ],
        [
         "us-east1",
         "sql",
         "2023-06-01",
         1.5,
         1.5,
         0.0,
         -0.36363636363636354,
         -0.792207792207792,
         -0.560064935064935,
         0.0
        ],
        [
         "us-east1",
         "sql",
         "2023-07-01",
         1.5,
         1.5,
         0.0,
         -0.36363636363636354,
         -0.792207792207792,
         -0.560064935064935,
         0.0
        ],
        [
         "us-east1",
         "sql",
         "2023-08-01",
         1.5,
         1.5,
         0.0,
         -0.36363636363636354,
         -0.792207792207792,
         -0.6850649350649348,
         0.0
        ],
        [
         "us-west1",
         "jobs",
         "2023-01-01",
         1.1,
         1.1,
         0.0,
         0.25000000000000006,
         null,
         -0.24523809523809514,
         null
        ],
        [
         "us-west1",
         "jobs",
         "2023-02-01",
         1.1,
         1.5,
         0.36363636363636354,
         0.11363636363636359,
         0.29220779220779214,
         -0.3816017316017316,
         -0.13636363636363646
        ],
        [
         "us-west1",
         "jobs",
         "2023-03-01",
         1.1,
         1.5,
         0.36363636363636354,
         -0.13636363636363635,
         -0.20779220779220775,
         -0.6316017316017315,
         -0.24999999999999994
        ],
        [
         "us-west1",
         "jobs",
         "2023-04-01",
         1.1,
         1.5,
         0.36363636363636354,
         -0.26136363636363646,
         -0.457792207792208,
         -0.7566017316017317,
         -0.1250000000000001
        ],
        [
         "us-west1",
         "jobs",
         "2023-05-01",
         1.1,
         1.5,
         0.36363636363636354,
         -0.26136363636363646,
         -0.457792207792208,
         -0.689935064935065,
         0.0
        ],
        [
         "us-west1",
         "jobs",
         "2023-06-01",
         1.1,
         1.5,
         0.36363636363636354,
         -0.26136363636363646,
         -0.457792207792208,
         -0.689935064935065,
         0.0
        ],
        [
         "us-west1",
         "jobs",
         "2023-07-01",
         1.1,
         1.5,
         0.36363636363636354,
         -0.38636363636363624,
         -0.7077922077922075,
         -0.8149350649350647,
         -0.12499999999999978
        ],
        [
         "us-west1",
         "jobs",
         "2023-08-01",
         1.1,
         1.5,
         0.36363636363636354,
         -0.5113636363636364,
         -0.9577922077922078,
         -0.9399350649350648,
         -0.1250000000000001
        ],
        [
         "us-west1",
         "sql",
         "2023-01-01",
         0.8,
         0.6,
         -0.25000000000000006,
         null,
         null,
         null,
         null
        ],
        [
         "us-west1",
         "sql",
         "2023-02-01",
         0.8,
         1.0,
         0.24999999999999994,
         -0.17857142857142855,
         -0.4285714285714286,
         0.2517316017316017,
         null
        ],
        [
         "us-west1",
         "sql",
         "2023-03-01",
         0.8,
         1.2,
         0.4999999999999999,
         0.0714285714285714,
         -0.042207792207792194,
         0.5017316017316016,
         0.24999999999999994
        ],
        [
         "us-west1",
         "sql",
         "2023-04-01",
         0.8,
         1.3,
         0.625,
         0.1964285714285715,
         0.33279220779220786,
         0.6267316017316018,
         0.1250000000000001
        ],
        [
         "us-west1",
         "sql",
         "2023-05-01",
         0.8,
         1.3,
         0.625,
         0.1964285714285715,
         0.457792207792208,
         0.560064935064935,
         0.0
        ],
        [
         "us-west1",
         "sql",
         "2023-06-01",
         0.8,
         1.3,
         0.625,
         0.1964285714285715,
         0.457792207792208,
         0.560064935064935,
         0.0
        ],
        [
         "us-west1",
         "sql",
         "2023-07-01",
         0.8,
         1.4,
         0.7499999999999998,
         0.3214285714285713,
         0.5827922077922078,
         0.6850649350649348,
         0.12499999999999978
        ],
        [
         "us-west1",
         "sql",
         "2023-08-01",
         0.8,
         1.5,
         0.8749999999999999,
         0.4464285714285714,
         0.8327922077922076,
         0.8100649350649349,
         0.1250000000000001
        ]
       ],
       "datasetInfos": [
        {
         "name": "_sqldf",
         "schema": {
          "fields": [
           {
            "metadata": {},
            "name": "region",
            "nullable": true,
            "type": "string"
           },
           {
            "metadata": {},
            "name": "product_line",
            "nullable": true,
            "type": "string"
           },
           {
            "metadata": {
             "__detected_date_formats": "yyyy-M"
            },
            "name": "month",
            "nullable": true,
            "type": "date"
           },
           {
            "metadata": {},
            "name": "cost_m_usd",
            "nullable": true,
            "type": "double"
           },
           {
            "metadata": {},
            "name": "revenue_m_usd",
            "nullable": true,
            "type": "double"
           },
           {
            "metadata": {},
            "name": "margin",
            "nullable": true,
            "type": "double"
           },
           {
            "metadata": {},
            "name": "margin_mom_change",
            "nullable": true,
            "type": "double"
           },
           {
            "metadata": {},
            "name": "region_month_margin_mom_change",
            "nullable": true,
            "type": "double"
           },
           {
            "metadata": {},
            "name": "product_line_month_margin_mom_change",
            "nullable": true,
            "type": "double"
           },
           {
            "metadata": {},
            "name": "region_product_line_month_margin_mom_change",
            "nullable": true,
            "type": "double"
           }
          ],
          "type": "struct"
         },
         "tableIdentifier": null,
         "typeStr": "pyspark.sql.dataframe.DataFrame"
        }
       ],
       "dbfsResultPath": null,
       "isJsonSchema": true,
       "metadata": {
        "dataframeName": "_sqldf",
        "executionCount": 1
       },
       "overflow": false,
       "plotOptions": {
        "customPlotOptions": {},
        "displayType": "table",
        "pivotAggregation": null,
        "pivotColumns": null,
        "xColumns": null,
        "yColumns": null
       },
       "removedWidgets": [],
       "schema": [
        {
         "metadata": "{}",
         "name": "region",
         "type": "\"string\""
        },
        {
         "metadata": "{}",
         "name": "product_line",
         "type": "\"string\""
        },
        {
         "metadata": "{\"__detected_date_formats\":\"yyyy-M\"}",
         "name": "month",
         "type": "\"date\""
        },
        {
         "metadata": "{}",
         "name": "cost_m_usd",
         "type": "\"double\""
        },
        {
         "metadata": "{}",
         "name": "revenue_m_usd",
         "type": "\"double\""
        },
        {
         "metadata": "{}",
         "name": "margin",
         "type": "\"double\""
        },
        {
         "metadata": "{}",
         "name": "margin_mom_change",
         "type": "\"double\""
        },
        {
         "metadata": "{}",
         "name": "region_month_margin_mom_change",
         "type": "\"double\""
        },
        {
         "metadata": "{}",
         "name": "product_line_month_margin_mom_change",
         "type": "\"double\""
        },
        {
         "metadata": "{}",
         "name": "region_product_line_month_margin_mom_change",
         "type": "\"double\""
        }
       ],
       "type": "table"
      }
     },
     "output_type": "display_data"
    }
   ],
   "source": [
    "%sql\n",
    "\n",
    "REFRESH TABLE region_margin;\n",
    "select * from region_margin;"
   ]
  },
  {
   "cell_type": "code",
   "execution_count": 0,
   "metadata": {
    "application/vnd.databricks.v1+cell": {
     "cellMetadata": {
      "byteLimit": 2048000,
      "rowLimit": 10000
     },
     "inputWidgets": {},
     "nuid": "fd29860c-e983-4a64-8d92-5ab49af64ab1",
     "showTitle": false,
     "title": ""
    }
   },
   "outputs": [
    {
     "output_type": "stream",
     "name": "stdout",
     "output_type": "stream",
     "text": [
      "<class 'pandas.core.frame.DataFrame'>\nRangeIndex: 32 entries, 0 to 31\nData columns (total 4 columns):\n #   Column        Non-Null Count  Dtype         \n---  ------        --------------  -----         \n 0   margin        32 non-null     float64       \n 1   product_line  32 non-null     object        \n 2   region        32 non-null     object        \n 3   month         32 non-null     datetime64[ns]\ndtypes: datetime64[ns](1), float64(1), object(2)\nmemory usage: 1.1+ KB\n"
     ]
    }
   ],
   "source": [
    "region_margins_sqldf=_sqldf\n",
    "region_margins_df = region_margins_sqldf.select('margin','product_line','region','month').toPandas()\n",
    "import pandas as pd\n",
    "region_margins_df['month'] = pd.to_datetime(region_margins_df['month'])\n",
    "\n",
    "display(region_margins_df.info())"
   ]
  },
  {
   "cell_type": "markdown",
   "metadata": {
    "application/vnd.databricks.v1+cell": {
     "cellMetadata": {
      "byteLimit": 2048000,
      "rowLimit": 10000
     },
     "inputWidgets": {},
     "nuid": "11c9080f-316e-4857-bf2d-fb53dcb8aa1c",
     "showTitle": false,
     "title": ""
    }
   },
   "source": [
    "# TS Forecasting Experiment - Setup"
   ]
  },
  {
   "cell_type": "code",
   "execution_count": 0,
   "metadata": {
    "application/vnd.databricks.v1+cell": {
     "cellMetadata": {
      "byteLimit": 2048000,
      "rowLimit": 10000
     },
     "inputWidgets": {},
     "nuid": "43ff1452-8468-4147-85d8-7068f3d25fcc",
     "showTitle": false,
     "title": ""
    }
   },
   "outputs": [
    {
     "output_type": "stream",
     "name": "stderr",
     "output_type": "stream",
     "text": [
      "Exception ignored on calling ctypes callback function: <function _ThreadpoolInfo._find_modules_with_dl_iterate_phdr.<locals>.match_module_callback at 0x7f844fa0f250>\nTraceback (most recent call last):\n  File \"/databricks/python/lib/python3.10/site-packages/threadpoolctl.py\", line 400, in match_module_callback\n    self._make_module_from_path(filepath)\n  File \"/databricks/python/lib/python3.10/site-packages/threadpoolctl.py\", line 515, in _make_module_from_path\n    module = module_class(filepath, prefix, user_api, internal_api)\n  File \"/databricks/python/lib/python3.10/site-packages/threadpoolctl.py\", line 606, in __init__\n    self.version = self.get_version()\n  File \"/databricks/python/lib/python3.10/site-packages/threadpoolctl.py\", line 646, in get_version\n    config = get_config().split()\nAttributeError: 'NoneType' object has no attribute 'split'\n"
     ]
    },
    {
     "output_type": "display_data",
     "data": {
      "text/html": [
       "<div>\n",
       "<style scoped>\n",
       "    .dataframe tbody tr th:only-of-type {\n",
       "        vertical-align: middle;\n",
       "    }\n",
       "\n",
       "    .dataframe tbody tr th {\n",
       "        vertical-align: top;\n",
       "    }\n",
       "\n",
       "    .dataframe thead th {\n",
       "        text-align: right;\n",
       "    }\n",
       "</style>\n",
       "<table border=\"1\" class=\"dataframe\">\n",
       "  <thead>\n",
       "    <tr style=\"text-align: right;\">\n",
       "      <th></th>\n",
       "      <th>Description</th>\n",
       "      <th>Value</th>\n",
       "    </tr>\n",
       "  </thead>\n",
       "  <tbody>\n",
       "    <tr>\n",
       "      <th>0</th>\n",
       "      <td>session_id</td>\n",
       "      <td>123</td>\n",
       "    </tr>\n",
       "    <tr>\n",
       "      <th>1</th>\n",
       "      <td>Target</td>\n",
       "      <td>margin</td>\n",
       "    </tr>\n",
       "    <tr>\n",
       "      <th>2</th>\n",
       "      <td>Approach</td>\n",
       "      <td>Univariate</td>\n",
       "    </tr>\n",
       "    <tr>\n",
       "      <th>3</th>\n",
       "      <td>Exogenous Variables</td>\n",
       "      <td>Present</td>\n",
       "    </tr>\n",
       "    <tr>\n",
       "      <th>4</th>\n",
       "      <td>Original data shape</td>\n",
       "      <td>(32, 2)</td>\n",
       "    </tr>\n",
       "    <tr>\n",
       "      <th>5</th>\n",
       "      <td>Transformed data shape</td>\n",
       "      <td>(32, 2)</td>\n",
       "    </tr>\n",
       "    <tr>\n",
       "      <th>6</th>\n",
       "      <td>Transformed train set shape</td>\n",
       "      <td>(29, 2)</td>\n",
       "    </tr>\n",
       "    <tr>\n",
       "      <th>7</th>\n",
       "      <td>Transformed test set shape</td>\n",
       "      <td>(3, 2)</td>\n",
       "    </tr>\n",
       "    <tr>\n",
       "      <th>8</th>\n",
       "      <td>Rows with missing values</td>\n",
       "      <td>0.0%</td>\n",
       "    </tr>\n",
       "    <tr>\n",
       "      <th>9</th>\n",
       "      <td>Fold Generator</td>\n",
       "      <td>ExpandingWindowSplitter</td>\n",
       "    </tr>\n",
       "    <tr>\n",
       "      <th>10</th>\n",
       "      <td>Fold Number</td>\n",
       "      <td>3</td>\n",
       "    </tr>\n",
       "    <tr>\n",
       "      <th>11</th>\n",
       "      <td>Enforce Prediction Interval</td>\n",
       "      <td>False</td>\n",
       "    </tr>\n",
       "    <tr>\n",
       "      <th>12</th>\n",
       "      <td>Splits used for hyperparameters</td>\n",
       "      <td>all</td>\n",
       "    </tr>\n",
       "    <tr>\n",
       "      <th>13</th>\n",
       "      <td>User Defined Seasonal Period(s)</td>\n",
       "      <td>None</td>\n",
       "    </tr>\n",
       "    <tr>\n",
       "      <th>14</th>\n",
       "      <td>Ignore Seasonality Test</td>\n",
       "      <td>False</td>\n",
       "    </tr>\n",
       "    <tr>\n",
       "      <th>15</th>\n",
       "      <td>Seasonality Detection Algo</td>\n",
       "      <td>auto</td>\n",
       "    </tr>\n",
       "    <tr>\n",
       "      <th>16</th>\n",
       "      <td>Max Period to Consider</td>\n",
       "      <td>60</td>\n",
       "    </tr>\n",
       "    <tr>\n",
       "      <th>17</th>\n",
       "      <td>Seasonal Period(s) Tested</td>\n",
       "      <td>[]</td>\n",
       "    </tr>\n",
       "    <tr>\n",
       "      <th>18</th>\n",
       "      <td>Significant Seasonal Period(s)</td>\n",
       "      <td>[1]</td>\n",
       "    </tr>\n",
       "    <tr>\n",
       "      <th>19</th>\n",
       "      <td>Significant Seasonal Period(s) without Harmonics</td>\n",
       "      <td>[1]</td>\n",
       "    </tr>\n",
       "    <tr>\n",
       "      <th>20</th>\n",
       "      <td>Remove Harmonics</td>\n",
       "      <td>False</td>\n",
       "    </tr>\n",
       "    <tr>\n",
       "      <th>21</th>\n",
       "      <td>Harmonics Order Method</td>\n",
       "      <td>harmonic_max</td>\n",
       "    </tr>\n",
       "    <tr>\n",
       "      <th>22</th>\n",
       "      <td>Num Seasonalities to Use</td>\n",
       "      <td>1</td>\n",
       "    </tr>\n",
       "    <tr>\n",
       "      <th>23</th>\n",
       "      <td>All Seasonalities to Use</td>\n",
       "      <td>[1]</td>\n",
       "    </tr>\n",
       "    <tr>\n",
       "      <th>24</th>\n",
       "      <td>Primary Seasonality</td>\n",
       "      <td>1</td>\n",
       "    </tr>\n",
       "    <tr>\n",
       "      <th>25</th>\n",
       "      <td>Seasonality Present</td>\n",
       "      <td>False</td>\n",
       "    </tr>\n",
       "    <tr>\n",
       "      <th>26</th>\n",
       "      <td>Seasonality Type</td>\n",
       "      <td>None</td>\n",
       "    </tr>\n",
       "    <tr>\n",
       "      <th>27</th>\n",
       "      <td>Target Strictly Positive</td>\n",
       "      <td>False</td>\n",
       "    </tr>\n",
       "    <tr>\n",
       "      <th>28</th>\n",
       "      <td>Target White Noise</td>\n",
       "      <td>No</td>\n",
       "    </tr>\n",
       "    <tr>\n",
       "      <th>29</th>\n",
       "      <td>Recommended d</td>\n",
       "      <td>0</td>\n",
       "    </tr>\n",
       "    <tr>\n",
       "      <th>30</th>\n",
       "      <td>Recommended Seasonal D</td>\n",
       "      <td>0</td>\n",
       "    </tr>\n",
       "    <tr>\n",
       "      <th>31</th>\n",
       "      <td>Preprocess</td>\n",
       "      <td>False</td>\n",
       "    </tr>\n",
       "    <tr>\n",
       "      <th>32</th>\n",
       "      <td>CPU Jobs</td>\n",
       "      <td>-1</td>\n",
       "    </tr>\n",
       "    <tr>\n",
       "      <th>33</th>\n",
       "      <td>Use GPU</td>\n",
       "      <td>False</td>\n",
       "    </tr>\n",
       "    <tr>\n",
       "      <th>34</th>\n",
       "      <td>Log Experiment</td>\n",
       "      <td>False</td>\n",
       "    </tr>\n",
       "    <tr>\n",
       "      <th>35</th>\n",
       "      <td>Experiment Name</td>\n",
       "      <td>ts-default-name</td>\n",
       "    </tr>\n",
       "    <tr>\n",
       "      <th>36</th>\n",
       "      <td>USI</td>\n",
       "      <td>b3e9</td>\n",
       "    </tr>\n",
       "  </tbody>\n",
       "</table>\n",
       "</div>"
      ],
      "text/plain": [
       "                                         Description                    Value\n",
       "0                                         session_id                      123\n",
       "1                                             Target                   margin\n",
       "2                                           Approach               Univariate\n",
       "3                                Exogenous Variables                  Present\n",
       "4                                Original data shape                  (32, 2)\n",
       "5                             Transformed data shape                  (32, 2)\n",
       "6                        Transformed train set shape                  (29, 2)\n",
       "7                         Transformed test set shape                   (3, 2)\n",
       "8                           Rows with missing values                     0.0%\n",
       "9                                     Fold Generator  ExpandingWindowSplitter\n",
       "10                                       Fold Number                        3\n",
       "11                       Enforce Prediction Interval                    False\n",
       "12                   Splits used for hyperparameters                      all\n",
       "13                   User Defined Seasonal Period(s)                     None\n",
       "14                           Ignore Seasonality Test                    False\n",
       "15                        Seasonality Detection Algo                     auto\n",
       "16                            Max Period to Consider                       60\n",
       "17                         Seasonal Period(s) Tested                       []\n",
       "18                    Significant Seasonal Period(s)                      [1]\n",
       "19  Significant Seasonal Period(s) without Harmonics                      [1]\n",
       "20                                  Remove Harmonics                    False\n",
       "21                            Harmonics Order Method             harmonic_max\n",
       "22                          Num Seasonalities to Use                        1\n",
       "23                          All Seasonalities to Use                      [1]\n",
       "24                               Primary Seasonality                        1\n",
       "25                               Seasonality Present                    False\n",
       "26                                  Seasonality Type                     None\n",
       "27                          Target Strictly Positive                    False\n",
       "28                                Target White Noise                       No\n",
       "29                                     Recommended d                        0\n",
       "30                            Recommended Seasonal D                        0\n",
       "31                                        Preprocess                    False\n",
       "32                                          CPU Jobs                       -1\n",
       "33                                           Use GPU                    False\n",
       "34                                    Log Experiment                    False\n",
       "35                                   Experiment Name          ts-default-name\n",
       "36                                               USI                     b3e9"
      ]
     },
     "metadata": {},
     "output_type": "display_data"
    },
    {
     "output_type": "display_data",
     "data": {
      "text/html": [
       "<div>\n",
       "<style scoped>\n",
       "    .dataframe tbody tr th:only-of-type {\n",
       "        vertical-align: middle;\n",
       "    }\n",
       "\n",
       "    .dataframe tbody tr th {\n",
       "        vertical-align: top;\n",
       "    }\n",
       "\n",
       "    .dataframe thead th {\n",
       "        text-align: right;\n",
       "    }\n",
       "</style>\n",
       "<table border=\"1\" class=\"dataframe\">\n",
       "  <thead>\n",
       "    <tr style=\"text-align: right;\">\n",
       "      <th></th>\n",
       "      <th>Description</th>\n",
       "      <th>Value</th>\n",
       "    </tr>\n",
       "  </thead>\n",
       "  <tbody>\n",
       "    <tr>\n",
       "      <th>0</th>\n",
       "      <td>session_id</td>\n",
       "      <td>1</td>\n",
       "    </tr>\n",
       "    <tr>\n",
       "      <th>1</th>\n",
       "      <td>Target</td>\n",
       "      <td>margin</td>\n",
       "    </tr>\n",
       "    <tr>\n",
       "      <th>2</th>\n",
       "      <td>Approach</td>\n",
       "      <td>Univariate</td>\n",
       "    </tr>\n",
       "    <tr>\n",
       "      <th>3</th>\n",
       "      <td>Exogenous Variables</td>\n",
       "      <td>Present</td>\n",
       "    </tr>\n",
       "    <tr>\n",
       "      <th>4</th>\n",
       "      <td>Original data shape</td>\n",
       "      <td>(32, 2)</td>\n",
       "    </tr>\n",
       "    <tr>\n",
       "      <th>5</th>\n",
       "      <td>Transformed data shape</td>\n",
       "      <td>(32, 2)</td>\n",
       "    </tr>\n",
       "    <tr>\n",
       "      <th>6</th>\n",
       "      <td>Transformed train set shape</td>\n",
       "      <td>(29, 2)</td>\n",
       "    </tr>\n",
       "    <tr>\n",
       "      <th>7</th>\n",
       "      <td>Transformed test set shape</td>\n",
       "      <td>(3, 2)</td>\n",
       "    </tr>\n",
       "    <tr>\n",
       "      <th>8</th>\n",
       "      <td>Rows with missing values</td>\n",
       "      <td>0.0%</td>\n",
       "    </tr>\n",
       "    <tr>\n",
       "      <th>9</th>\n",
       "      <td>Fold Generator</td>\n",
       "      <td>ExpandingWindowSplitter</td>\n",
       "    </tr>\n",
       "    <tr>\n",
       "      <th>10</th>\n",
       "      <td>Fold Number</td>\n",
       "      <td>3</td>\n",
       "    </tr>\n",
       "    <tr>\n",
       "      <th>11</th>\n",
       "      <td>Enforce Prediction Interval</td>\n",
       "      <td>False</td>\n",
       "    </tr>\n",
       "    <tr>\n",
       "      <th>12</th>\n",
       "      <td>Splits used for hyperparameters</td>\n",
       "      <td>all</td>\n",
       "    </tr>\n",
       "    <tr>\n",
       "      <th>13</th>\n",
       "      <td>User Defined Seasonal Period(s)</td>\n",
       "      <td>None</td>\n",
       "    </tr>\n",
       "    <tr>\n",
       "      <th>14</th>\n",
       "      <td>Ignore Seasonality Test</td>\n",
       "      <td>False</td>\n",
       "    </tr>\n",
       "    <tr>\n",
       "      <th>15</th>\n",
       "      <td>Seasonality Detection Algo</td>\n",
       "      <td>auto</td>\n",
       "    </tr>\n",
       "    <tr>\n",
       "      <th>16</th>\n",
       "      <td>Max Period to Consider</td>\n",
       "      <td>60</td>\n",
       "    </tr>\n",
       "    <tr>\n",
       "      <th>17</th>\n",
       "      <td>Seasonal Period(s) Tested</td>\n",
       "      <td>[]</td>\n",
       "    </tr>\n",
       "    <tr>\n",
       "      <th>18</th>\n",
       "      <td>Significant Seasonal Period(s)</td>\n",
       "      <td>[1]</td>\n",
       "    </tr>\n",
       "    <tr>\n",
       "      <th>19</th>\n",
       "      <td>Significant Seasonal Period(s) without Harmonics</td>\n",
       "      <td>[1]</td>\n",
       "    </tr>\n",
       "    <tr>\n",
       "      <th>20</th>\n",
       "      <td>Remove Harmonics</td>\n",
       "      <td>False</td>\n",
       "    </tr>\n",
       "    <tr>\n",
       "      <th>21</th>\n",
       "      <td>Harmonics Order Method</td>\n",
       "      <td>harmonic_max</td>\n",
       "    </tr>\n",
       "    <tr>\n",
       "      <th>22</th>\n",
       "      <td>Num Seasonalities to Use</td>\n",
       "      <td>1</td>\n",
       "    </tr>\n",
       "    <tr>\n",
       "      <th>23</th>\n",
       "      <td>All Seasonalities to Use</td>\n",
       "      <td>[1]</td>\n",
       "    </tr>\n",
       "    <tr>\n",
       "      <th>24</th>\n",
       "      <td>Primary Seasonality</td>\n",
       "      <td>1</td>\n",
       "    </tr>\n",
       "    <tr>\n",
       "      <th>25</th>\n",
       "      <td>Seasonality Present</td>\n",
       "      <td>False</td>\n",
       "    </tr>\n",
       "    <tr>\n",
       "      <th>26</th>\n",
       "      <td>Seasonality Type</td>\n",
       "      <td>None</td>\n",
       "    </tr>\n",
       "    <tr>\n",
       "      <th>27</th>\n",
       "      <td>Target Strictly Positive</td>\n",
       "      <td>False</td>\n",
       "    </tr>\n",
       "    <tr>\n",
       "      <th>28</th>\n",
       "      <td>Target White Noise</td>\n",
       "      <td>No</td>\n",
       "    </tr>\n",
       "    <tr>\n",
       "      <th>29</th>\n",
       "      <td>Recommended d</td>\n",
       "      <td>0</td>\n",
       "    </tr>\n",
       "    <tr>\n",
       "      <th>30</th>\n",
       "      <td>Recommended Seasonal D</td>\n",
       "      <td>0</td>\n",
       "    </tr>\n",
       "    <tr>\n",
       "      <th>31</th>\n",
       "      <td>Preprocess</td>\n",
       "      <td>False</td>\n",
       "    </tr>\n",
       "    <tr>\n",
       "      <th>32</th>\n",
       "      <td>CPU Jobs</td>\n",
       "      <td>-1</td>\n",
       "    </tr>\n",
       "    <tr>\n",
       "      <th>33</th>\n",
       "      <td>Use GPU</td>\n",
       "      <td>False</td>\n",
       "    </tr>\n",
       "    <tr>\n",
       "      <th>34</th>\n",
       "      <td>Log Experiment</td>\n",
       "      <td>False</td>\n",
       "    </tr>\n",
       "    <tr>\n",
       "      <th>35</th>\n",
       "      <td>Experiment Name</td>\n",
       "      <td>ts-default-name</td>\n",
       "    </tr>\n",
       "    <tr>\n",
       "      <th>36</th>\n",
       "      <td>USI</td>\n",
       "      <td>9ac8</td>\n",
       "    </tr>\n",
       "  </tbody>\n",
       "</table>\n",
       "</div>"
      ],
      "text/plain": [
       "                                         Description                    Value\n",
       "0                                         session_id                        1\n",
       "1                                             Target                   margin\n",
       "2                                           Approach               Univariate\n",
       "3                                Exogenous Variables                  Present\n",
       "4                                Original data shape                  (32, 2)\n",
       "5                             Transformed data shape                  (32, 2)\n",
       "6                        Transformed train set shape                  (29, 2)\n",
       "7                         Transformed test set shape                   (3, 2)\n",
       "8                           Rows with missing values                     0.0%\n",
       "9                                     Fold Generator  ExpandingWindowSplitter\n",
       "10                                       Fold Number                        3\n",
       "11                       Enforce Prediction Interval                    False\n",
       "12                   Splits used for hyperparameters                      all\n",
       "13                   User Defined Seasonal Period(s)                     None\n",
       "14                           Ignore Seasonality Test                    False\n",
       "15                        Seasonality Detection Algo                     auto\n",
       "16                            Max Period to Consider                       60\n",
       "17                         Seasonal Period(s) Tested                       []\n",
       "18                    Significant Seasonal Period(s)                      [1]\n",
       "19  Significant Seasonal Period(s) without Harmonics                      [1]\n",
       "20                                  Remove Harmonics                    False\n",
       "21                            Harmonics Order Method             harmonic_max\n",
       "22                          Num Seasonalities to Use                        1\n",
       "23                          All Seasonalities to Use                      [1]\n",
       "24                               Primary Seasonality                        1\n",
       "25                               Seasonality Present                    False\n",
       "26                                  Seasonality Type                     None\n",
       "27                          Target Strictly Positive                    False\n",
       "28                                Target White Noise                       No\n",
       "29                                     Recommended d                        0\n",
       "30                            Recommended Seasonal D                        0\n",
       "31                                        Preprocess                    False\n",
       "32                                          CPU Jobs                       -1\n",
       "33                                           Use GPU                    False\n",
       "34                                    Log Experiment                    False\n",
       "35                                   Experiment Name          ts-default-name\n",
       "36                                               USI                     9ac8"
      ]
     },
     "metadata": {},
     "output_type": "display_data"
    },
    {
     "output_type": "execute_result",
     "data": {
      "text/plain": [
       "<pycaret.time_series.forecasting.oop.TSForecastingExperiment at 0x7f8480cfa710>"
      ]
     },
     "execution_count": 3,
     "metadata": {},
     "output_type": "execute_result"
    }
   ],
   "source": [
    "from pycaret.time_series import *\n",
    "exp = TSForecastingExperiment()\n",
    "data = region_margins_df[['month','margin']]\n",
    "s = setup(data=data,target='margin', fh = 3, session_id = 123)\n",
    "exp.setup(data=data,target='margin', fh=3, session_id=1)  \n"
   ]
  },
  {
   "cell_type": "markdown",
   "metadata": {
    "application/vnd.databricks.v1+cell": {
     "cellMetadata": {
      "byteLimit": 2048000,
      "rowLimit": 10000
     },
     "inputWidgets": {},
     "nuid": "9c11adda-0e84-4bf2-ab15-7fa0ea0816fb",
     "showTitle": false,
     "title": ""
    }
   },
   "source": [
    "# Check Data Stats"
   ]
  },
  {
   "cell_type": "code",
   "execution_count": 0,
   "metadata": {
    "application/vnd.databricks.v1+cell": {
     "cellMetadata": {
      "byteLimit": 2048000,
      "rowLimit": 10000
     },
     "inputWidgets": {},
     "nuid": "c9b2c270-3900-4100-86de-6334c3863b9d",
     "showTitle": false,
     "title": ""
    }
   },
   "outputs": [
    {
     "output_type": "execute_result",
     "data": {
      "text/html": [
       "<div>\n",
       "<style scoped>\n",
       "    .dataframe tbody tr th:only-of-type {\n",
       "        vertical-align: middle;\n",
       "    }\n",
       "\n",
       "    .dataframe tbody tr th {\n",
       "        vertical-align: top;\n",
       "    }\n",
       "\n",
       "    .dataframe thead th {\n",
       "        text-align: right;\n",
       "    }\n",
       "</style>\n",
       "<table border=\"1\" class=\"dataframe\">\n",
       "  <thead>\n",
       "    <tr style=\"text-align: right;\">\n",
       "      <th></th>\n",
       "      <th>Test</th>\n",
       "      <th>Test Name</th>\n",
       "      <th>Data</th>\n",
       "      <th>Property</th>\n",
       "      <th>Setting</th>\n",
       "      <th>Value</th>\n",
       "    </tr>\n",
       "  </thead>\n",
       "  <tbody>\n",
       "    <tr>\n",
       "      <th>0</th>\n",
       "      <td>Summary</td>\n",
       "      <td>Statistics</td>\n",
       "      <td>Transformed</td>\n",
       "      <td>Length</td>\n",
       "      <td></td>\n",
       "      <td>32.0</td>\n",
       "    </tr>\n",
       "    <tr>\n",
       "      <th>1</th>\n",
       "      <td>Summary</td>\n",
       "      <td>Statistics</td>\n",
       "      <td>Transformed</td>\n",
       "      <td># Missing Values</td>\n",
       "      <td></td>\n",
       "      <td>0.0</td>\n",
       "    </tr>\n",
       "    <tr>\n",
       "      <th>2</th>\n",
       "      <td>Summary</td>\n",
       "      <td>Statistics</td>\n",
       "      <td>Transformed</td>\n",
       "      <td>Mean</td>\n",
       "      <td></td>\n",
       "      <td>0.303355</td>\n",
       "    </tr>\n",
       "    <tr>\n",
       "      <th>3</th>\n",
       "      <td>Summary</td>\n",
       "      <td>Statistics</td>\n",
       "      <td>Transformed</td>\n",
       "      <td>Median</td>\n",
       "      <td></td>\n",
       "      <td>0.363636</td>\n",
       "    </tr>\n",
       "    <tr>\n",
       "      <th>4</th>\n",
       "      <td>Summary</td>\n",
       "      <td>Statistics</td>\n",
       "      <td>Transformed</td>\n",
       "      <td>Standard Deviation</td>\n",
       "      <td></td>\n",
       "      <td>0.27492</td>\n",
       "    </tr>\n",
       "    <tr>\n",
       "      <th>5</th>\n",
       "      <td>Summary</td>\n",
       "      <td>Statistics</td>\n",
       "      <td>Transformed</td>\n",
       "      <td>Variance</td>\n",
       "      <td></td>\n",
       "      <td>0.075581</td>\n",
       "    </tr>\n",
       "    <tr>\n",
       "      <th>6</th>\n",
       "      <td>Summary</td>\n",
       "      <td>Statistics</td>\n",
       "      <td>Transformed</td>\n",
       "      <td>Kurtosis</td>\n",
       "      <td></td>\n",
       "      <td>-0.617765</td>\n",
       "    </tr>\n",
       "    <tr>\n",
       "      <th>7</th>\n",
       "      <td>Summary</td>\n",
       "      <td>Statistics</td>\n",
       "      <td>Transformed</td>\n",
       "      <td>Skewness</td>\n",
       "      <td></td>\n",
       "      <td>-0.184213</td>\n",
       "    </tr>\n",
       "    <tr>\n",
       "      <th>8</th>\n",
       "      <td>Summary</td>\n",
       "      <td>Statistics</td>\n",
       "      <td>Transformed</td>\n",
       "      <td># Distinct Values</td>\n",
       "      <td></td>\n",
       "      <td>10.0</td>\n",
       "    </tr>\n",
       "    <tr>\n",
       "      <th>9</th>\n",
       "      <td>White Noise</td>\n",
       "      <td>Ljung-Box</td>\n",
       "      <td>Transformed</td>\n",
       "      <td>Test Statictic</td>\n",
       "      <td>{'alpha': 0.05, 'K': 24}</td>\n",
       "      <td>75.575207</td>\n",
       "    </tr>\n",
       "    <tr>\n",
       "      <th>10</th>\n",
       "      <td>White Noise</td>\n",
       "      <td>Ljung-Box</td>\n",
       "      <td>Transformed</td>\n",
       "      <td>p-value</td>\n",
       "      <td>{'alpha': 0.05, 'K': 24}</td>\n",
       "      <td>0.0</td>\n",
       "    </tr>\n",
       "    <tr>\n",
       "      <th>11</th>\n",
       "      <td>White Noise</td>\n",
       "      <td>Ljung-Box</td>\n",
       "      <td>Transformed</td>\n",
       "      <td>White Noise</td>\n",
       "      <td>{'alpha': 0.05, 'K': 24}</td>\n",
       "      <td>False</td>\n",
       "    </tr>\n",
       "    <tr>\n",
       "      <th>12</th>\n",
       "      <td>Stationarity</td>\n",
       "      <td>ADF</td>\n",
       "      <td>Transformed</td>\n",
       "      <td>Stationarity</td>\n",
       "      <td>{'alpha': 0.05}</td>\n",
       "      <td>False</td>\n",
       "    </tr>\n",
       "    <tr>\n",
       "      <th>13</th>\n",
       "      <td>Stationarity</td>\n",
       "      <td>ADF</td>\n",
       "      <td>Transformed</td>\n",
       "      <td>p-value</td>\n",
       "      <td>{'alpha': 0.05}</td>\n",
       "      <td>0.544397</td>\n",
       "    </tr>\n",
       "    <tr>\n",
       "      <th>14</th>\n",
       "      <td>Stationarity</td>\n",
       "      <td>ADF</td>\n",
       "      <td>Transformed</td>\n",
       "      <td>Test Statistic</td>\n",
       "      <td>{'alpha': 0.05}</td>\n",
       "      <td>-1.477935</td>\n",
       "    </tr>\n",
       "    <tr>\n",
       "      <th>15</th>\n",
       "      <td>Stationarity</td>\n",
       "      <td>ADF</td>\n",
       "      <td>Transformed</td>\n",
       "      <td>Critical Value 1%</td>\n",
       "      <td>{'alpha': 0.05}</td>\n",
       "      <td>-3.661429</td>\n",
       "    </tr>\n",
       "    <tr>\n",
       "      <th>16</th>\n",
       "      <td>Stationarity</td>\n",
       "      <td>ADF</td>\n",
       "      <td>Transformed</td>\n",
       "      <td>Critical Value 5%</td>\n",
       "      <td>{'alpha': 0.05}</td>\n",
       "      <td>-2.960525</td>\n",
       "    </tr>\n",
       "    <tr>\n",
       "      <th>17</th>\n",
       "      <td>Stationarity</td>\n",
       "      <td>ADF</td>\n",
       "      <td>Transformed</td>\n",
       "      <td>Critical Value 10%</td>\n",
       "      <td>{'alpha': 0.05}</td>\n",
       "      <td>-2.619319</td>\n",
       "    </tr>\n",
       "    <tr>\n",
       "      <th>18</th>\n",
       "      <td>Stationarity</td>\n",
       "      <td>KPSS</td>\n",
       "      <td>Transformed</td>\n",
       "      <td>Trend Stationarity</td>\n",
       "      <td>{'alpha': 0.05}</td>\n",
       "      <td>False</td>\n",
       "    </tr>\n",
       "    <tr>\n",
       "      <th>19</th>\n",
       "      <td>Stationarity</td>\n",
       "      <td>KPSS</td>\n",
       "      <td>Transformed</td>\n",
       "      <td>p-value</td>\n",
       "      <td>{'alpha': 0.05}</td>\n",
       "      <td>0.024967</td>\n",
       "    </tr>\n",
       "    <tr>\n",
       "      <th>20</th>\n",
       "      <td>Stationarity</td>\n",
       "      <td>KPSS</td>\n",
       "      <td>Transformed</td>\n",
       "      <td>Test Statistic</td>\n",
       "      <td>{'alpha': 0.05}</td>\n",
       "      <td>0.176087</td>\n",
       "    </tr>\n",
       "    <tr>\n",
       "      <th>21</th>\n",
       "      <td>Stationarity</td>\n",
       "      <td>KPSS</td>\n",
       "      <td>Transformed</td>\n",
       "      <td>Critical Value 10%</td>\n",
       "      <td>{'alpha': 0.05}</td>\n",
       "      <td>0.119</td>\n",
       "    </tr>\n",
       "    <tr>\n",
       "      <th>22</th>\n",
       "      <td>Stationarity</td>\n",
       "      <td>KPSS</td>\n",
       "      <td>Transformed</td>\n",
       "      <td>Critical Value 5%</td>\n",
       "      <td>{'alpha': 0.05}</td>\n",
       "      <td>0.146</td>\n",
       "    </tr>\n",
       "    <tr>\n",
       "      <th>23</th>\n",
       "      <td>Stationarity</td>\n",
       "      <td>KPSS</td>\n",
       "      <td>Transformed</td>\n",
       "      <td>Critical Value 2.5%</td>\n",
       "      <td>{'alpha': 0.05}</td>\n",
       "      <td>0.176</td>\n",
       "    </tr>\n",
       "    <tr>\n",
       "      <th>24</th>\n",
       "      <td>Stationarity</td>\n",
       "      <td>KPSS</td>\n",
       "      <td>Transformed</td>\n",
       "      <td>Critical Value 1%</td>\n",
       "      <td>{'alpha': 0.05}</td>\n",
       "      <td>0.216</td>\n",
       "    </tr>\n",
       "    <tr>\n",
       "      <th>25</th>\n",
       "      <td>Normality</td>\n",
       "      <td>Shapiro</td>\n",
       "      <td>Transformed</td>\n",
       "      <td>Normality</td>\n",
       "      <td>{'alpha': 0.05}</td>\n",
       "      <td>False</td>\n",
       "    </tr>\n",
       "    <tr>\n",
       "      <th>26</th>\n",
       "      <td>Normality</td>\n",
       "      <td>Shapiro</td>\n",
       "      <td>Transformed</td>\n",
       "      <td>p-value</td>\n",
       "      <td>{'alpha': 0.05}</td>\n",
       "      <td>0.017907</td>\n",
       "    </tr>\n",
       "  </tbody>\n",
       "</table>\n",
       "</div>"
      ],
      "text/plain": [
       "            Test   Test Name  ...                   Setting      Value\n",
       "0        Summary  Statistics  ...                                 32.0\n",
       "1        Summary  Statistics  ...                                  0.0\n",
       "2        Summary  Statistics  ...                             0.303355\n",
       "3        Summary  Statistics  ...                             0.363636\n",
       "4        Summary  Statistics  ...                              0.27492\n",
       "5        Summary  Statistics  ...                             0.075581\n",
       "6        Summary  Statistics  ...                            -0.617765\n",
       "7        Summary  Statistics  ...                            -0.184213\n",
       "8        Summary  Statistics  ...                                 10.0\n",
       "9    White Noise   Ljung-Box  ...  {'alpha': 0.05, 'K': 24}  75.575207\n",
       "10   White Noise   Ljung-Box  ...  {'alpha': 0.05, 'K': 24}        0.0\n",
       "11   White Noise   Ljung-Box  ...  {'alpha': 0.05, 'K': 24}      False\n",
       "12  Stationarity         ADF  ...           {'alpha': 0.05}      False\n",
       "13  Stationarity         ADF  ...           {'alpha': 0.05}   0.544397\n",
       "14  Stationarity         ADF  ...           {'alpha': 0.05}  -1.477935\n",
       "15  Stationarity         ADF  ...           {'alpha': 0.05}  -3.661429\n",
       "16  Stationarity         ADF  ...           {'alpha': 0.05}  -2.960525\n",
       "17  Stationarity         ADF  ...           {'alpha': 0.05}  -2.619319\n",
       "18  Stationarity        KPSS  ...           {'alpha': 0.05}      False\n",
       "19  Stationarity        KPSS  ...           {'alpha': 0.05}   0.024967\n",
       "20  Stationarity        KPSS  ...           {'alpha': 0.05}   0.176087\n",
       "21  Stationarity        KPSS  ...           {'alpha': 0.05}      0.119\n",
       "22  Stationarity        KPSS  ...           {'alpha': 0.05}      0.146\n",
       "23  Stationarity        KPSS  ...           {'alpha': 0.05}      0.176\n",
       "24  Stationarity        KPSS  ...           {'alpha': 0.05}      0.216\n",
       "25     Normality     Shapiro  ...           {'alpha': 0.05}      False\n",
       "26     Normality     Shapiro  ...           {'alpha': 0.05}   0.017907\n",
       "\n",
       "[27 rows x 6 columns]"
      ]
     },
     "execution_count": 4,
     "metadata": {},
     "output_type": "execute_result"
    }
   ],
   "source": [
    "s.check_stats()"
   ]
  },
  {
   "cell_type": "markdown",
   "metadata": {
    "application/vnd.databricks.v1+cell": {
     "cellMetadata": {
      "byteLimit": 2048000,
      "rowLimit": 10000
     },
     "inputWidgets": {},
     "nuid": "305a1e2c-d7ba-41c6-91b6-37cbaee1d2f7",
     "showTitle": false,
     "title": ""
    }
   },
   "source": [
    "# Compare Experiment Models"
   ]
  },
  {
   "cell_type": "code",
   "execution_count": 0,
   "metadata": {
    "application/vnd.databricks.v1+cell": {
     "cellMetadata": {
      "byteLimit": 2048000,
      "rowLimit": 10000
     },
     "inputWidgets": {},
     "nuid": "fc36de04-1c72-4466-8c0d-47fd3f26cee5",
     "showTitle": false,
     "title": ""
    }
   },
   "outputs": [
    {
     "output_type": "display_data",
     "data": {
      "text/html": [
       "<div>\n",
       "<style scoped>\n",
       "    .dataframe tbody tr th:only-of-type {\n",
       "        vertical-align: middle;\n",
       "    }\n",
       "\n",
       "    .dataframe tbody tr th {\n",
       "        vertical-align: top;\n",
       "    }\n",
       "\n",
       "    .dataframe thead th {\n",
       "        text-align: right;\n",
       "    }\n",
       "</style>\n",
       "<table border=\"1\" class=\"dataframe\">\n",
       "  <thead>\n",
       "    <tr style=\"text-align: right;\">\n",
       "      <th></th>\n",
       "      <th>Model</th>\n",
       "      <th>MASE</th>\n",
       "      <th>RMSSE</th>\n",
       "      <th>MAE</th>\n",
       "      <th>RMSE</th>\n",
       "      <th>MAPE</th>\n",
       "      <th>SMAPE</th>\n",
       "      <th>R2</th>\n",
       "      <th>TT (Sec)</th>\n",
       "    </tr>\n",
       "  </thead>\n",
       "  <tbody>\n",
       "    <tr>\n",
       "      <th>naive</th>\n",
       "      <td>Naive Forecaster</td>\n",
       "      <td>3.2830</td>\n",
       "      <td>1.4733</td>\n",
       "      <td>0.1919</td>\n",
       "      <td>0.2329</td>\n",
       "      <td>0.5121</td>\n",
       "      <td>0.5279</td>\n",
       "      <td>-10.6090</td>\n",
       "      <td>2.2400</td>\n",
       "    </tr>\n",
       "    <tr>\n",
       "      <th>croston</th>\n",
       "      <td>Croston</td>\n",
       "      <td>3.8774</td>\n",
       "      <td>1.6207</td>\n",
       "      <td>0.2229</td>\n",
       "      <td>0.2555</td>\n",
       "      <td>0.5680</td>\n",
       "      <td>0.6694</td>\n",
       "      <td>-10.8573</td>\n",
       "      <td>0.0367</td>\n",
       "    </tr>\n",
       "    <tr>\n",
       "      <th>grand_means</th>\n",
       "      <td>Grand Means Forecaster</td>\n",
       "      <td>4.1874</td>\n",
       "      <td>1.6973</td>\n",
       "      <td>0.2417</td>\n",
       "      <td>0.2694</td>\n",
       "      <td>0.6073</td>\n",
       "      <td>0.7540</td>\n",
       "      <td>-12.7649</td>\n",
       "      <td>0.1133</td>\n",
       "    </tr>\n",
       "  </tbody>\n",
       "</table>\n",
       "</div>"
      ],
      "text/plain": [
       "                              Model    MASE   RMSSE     MAE    RMSE    MAPE  \\\n",
       "naive              Naive Forecaster  3.2830  1.4733  0.1919  0.2329  0.5121   \n",
       "croston                     Croston  3.8774  1.6207  0.2229  0.2555  0.5680   \n",
       "grand_means  Grand Means Forecaster  4.1874  1.6973  0.2417  0.2694  0.6073   \n",
       "\n",
       "              SMAPE       R2  TT (Sec)  \n",
       "naive        0.5279 -10.6090    2.2400  \n",
       "croston      0.6694 -10.8573    0.0367  \n",
       "grand_means  0.7540 -12.7649    0.1133  "
      ]
     },
     "metadata": {},
     "output_type": "display_data"
    },
    {
     "output_type": "stream",
     "name": "stderr",
     "output_type": "stream",
     "text": [
      "\rProcessing:   0%|          | 0/97 [00:00<?, ?it/s]\rProcessing:   5%|▌         | 5/97 [00:06<02:04,  1.35s/it]\rProcessing:   7%|▋         | 7/97 [00:07<01:21,  1.10it/s]\rProcessing:   9%|▉         | 9/97 [00:07<00:57,  1.52it/s]\rProcessing:  11%|█▏        | 11/97 [00:07<00:42,  2.01it/s]\rProcessing:  13%|█▎        | 13/97 [00:07<00:30,  2.75it/s]\rProcessing:  15%|█▌        | 15/97 [00:08<00:23,  3.53it/s]\rProcessing:  18%|█▊        | 17/97 [00:08<00:17,  4.59it/s]\rProcessing:  20%|█▉        | 19/97 [00:08<00:15,  5.20it/s]\rProcessing:  22%|██▏       | 21/97 [00:08<00:12,  6.31it/s]\rProcessing:  24%|██▎       | 23/97 [00:08<00:10,  6.88it/s]\rProcessing:  26%|██▌       | 25/97 [00:09<00:09,  7.95it/s]\rProcessing:  28%|██▊       | 27/97 [00:09<00:08,  8.10it/s]\rProcessing:  30%|██▉       | 29/97 [00:09<00:07,  9.60it/s]\rProcessing:  32%|███▏      | 31/97 [00:09<00:07,  9.14it/s]\rProcessing:  34%|███▍      | 33/97 [00:10<00:13,  4.85it/s]\rProcessing:  36%|███▌      | 35/97 [00:10<00:11,  5.53it/s]\rProcessing:  38%|███▊      | 37/97 [00:11<00:10,  5.55it/s]\rProcessing:  40%|████      | 39/97 [00:11<00:09,  6.29it/s]\rProcessing:  42%|████▏     | 41/97 [00:11<00:08,  6.37it/s]\rProcessing:  44%|████▍     | 43/97 [00:11<00:07,  6.97it/s]\rProcessing:  46%|████▋     | 45/97 [00:12<00:07,  6.89it/s]\rProcessing:  48%|████▊     | 47/97 [00:12<00:06,  7.43it/s]\rProcessing:  51%|█████     | 49/97 [00:12<00:06,  7.25it/s]\rProcessing:  53%|█████▎    | 51/97 [00:12<00:06,  7.57it/s]\rProcessing:  55%|█████▍    | 53/97 [00:13<00:06,  7.33it/s]\rProcessing:  57%|█████▋    | 55/97 [00:13<00:05,  7.79it/s]\rProcessing:  59%|█████▉    | 57/97 [00:13<00:05,  7.36it/s]\rProcessing:  61%|██████    | 59/97 [00:13<00:04,  7.65it/s]\rProcessing:  63%|██████▎   | 61/97 [00:14<00:04,  7.22it/s]\rProcessing:  65%|██████▍   | 63/97 [00:14<00:04,  7.65it/s]\rProcessing:  67%|██████▋   | 65/97 [00:14<00:04,  7.08it/s]\rProcessing:  69%|██████▉   | 67/97 [00:15<00:03,  7.58it/s]\rProcessing:  71%|███████   | 69/97 [00:15<00:03,  7.24it/s]\rProcessing:  73%|███████▎  | 71/97 [00:15<00:03,  7.75it/s]\rProcessing:  75%|███████▌  | 73/97 [00:15<00:03,  7.10it/s]\rProcessing:  77%|███████▋  | 75/97 [00:16<00:02,  7.56it/s]\rProcessing:  79%|███████▉  | 77/97 [00:16<00:02,  7.28it/s]\rProcessing:  81%|████████▏ | 79/97 [00:16<00:02,  7.74it/s]\rProcessing:  84%|████████▎ | 81/97 [00:16<00:02,  7.05it/s]\rProcessing:  86%|████████▌ | 83/97 [00:17<00:01,  7.59it/s]\rProcessing:  88%|████████▊ | 85/97 [00:17<00:01,  7.28it/s]\rProcessing:  90%|████████▉ | 87/97 [00:17<00:01,  7.81it/s]\rProcessing:  92%|█████████▏| 89/97 [00:18<00:01,  7.50it/s]\rProcessing:  94%|█████████▍| 91/97 [00:18<00:00,  7.92it/s]\rProcessing:  96%|█████████▌| 93/97 [00:18<00:00,  7.54it/s]\rProcessing:  98%|█████████▊| 95/97 [00:18<00:00,  7.88it/s]\rProcessing: 100%|██████████| 97/97 [00:19<00:00,  7.42it/s]\r                                                           \r"
     ]
    }
   ],
   "source": [
    "best = exp.compare_models()\n"
   ]
  },
  {
   "cell_type": "code",
   "execution_count": 0,
   "metadata": {
    "application/vnd.databricks.v1+cell": {
     "cellMetadata": {
      "byteLimit": 2048000,
      "rowLimit": 10000
     },
     "inputWidgets": {},
     "nuid": "8d7b0303-2d7e-4e22-ba07-69037256c618",
     "showTitle": false,
     "title": ""
    }
   },
   "outputs": [
    {
     "output_type": "display_data",
     "data": {
      "text/html": [
       "<html>\n",
       "<head><meta charset=\"utf-8\" /></head>\n",
       "<body>\n",
       "    <div>            <script src=\"https://cdnjs.cloudflare.com/ajax/libs/mathjax/2.7.5/MathJax.js?config=TeX-AMS-MML_SVG\"></script><script type=\"text/javascript\">if (window.MathJax && window.MathJax.Hub && window.MathJax.Hub.Config) {window.MathJax.Hub.Config({SVG: {font: \"STIX-Web\"}});}</script>                <script type=\"text/javascript\">window.PlotlyConfig = {MathJaxConfig: 'local'};</script>\n",
       "        <script src=\"https://cdn.plot.ly/plotly-2.12.1.min.js\"></script>                <div id=\"c9e26eb3-7420-4dab-948e-c04722c1dc6f\" class=\"plotly-graph-div\" style=\"height:100%; width:100%;\"></div>            <script type=\"text/javascript\">                                    window.PLOTLYENV=window.PLOTLYENV || {};                                    if (document.getElementById(\"c9e26eb3-7420-4dab-948e-c04722c1dc6f\")) {                    Plotly.newPlot(                        \"c9e26eb3-7420-4dab-948e-c04722c1dc6f\",                        [{\"line\":{\"color\":\"#1f77b4\"},\"marker\":{\"size\":5},\"mode\":\"lines+markers\",\"name\":\"Forecast | Naive Forecaster\",\"showlegend\":true,\"x\":[29,30,31],\"y\":[0.625,0.625,0.625],\"type\":\"scatter\"},{\"line\":{\"width\":0},\"marker\":{\"color\":\"#68BBE3\"},\"mode\":\"lines\",\"name\":\"Lower Interval\",\"showlegend\":false,\"x\":[29,30,31],\"y\":[0.301,0.1668,0.0638],\"type\":\"scatter\"},{\"fill\":\"tonexty\",\"fillcolor\":\"rgba(104,187,227,0.5)\",\"line\":{\"width\":0},\"marker\":{\"color\":\"#68BBE3\"},\"mode\":\"lines\",\"name\":\"Prediction Interval | Naive Forecaster\",\"showlegend\":true,\"x\":[29,30,31],\"y\":[0.949,1.0832,1.1862],\"type\":\"scatter\"},{\"marker\":{\"color\":\"#3f3f3f\",\"size\":5},\"mode\":\"lines+markers\",\"name\":\"Original\",\"showlegend\":true,\"x\":[0,1,2,3,4,5,6,7,8,9,10,11,12,13,14,15,16,17,18,19,20,21,22,23,24,25,26,27,28,29,30,31],\"y\":[0.4285714285714285,0.4285714285714285,0.4285714285714285,0.4285714285714285,0.4285714285714285,0.4285714285714285,0.4285714285714285,0.4285714285714285,-0.06666666666666672,-0.06666666666666672,-0.06666666666666672,-0.06666666666666672,0.0,0.0,0.0,0.0,0.0,0.36363636363636354,0.36363636363636354,0.36363636363636354,0.36363636363636354,0.36363636363636354,0.36363636363636354,0.36363636363636354,-0.25000000000000006,0.24999999999999994,0.4999999999999999,0.625,0.625,0.625,0.7499999999999998,0.8749999999999999],\"type\":\"scatter\"}],                        {\"title\":{\"text\":\"Actual vs. 'Out-of-Sample' Forecast | margin\"},\"xaxis\":{\"title\":{\"text\":\"Time\"}},\"yaxis\":{\"title\":{\"text\":\"Values\"}},\"template\":{\"data\":{\"barpolar\":[{\"marker\":{\"line\":{\"color\":\"rgb(237,237,237)\",\"width\":0.5},\"pattern\":{\"fillmode\":\"overlay\",\"size\":10,\"solidity\":0.2}},\"type\":\"barpolar\"}],\"bar\":[{\"error_x\":{\"color\":\"rgb(51,51,51)\"},\"error_y\":{\"color\":\"rgb(51,51,51)\"},\"marker\":{\"line\":{\"color\":\"rgb(237,237,237)\",\"width\":0.5},\"pattern\":{\"fillmode\":\"overlay\",\"size\":10,\"solidity\":0.2}},\"type\":\"bar\"}],\"carpet\":[{\"aaxis\":{\"endlinecolor\":\"rgb(51,51,51)\",\"gridcolor\":\"white\",\"linecolor\":\"white\",\"minorgridcolor\":\"white\",\"startlinecolor\":\"rgb(51,51,51)\"},\"baxis\":{\"endlinecolor\":\"rgb(51,51,51)\",\"gridcolor\":\"white\",\"linecolor\":\"white\",\"minorgridcolor\":\"white\",\"startlinecolor\":\"rgb(51,51,51)\"},\"type\":\"carpet\"}],\"choropleth\":[{\"colorbar\":{\"outlinewidth\":0,\"tickcolor\":\"rgb(237,237,237)\",\"ticklen\":6,\"ticks\":\"inside\"},\"type\":\"choropleth\"}],\"contourcarpet\":[{\"colorbar\":{\"outlinewidth\":0,\"tickcolor\":\"rgb(237,237,237)\",\"ticklen\":6,\"ticks\":\"inside\"},\"type\":\"contourcarpet\"}],\"contour\":[{\"colorbar\":{\"outlinewidth\":0,\"tickcolor\":\"rgb(237,237,237)\",\"ticklen\":6,\"ticks\":\"inside\"},\"colorscale\":[[0,\"rgb(20,44,66)\"],[1,\"rgb(90,179,244)\"]],\"type\":\"contour\"}],\"heatmapgl\":[{\"colorbar\":{\"outlinewidth\":0,\"tickcolor\":\"rgb(237,237,237)\",\"ticklen\":6,\"ticks\":\"inside\"},\"colorscale\":[[0,\"rgb(20,44,66)\"],[1,\"rgb(90,179,244)\"]],\"type\":\"heatmapgl\"}],\"heatmap\":[{\"colorbar\":{\"outlinewidth\":0,\"tickcolor\":\"rgb(237,237,237)\",\"ticklen\":6,\"ticks\":\"inside\"},\"colorscale\":[[0,\"rgb(20,44,66)\"],[1,\"rgb(90,179,244)\"]],\"type\":\"heatmap\"}],\"histogram2dcontour\":[{\"colorbar\":{\"outlinewidth\":0,\"tickcolor\":\"rgb(237,237,237)\",\"ticklen\":6,\"ticks\":\"inside\"},\"colorscale\":[[0,\"rgb(20,44,66)\"],[1,\"rgb(90,179,244)\"]],\"type\":\"histogram2dcontour\"}],\"histogram2d\":[{\"colorbar\":{\"outlinewidth\":0,\"tickcolor\":\"rgb(237,237,237)\",\"ticklen\":6,\"ticks\":\"inside\"},\"colorscale\":[[0,\"rgb(20,44,66)\"],[1,\"rgb(90,179,244)\"]],\"type\":\"histogram2d\"}],\"histogram\":[{\"marker\":{\"pattern\":{\"fillmode\":\"overlay\",\"size\":10,\"solidity\":0.2}},\"type\":\"histogram\"}],\"mesh3d\":[{\"colorbar\":{\"outlinewidth\":0,\"tickcolor\":\"rgb(237,237,237)\",\"ticklen\":6,\"ticks\":\"inside\"},\"type\":\"mesh3d\"}],\"parcoords\":[{\"line\":{\"colorbar\":{\"outlinewidth\":0,\"tickcolor\":\"rgb(237,237,237)\",\"ticklen\":6,\"ticks\":\"inside\"}},\"type\":\"parcoords\"}],\"pie\":[{\"automargin\":true,\"type\":\"pie\"}],\"scatter3d\":[{\"line\":{\"colorbar\":{\"outlinewidth\":0,\"tickcolor\":\"rgb(237,237,237)\",\"ticklen\":6,\"ticks\":\"inside\"}},\"marker\":{\"colorbar\":{\"outlinewidth\":0,\"tickcolor\":\"rgb(237,237,237)\",\"ticklen\":6,\"ticks\":\"inside\"}},\"type\":\"scatter3d\"}],\"scattercarpet\":[{\"marker\":{\"colorbar\":{\"outlinewidth\":0,\"tickcolor\":\"rgb(237,237,237)\",\"ticklen\":6,\"ticks\":\"inside\"}},\"type\":\"scattercarpet\"}],\"scattergeo\":[{\"marker\":{\"colorbar\":{\"outlinewidth\":0,\"tickcolor\":\"rgb(237,237,237)\",\"ticklen\":6,\"ticks\":\"inside\"}},\"type\":\"scattergeo\"}],\"scattergl\":[{\"marker\":{\"colorbar\":{\"outlinewidth\":0,\"tickcolor\":\"rgb(237,237,237)\",\"ticklen\":6,\"ticks\":\"inside\"}},\"type\":\"scattergl\"}],\"scattermapbox\":[{\"marker\":{\"colorbar\":{\"outlinewidth\":0,\"tickcolor\":\"rgb(237,237,237)\",\"ticklen\":6,\"ticks\":\"inside\"}},\"type\":\"scattermapbox\"}],\"scatterpolargl\":[{\"marker\":{\"colorbar\":{\"outlinewidth\":0,\"tickcolor\":\"rgb(237,237,237)\",\"ticklen\":6,\"ticks\":\"inside\"}},\"type\":\"scatterpolargl\"}],\"scatterpolar\":[{\"marker\":{\"colorbar\":{\"outlinewidth\":0,\"tickcolor\":\"rgb(237,237,237)\",\"ticklen\":6,\"ticks\":\"inside\"}},\"type\":\"scatterpolar\"}],\"scatter\":[{\"fillpattern\":{\"fillmode\":\"overlay\",\"size\":10,\"solidity\":0.2},\"type\":\"scatter\"}],\"scatterternary\":[{\"marker\":{\"colorbar\":{\"outlinewidth\":0,\"tickcolor\":\"rgb(237,237,237)\",\"ticklen\":6,\"ticks\":\"inside\"}},\"type\":\"scatterternary\"}],\"surface\":[{\"colorbar\":{\"outlinewidth\":0,\"tickcolor\":\"rgb(237,237,237)\",\"ticklen\":6,\"ticks\":\"inside\"},\"colorscale\":[[0,\"rgb(20,44,66)\"],[1,\"rgb(90,179,244)\"]],\"type\":\"surface\"}],\"table\":[{\"cells\":{\"fill\":{\"color\":\"rgb(237,237,237)\"},\"line\":{\"color\":\"white\"}},\"header\":{\"fill\":{\"color\":\"rgb(217,217,217)\"},\"line\":{\"color\":\"white\"}},\"type\":\"table\"}]},\"layout\":{\"annotationdefaults\":{\"arrowhead\":0,\"arrowwidth\":1},\"autotypenumbers\":\"strict\",\"coloraxis\":{\"colorbar\":{\"outlinewidth\":0,\"tickcolor\":\"rgb(237,237,237)\",\"ticklen\":6,\"ticks\":\"inside\"}},\"colorscale\":{\"sequential\":[[0,\"rgb(20,44,66)\"],[1,\"rgb(90,179,244)\"]],\"sequentialminus\":[[0,\"rgb(20,44,66)\"],[1,\"rgb(90,179,244)\"]]},\"colorway\":[\"#F8766D\",\"#A3A500\",\"#00BF7D\",\"#00B0F6\",\"#E76BF3\"],\"font\":{\"color\":\"rgb(51,51,51)\"},\"geo\":{\"bgcolor\":\"white\",\"lakecolor\":\"white\",\"landcolor\":\"rgb(237,237,237)\",\"showlakes\":true,\"showland\":true,\"subunitcolor\":\"white\"},\"hoverlabel\":{\"align\":\"left\"},\"hovermode\":\"closest\",\"paper_bgcolor\":\"white\",\"plot_bgcolor\":\"rgb(237,237,237)\",\"polar\":{\"angularaxis\":{\"gridcolor\":\"white\",\"linecolor\":\"white\",\"showgrid\":true,\"tickcolor\":\"rgb(51,51,51)\",\"ticks\":\"outside\"},\"bgcolor\":\"rgb(237,237,237)\",\"radialaxis\":{\"gridcolor\":\"white\",\"linecolor\":\"white\",\"showgrid\":true,\"tickcolor\":\"rgb(51,51,51)\",\"ticks\":\"outside\"}},\"scene\":{\"xaxis\":{\"backgroundcolor\":\"rgb(237,237,237)\",\"gridcolor\":\"white\",\"gridwidth\":2,\"linecolor\":\"white\",\"showbackground\":true,\"showgrid\":true,\"tickcolor\":\"rgb(51,51,51)\",\"ticks\":\"outside\",\"zerolinecolor\":\"white\"},\"yaxis\":{\"backgroundcolor\":\"rgb(237,237,237)\",\"gridcolor\":\"white\",\"gridwidth\":2,\"linecolor\":\"white\",\"showbackground\":true,\"showgrid\":true,\"tickcolor\":\"rgb(51,51,51)\",\"ticks\":\"outside\",\"zerolinecolor\":\"white\"},\"zaxis\":{\"backgroundcolor\":\"rgb(237,237,237)\",\"gridcolor\":\"white\",\"gridwidth\":2,\"linecolor\":\"white\",\"showbackground\":true,\"showgrid\":true,\"tickcolor\":\"rgb(51,51,51)\",\"ticks\":\"outside\",\"zerolinecolor\":\"white\"}},\"shapedefaults\":{\"fillcolor\":\"black\",\"line\":{\"width\":0},\"opacity\":0.3},\"ternary\":{\"aaxis\":{\"gridcolor\":\"white\",\"linecolor\":\"white\",\"showgrid\":true,\"tickcolor\":\"rgb(51,51,51)\",\"ticks\":\"outside\"},\"baxis\":{\"gridcolor\":\"white\",\"linecolor\":\"white\",\"showgrid\":true,\"tickcolor\":\"rgb(51,51,51)\",\"ticks\":\"outside\"},\"bgcolor\":\"rgb(237,237,237)\",\"caxis\":{\"gridcolor\":\"white\",\"linecolor\":\"white\",\"showgrid\":true,\"tickcolor\":\"rgb(51,51,51)\",\"ticks\":\"outside\"}},\"xaxis\":{\"automargin\":true,\"gridcolor\":\"white\",\"linecolor\":\"white\",\"showgrid\":true,\"tickcolor\":\"rgb(51,51,51)\",\"ticks\":\"outside\",\"title\":{\"standoff\":15},\"zerolinecolor\":\"white\"},\"yaxis\":{\"automargin\":true,\"gridcolor\":\"white\",\"linecolor\":\"white\",\"showgrid\":true,\"tickcolor\":\"rgb(51,51,51)\",\"ticks\":\"outside\",\"title\":{\"standoff\":15},\"zerolinecolor\":\"white\"}}},\"showlegend\":true},                        {\"responsive\": true}                    )                };                            </script>        </div>\n",
       "</body>\n",
       "</html>"
      ]
     },
     "metadata": {},
     "output_type": "display_data"
    }
   ],
   "source": [
    "# plot forecast\n",
    "plot_model(best, plot = 'forecast')"
   ]
  },
  {
   "cell_type": "code",
   "execution_count": 0,
   "metadata": {
    "application/vnd.databricks.v1+cell": {
     "cellMetadata": {
      "byteLimit": 2048000,
      "rowLimit": 10000
     },
     "inputWidgets": {},
     "nuid": "928ae7f1-e5c5-4165-8d71-cb8801a1499d",
     "showTitle": false,
     "title": ""
    }
   },
   "outputs": [
    {
     "output_type": "display_data",
     "data": {
      "text/html": [
       "<html>\n",
       "<head><meta charset=\"utf-8\" /></head>\n",
       "<body>\n",
       "    <div>            <script src=\"https://cdnjs.cloudflare.com/ajax/libs/mathjax/2.7.5/MathJax.js?config=TeX-AMS-MML_SVG\"></script><script type=\"text/javascript\">if (window.MathJax && window.MathJax.Hub && window.MathJax.Hub.Config) {window.MathJax.Hub.Config({SVG: {font: \"STIX-Web\"}});}</script>                <script type=\"text/javascript\">window.PlotlyConfig = {MathJaxConfig: 'local'};</script>\n",
       "        <script src=\"https://cdn.plot.ly/plotly-2.12.1.min.js\"></script>                <div id=\"12648476-11c4-4206-b182-68dce2a6ddab\" class=\"plotly-graph-div\" style=\"height:100%; width:100%;\"></div>            <script type=\"text/javascript\">                                    window.PLOTLYENV=window.PLOTLYENV || {};                                    if (document.getElementById(\"12648476-11c4-4206-b182-68dce2a6ddab\")) {                    Plotly.newPlot(                        \"12648476-11c4-4206-b182-68dce2a6ddab\",                        [{\"line\":{\"color\":\"#1f77b4\"},\"marker\":{\"size\":5},\"mode\":\"lines+markers\",\"name\":\"Forecast | Naive Forecaster\",\"showlegend\":true,\"x\":[29,30,31,32,33,34,35,36,37,38,39,40,41,42,43,44,45,46,47,48,49,50,51,52,53,54,55,56,57,58,59,60,61,62,63,64],\"y\":[0.625,0.625,0.625,0.625,0.625,0.625,0.625,0.625,0.625,0.625,0.625,0.625,0.625,0.625,0.625,0.625,0.625,0.625,0.625,0.625,0.625,0.625,0.625,0.625,0.625,0.625,0.625,0.625,0.625,0.625,0.625,0.625,0.625,0.625,0.625,0.625],\"type\":\"scatter\"},{\"line\":{\"width\":0},\"marker\":{\"color\":\"#68BBE3\"},\"mode\":\"lines\",\"name\":\"Lower Interval\",\"showlegend\":false,\"x\":[29,30,31,32,33,34,35,36,37,38,39,40,41,42,43,44,45,46,47,48,49,50,51,52,53,54,55,56,57,58,59,60,61,62,63,64],\"y\":[0.301,0.1668,0.0638,-0.0231,-0.0996,-0.1687,-0.2323,-0.2915,-0.3471,-0.3997,-0.4497,-0.4975,-0.5433,-0.5874,-0.63,-0.6711,-0.711,-0.7497,-0.7874,-0.8241,-0.8599,-0.8948,-0.929,-0.9624,-0.9952,-1.0272,-1.0587,-1.0896,-1.12,-1.1498,-1.1791,-1.208,-1.2364,-1.2644,-1.292,-1.3192],\"type\":\"scatter\"},{\"fill\":\"tonexty\",\"fillcolor\":\"rgba(104,187,227,0.5)\",\"line\":{\"width\":0},\"marker\":{\"color\":\"#68BBE3\"},\"mode\":\"lines\",\"name\":\"Prediction Interval | Naive Forecaster\",\"showlegend\":true,\"x\":[29,30,31,32,33,34,35,36,37,38,39,40,41,42,43,44,45,46,47,48,49,50,51,52,53,54,55,56,57,58,59,60,61,62,63,64],\"y\":[0.949,1.0832,1.1862,1.2731,1.3496,1.4187,1.4823,1.5415,1.5971,1.6497,1.6997,1.7475,1.7933,1.8374,1.88,1.9211,1.961,1.9997,2.0374,2.0741,2.1099,2.1448,2.179,2.2124,2.2452,2.2772,2.3087,2.3396,2.37,2.3998,2.4291,2.458,2.4864,2.5144,2.542,2.5692],\"type\":\"scatter\"},{\"marker\":{\"color\":\"#3f3f3f\",\"size\":5},\"mode\":\"lines+markers\",\"name\":\"Original\",\"showlegend\":true,\"x\":[0,1,2,3,4,5,6,7,8,9,10,11,12,13,14,15,16,17,18,19,20,21,22,23,24,25,26,27,28,29,30,31],\"y\":[0.4285714285714285,0.4285714285714285,0.4285714285714285,0.4285714285714285,0.4285714285714285,0.4285714285714285,0.4285714285714285,0.4285714285714285,-0.06666666666666672,-0.06666666666666672,-0.06666666666666672,-0.06666666666666672,0.0,0.0,0.0,0.0,0.0,0.36363636363636354,0.36363636363636354,0.36363636363636354,0.36363636363636354,0.36363636363636354,0.36363636363636354,0.36363636363636354,-0.25000000000000006,0.24999999999999994,0.4999999999999999,0.625,0.625,0.625,0.7499999999999998,0.8749999999999999],\"type\":\"scatter\"}],                        {\"title\":{\"text\":\"Actual vs. 'Out-of-Sample' Forecast | margin\"},\"xaxis\":{\"title\":{\"text\":\"Time\"}},\"yaxis\":{\"title\":{\"text\":\"Values\"}},\"template\":{\"data\":{\"barpolar\":[{\"marker\":{\"line\":{\"color\":\"rgb(237,237,237)\",\"width\":0.5},\"pattern\":{\"fillmode\":\"overlay\",\"size\":10,\"solidity\":0.2}},\"type\":\"barpolar\"}],\"bar\":[{\"error_x\":{\"color\":\"rgb(51,51,51)\"},\"error_y\":{\"color\":\"rgb(51,51,51)\"},\"marker\":{\"line\":{\"color\":\"rgb(237,237,237)\",\"width\":0.5},\"pattern\":{\"fillmode\":\"overlay\",\"size\":10,\"solidity\":0.2}},\"type\":\"bar\"}],\"carpet\":[{\"aaxis\":{\"endlinecolor\":\"rgb(51,51,51)\",\"gridcolor\":\"white\",\"linecolor\":\"white\",\"minorgridcolor\":\"white\",\"startlinecolor\":\"rgb(51,51,51)\"},\"baxis\":{\"endlinecolor\":\"rgb(51,51,51)\",\"gridcolor\":\"white\",\"linecolor\":\"white\",\"minorgridcolor\":\"white\",\"startlinecolor\":\"rgb(51,51,51)\"},\"type\":\"carpet\"}],\"choropleth\":[{\"colorbar\":{\"outlinewidth\":0,\"tickcolor\":\"rgb(237,237,237)\",\"ticklen\":6,\"ticks\":\"inside\"},\"type\":\"choropleth\"}],\"contourcarpet\":[{\"colorbar\":{\"outlinewidth\":0,\"tickcolor\":\"rgb(237,237,237)\",\"ticklen\":6,\"ticks\":\"inside\"},\"type\":\"contourcarpet\"}],\"contour\":[{\"colorbar\":{\"outlinewidth\":0,\"tickcolor\":\"rgb(237,237,237)\",\"ticklen\":6,\"ticks\":\"inside\"},\"colorscale\":[[0,\"rgb(20,44,66)\"],[1,\"rgb(90,179,244)\"]],\"type\":\"contour\"}],\"heatmapgl\":[{\"colorbar\":{\"outlinewidth\":0,\"tickcolor\":\"rgb(237,237,237)\",\"ticklen\":6,\"ticks\":\"inside\"},\"colorscale\":[[0,\"rgb(20,44,66)\"],[1,\"rgb(90,179,244)\"]],\"type\":\"heatmapgl\"}],\"heatmap\":[{\"colorbar\":{\"outlinewidth\":0,\"tickcolor\":\"rgb(237,237,237)\",\"ticklen\":6,\"ticks\":\"inside\"},\"colorscale\":[[0,\"rgb(20,44,66)\"],[1,\"rgb(90,179,244)\"]],\"type\":\"heatmap\"}],\"histogram2dcontour\":[{\"colorbar\":{\"outlinewidth\":0,\"tickcolor\":\"rgb(237,237,237)\",\"ticklen\":6,\"ticks\":\"inside\"},\"colorscale\":[[0,\"rgb(20,44,66)\"],[1,\"rgb(90,179,244)\"]],\"type\":\"histogram2dcontour\"}],\"histogram2d\":[{\"colorbar\":{\"outlinewidth\":0,\"tickcolor\":\"rgb(237,237,237)\",\"ticklen\":6,\"ticks\":\"inside\"},\"colorscale\":[[0,\"rgb(20,44,66)\"],[1,\"rgb(90,179,244)\"]],\"type\":\"histogram2d\"}],\"histogram\":[{\"marker\":{\"pattern\":{\"fillmode\":\"overlay\",\"size\":10,\"solidity\":0.2}},\"type\":\"histogram\"}],\"mesh3d\":[{\"colorbar\":{\"outlinewidth\":0,\"tickcolor\":\"rgb(237,237,237)\",\"ticklen\":6,\"ticks\":\"inside\"},\"type\":\"mesh3d\"}],\"parcoords\":[{\"line\":{\"colorbar\":{\"outlinewidth\":0,\"tickcolor\":\"rgb(237,237,237)\",\"ticklen\":6,\"ticks\":\"inside\"}},\"type\":\"parcoords\"}],\"pie\":[{\"automargin\":true,\"type\":\"pie\"}],\"scatter3d\":[{\"line\":{\"colorbar\":{\"outlinewidth\":0,\"tickcolor\":\"rgb(237,237,237)\",\"ticklen\":6,\"ticks\":\"inside\"}},\"marker\":{\"colorbar\":{\"outlinewidth\":0,\"tickcolor\":\"rgb(237,237,237)\",\"ticklen\":6,\"ticks\":\"inside\"}},\"type\":\"scatter3d\"}],\"scattercarpet\":[{\"marker\":{\"colorbar\":{\"outlinewidth\":0,\"tickcolor\":\"rgb(237,237,237)\",\"ticklen\":6,\"ticks\":\"inside\"}},\"type\":\"scattercarpet\"}],\"scattergeo\":[{\"marker\":{\"colorbar\":{\"outlinewidth\":0,\"tickcolor\":\"rgb(237,237,237)\",\"ticklen\":6,\"ticks\":\"inside\"}},\"type\":\"scattergeo\"}],\"scattergl\":[{\"marker\":{\"colorbar\":{\"outlinewidth\":0,\"tickcolor\":\"rgb(237,237,237)\",\"ticklen\":6,\"ticks\":\"inside\"}},\"type\":\"scattergl\"}],\"scattermapbox\":[{\"marker\":{\"colorbar\":{\"outlinewidth\":0,\"tickcolor\":\"rgb(237,237,237)\",\"ticklen\":6,\"ticks\":\"inside\"}},\"type\":\"scattermapbox\"}],\"scatterpolargl\":[{\"marker\":{\"colorbar\":{\"outlinewidth\":0,\"tickcolor\":\"rgb(237,237,237)\",\"ticklen\":6,\"ticks\":\"inside\"}},\"type\":\"scatterpolargl\"}],\"scatterpolar\":[{\"marker\":{\"colorbar\":{\"outlinewidth\":0,\"tickcolor\":\"rgb(237,237,237)\",\"ticklen\":6,\"ticks\":\"inside\"}},\"type\":\"scatterpolar\"}],\"scatter\":[{\"fillpattern\":{\"fillmode\":\"overlay\",\"size\":10,\"solidity\":0.2},\"type\":\"scatter\"}],\"scatterternary\":[{\"marker\":{\"colorbar\":{\"outlinewidth\":0,\"tickcolor\":\"rgb(237,237,237)\",\"ticklen\":6,\"ticks\":\"inside\"}},\"type\":\"scatterternary\"}],\"surface\":[{\"colorbar\":{\"outlinewidth\":0,\"tickcolor\":\"rgb(237,237,237)\",\"ticklen\":6,\"ticks\":\"inside\"},\"colorscale\":[[0,\"rgb(20,44,66)\"],[1,\"rgb(90,179,244)\"]],\"type\":\"surface\"}],\"table\":[{\"cells\":{\"fill\":{\"color\":\"rgb(237,237,237)\"},\"line\":{\"color\":\"white\"}},\"header\":{\"fill\":{\"color\":\"rgb(217,217,217)\"},\"line\":{\"color\":\"white\"}},\"type\":\"table\"}]},\"layout\":{\"annotationdefaults\":{\"arrowhead\":0,\"arrowwidth\":1},\"autotypenumbers\":\"strict\",\"coloraxis\":{\"colorbar\":{\"outlinewidth\":0,\"tickcolor\":\"rgb(237,237,237)\",\"ticklen\":6,\"ticks\":\"inside\"}},\"colorscale\":{\"sequential\":[[0,\"rgb(20,44,66)\"],[1,\"rgb(90,179,244)\"]],\"sequentialminus\":[[0,\"rgb(20,44,66)\"],[1,\"rgb(90,179,244)\"]]},\"colorway\":[\"#F8766D\",\"#A3A500\",\"#00BF7D\",\"#00B0F6\",\"#E76BF3\"],\"font\":{\"color\":\"rgb(51,51,51)\"},\"geo\":{\"bgcolor\":\"white\",\"lakecolor\":\"white\",\"landcolor\":\"rgb(237,237,237)\",\"showlakes\":true,\"showland\":true,\"subunitcolor\":\"white\"},\"hoverlabel\":{\"align\":\"left\"},\"hovermode\":\"closest\",\"paper_bgcolor\":\"white\",\"plot_bgcolor\":\"rgb(237,237,237)\",\"polar\":{\"angularaxis\":{\"gridcolor\":\"white\",\"linecolor\":\"white\",\"showgrid\":true,\"tickcolor\":\"rgb(51,51,51)\",\"ticks\":\"outside\"},\"bgcolor\":\"rgb(237,237,237)\",\"radialaxis\":{\"gridcolor\":\"white\",\"linecolor\":\"white\",\"showgrid\":true,\"tickcolor\":\"rgb(51,51,51)\",\"ticks\":\"outside\"}},\"scene\":{\"xaxis\":{\"backgroundcolor\":\"rgb(237,237,237)\",\"gridcolor\":\"white\",\"gridwidth\":2,\"linecolor\":\"white\",\"showbackground\":true,\"showgrid\":true,\"tickcolor\":\"rgb(51,51,51)\",\"ticks\":\"outside\",\"zerolinecolor\":\"white\"},\"yaxis\":{\"backgroundcolor\":\"rgb(237,237,237)\",\"gridcolor\":\"white\",\"gridwidth\":2,\"linecolor\":\"white\",\"showbackground\":true,\"showgrid\":true,\"tickcolor\":\"rgb(51,51,51)\",\"ticks\":\"outside\",\"zerolinecolor\":\"white\"},\"zaxis\":{\"backgroundcolor\":\"rgb(237,237,237)\",\"gridcolor\":\"white\",\"gridwidth\":2,\"linecolor\":\"white\",\"showbackground\":true,\"showgrid\":true,\"tickcolor\":\"rgb(51,51,51)\",\"ticks\":\"outside\",\"zerolinecolor\":\"white\"}},\"shapedefaults\":{\"fillcolor\":\"black\",\"line\":{\"width\":0},\"opacity\":0.3},\"ternary\":{\"aaxis\":{\"gridcolor\":\"white\",\"linecolor\":\"white\",\"showgrid\":true,\"tickcolor\":\"rgb(51,51,51)\",\"ticks\":\"outside\"},\"baxis\":{\"gridcolor\":\"white\",\"linecolor\":\"white\",\"showgrid\":true,\"tickcolor\":\"rgb(51,51,51)\",\"ticks\":\"outside\"},\"bgcolor\":\"rgb(237,237,237)\",\"caxis\":{\"gridcolor\":\"white\",\"linecolor\":\"white\",\"showgrid\":true,\"tickcolor\":\"rgb(51,51,51)\",\"ticks\":\"outside\"}},\"xaxis\":{\"automargin\":true,\"gridcolor\":\"white\",\"linecolor\":\"white\",\"showgrid\":true,\"tickcolor\":\"rgb(51,51,51)\",\"ticks\":\"outside\",\"title\":{\"standoff\":15},\"zerolinecolor\":\"white\"},\"yaxis\":{\"automargin\":true,\"gridcolor\":\"white\",\"linecolor\":\"white\",\"showgrid\":true,\"tickcolor\":\"rgb(51,51,51)\",\"ticks\":\"outside\",\"title\":{\"standoff\":15},\"zerolinecolor\":\"white\"}}},\"showlegend\":true},                        {\"responsive\": true}                    )                };                            </script>        </div>\n",
       "</body>\n",
       "</html>"
      ]
     },
     "metadata": {},
     "output_type": "display_data"
    }
   ],
   "source": [
    "# plot forecast for 36 months in future\n",
    "plot_model(best, plot = 'forecast', data_kwargs = {'fh' : 36})\n"
   ]
  },
  {
   "cell_type": "code",
   "execution_count": 0,
   "metadata": {
    "application/vnd.databricks.v1+cell": {
     "cellMetadata": {
      "byteLimit": 2048000,
      "rowLimit": 10000
     },
     "inputWidgets": {},
     "nuid": "d675754f-66dc-46ce-bed1-e9a25f028519",
     "showTitle": false,
     "title": ""
    }
   },
   "outputs": [
    {
     "output_type": "display_data",
     "data": {
      "text/html": [
       "<html>\n",
       "<head><meta charset=\"utf-8\" /></head>\n",
       "<body>\n",
       "    <div>            <script src=\"https://cdnjs.cloudflare.com/ajax/libs/mathjax/2.7.5/MathJax.js?config=TeX-AMS-MML_SVG\"></script><script type=\"text/javascript\">if (window.MathJax && window.MathJax.Hub && window.MathJax.Hub.Config) {window.MathJax.Hub.Config({SVG: {font: \"STIX-Web\"}});}</script>                <script type=\"text/javascript\">window.PlotlyConfig = {MathJaxConfig: 'local'};</script>\n",
       "        <script src=\"https://cdn.plot.ly/plotly-2.12.1.min.js\"></script>                <div id=\"94db41ff-b361-45a7-9c97-127e453b5d90\" class=\"plotly-graph-div\" style=\"height:100%; width:100%;\"></div>            <script type=\"text/javascript\">                                    window.PLOTLYENV=window.PLOTLYENV || {};                                    if (document.getElementById(\"94db41ff-b361-45a7-9c97-127e453b5d90\")) {                    Plotly.newPlot(                        \"94db41ff-b361-45a7-9c97-127e453b5d90\",                        [{\"line\":{\"color\":\"rgb(31, 119, 180)\",\"width\":2},\"marker\":{\"color\":\"rgb(31, 119, 180)\",\"size\":5},\"mode\":\"lines+markers\",\"name\":\"margin\",\"x\":[0,1,2,3,4,5,6,7,8,9,10,11,12,13,14,15,16,17,18,19,20,21,22,23,24,25,26,27,28,29,30,31],\"y\":[0.4285714285714285,0.4285714285714285,0.4285714285714285,0.4285714285714285,0.4285714285714285,0.4285714285714285,0.4285714285714285,0.4285714285714285,-0.06666666666666672,-0.06666666666666672,-0.06666666666666672,-0.06666666666666672,0.0,0.0,0.0,0.0,0.0,0.36363636363636354,0.36363636363636354,0.36363636363636354,0.36363636363636354,0.36363636363636354,0.36363636363636354,0.36363636363636354,-0.25000000000000006,0.24999999999999994,0.4999999999999999,0.625,0.625,0.625,0.7499999999999998,0.8749999999999999],\"type\":\"scattergl\",\"xaxis\":\"x\",\"yaxis\":\"y\"},{\"line\":{\"color\":\"rgb(255, 127, 14)\",\"width\":2},\"marker\":{\"color\":\"rgb(255, 127, 14)\",\"size\":5},\"mode\":\"lines+markers\",\"name\":\"Naive Forecaster\",\"x\":[0,1,2,3,4,5,6,7,8,9,10,11,12,13,14,15,16,17,18,19,20,21,22,23,24,25,26,27,28,29,30,31],\"y\":[-0.000028571428571488866,-0.000028571428571488866,-0.000028571428571488866,-0.000028571428571488866,-0.000028571428571488866,-0.000028571428571488866,-0.000028571428571488866,-0.000028571428571488866,-0.4952666666666667,0.00003333333333327415,0.00003333333333327415,0.00003333333333327415,0.0667,0.0,0.0,0.0,0.0,0.36363636363636354,0.00003636363636355666,0.00003636363636355666,0.00003636363636355666,0.00003636363636355666,0.00003636363636355666,0.00003636363636355666,-0.6136,0.49999999999999994,0.2499999999999999,0.125,0.0,null,null,null],\"type\":\"scattergl\",\"xaxis\":\"x\",\"yaxis\":\"y\"}],                        {\"template\":{\"data\":{\"barpolar\":[{\"marker\":{\"line\":{\"color\":\"rgb(237,237,237)\",\"width\":0.5},\"pattern\":{\"fillmode\":\"overlay\",\"size\":10,\"solidity\":0.2}},\"type\":\"barpolar\"}],\"bar\":[{\"error_x\":{\"color\":\"rgb(51,51,51)\"},\"error_y\":{\"color\":\"rgb(51,51,51)\"},\"marker\":{\"line\":{\"color\":\"rgb(237,237,237)\",\"width\":0.5},\"pattern\":{\"fillmode\":\"overlay\",\"size\":10,\"solidity\":0.2}},\"type\":\"bar\"}],\"carpet\":[{\"aaxis\":{\"endlinecolor\":\"rgb(51,51,51)\",\"gridcolor\":\"white\",\"linecolor\":\"white\",\"minorgridcolor\":\"white\",\"startlinecolor\":\"rgb(51,51,51)\"},\"baxis\":{\"endlinecolor\":\"rgb(51,51,51)\",\"gridcolor\":\"white\",\"linecolor\":\"white\",\"minorgridcolor\":\"white\",\"startlinecolor\":\"rgb(51,51,51)\"},\"type\":\"carpet\"}],\"choropleth\":[{\"colorbar\":{\"outlinewidth\":0,\"tickcolor\":\"rgb(237,237,237)\",\"ticklen\":6,\"ticks\":\"inside\"},\"type\":\"choropleth\"}],\"contourcarpet\":[{\"colorbar\":{\"outlinewidth\":0,\"tickcolor\":\"rgb(237,237,237)\",\"ticklen\":6,\"ticks\":\"inside\"},\"type\":\"contourcarpet\"}],\"contour\":[{\"colorbar\":{\"outlinewidth\":0,\"tickcolor\":\"rgb(237,237,237)\",\"ticklen\":6,\"ticks\":\"inside\"},\"colorscale\":[[0,\"rgb(20,44,66)\"],[1,\"rgb(90,179,244)\"]],\"type\":\"contour\"}],\"heatmapgl\":[{\"colorbar\":{\"outlinewidth\":0,\"tickcolor\":\"rgb(237,237,237)\",\"ticklen\":6,\"ticks\":\"inside\"},\"colorscale\":[[0,\"rgb(20,44,66)\"],[1,\"rgb(90,179,244)\"]],\"type\":\"heatmapgl\"}],\"heatmap\":[{\"colorbar\":{\"outlinewidth\":0,\"tickcolor\":\"rgb(237,237,237)\",\"ticklen\":6,\"ticks\":\"inside\"},\"colorscale\":[[0,\"rgb(20,44,66)\"],[1,\"rgb(90,179,244)\"]],\"type\":\"heatmap\"}],\"histogram2dcontour\":[{\"colorbar\":{\"outlinewidth\":0,\"tickcolor\":\"rgb(237,237,237)\",\"ticklen\":6,\"ticks\":\"inside\"},\"colorscale\":[[0,\"rgb(20,44,66)\"],[1,\"rgb(90,179,244)\"]],\"type\":\"histogram2dcontour\"}],\"histogram2d\":[{\"colorbar\":{\"outlinewidth\":0,\"tickcolor\":\"rgb(237,237,237)\",\"ticklen\":6,\"ticks\":\"inside\"},\"colorscale\":[[0,\"rgb(20,44,66)\"],[1,\"rgb(90,179,244)\"]],\"type\":\"histogram2d\"}],\"histogram\":[{\"marker\":{\"pattern\":{\"fillmode\":\"overlay\",\"size\":10,\"solidity\":0.2}},\"type\":\"histogram\"}],\"mesh3d\":[{\"colorbar\":{\"outlinewidth\":0,\"tickcolor\":\"rgb(237,237,237)\",\"ticklen\":6,\"ticks\":\"inside\"},\"type\":\"mesh3d\"}],\"parcoords\":[{\"line\":{\"colorbar\":{\"outlinewidth\":0,\"tickcolor\":\"rgb(237,237,237)\",\"ticklen\":6,\"ticks\":\"inside\"}},\"type\":\"parcoords\"}],\"pie\":[{\"automargin\":true,\"type\":\"pie\"}],\"scatter3d\":[{\"line\":{\"colorbar\":{\"outlinewidth\":0,\"tickcolor\":\"rgb(237,237,237)\",\"ticklen\":6,\"ticks\":\"inside\"}},\"marker\":{\"colorbar\":{\"outlinewidth\":0,\"tickcolor\":\"rgb(237,237,237)\",\"ticklen\":6,\"ticks\":\"inside\"}},\"type\":\"scatter3d\"}],\"scattercarpet\":[{\"marker\":{\"colorbar\":{\"outlinewidth\":0,\"tickcolor\":\"rgb(237,237,237)\",\"ticklen\":6,\"ticks\":\"inside\"}},\"type\":\"scattercarpet\"}],\"scattergeo\":[{\"marker\":{\"colorbar\":{\"outlinewidth\":0,\"tickcolor\":\"rgb(237,237,237)\",\"ticklen\":6,\"ticks\":\"inside\"}},\"type\":\"scattergeo\"}],\"scattergl\":[{\"marker\":{\"colorbar\":{\"outlinewidth\":0,\"tickcolor\":\"rgb(237,237,237)\",\"ticklen\":6,\"ticks\":\"inside\"}},\"type\":\"scattergl\"}],\"scattermapbox\":[{\"marker\":{\"colorbar\":{\"outlinewidth\":0,\"tickcolor\":\"rgb(237,237,237)\",\"ticklen\":6,\"ticks\":\"inside\"}},\"type\":\"scattermapbox\"}],\"scatterpolargl\":[{\"marker\":{\"colorbar\":{\"outlinewidth\":0,\"tickcolor\":\"rgb(237,237,237)\",\"ticklen\":6,\"ticks\":\"inside\"}},\"type\":\"scatterpolargl\"}],\"scatterpolar\":[{\"marker\":{\"colorbar\":{\"outlinewidth\":0,\"tickcolor\":\"rgb(237,237,237)\",\"ticklen\":6,\"ticks\":\"inside\"}},\"type\":\"scatterpolar\"}],\"scatter\":[{\"fillpattern\":{\"fillmode\":\"overlay\",\"size\":10,\"solidity\":0.2},\"type\":\"scatter\"}],\"scatterternary\":[{\"marker\":{\"colorbar\":{\"outlinewidth\":0,\"tickcolor\":\"rgb(237,237,237)\",\"ticklen\":6,\"ticks\":\"inside\"}},\"type\":\"scatterternary\"}],\"surface\":[{\"colorbar\":{\"outlinewidth\":0,\"tickcolor\":\"rgb(237,237,237)\",\"ticklen\":6,\"ticks\":\"inside\"},\"colorscale\":[[0,\"rgb(20,44,66)\"],[1,\"rgb(90,179,244)\"]],\"type\":\"surface\"}],\"table\":[{\"cells\":{\"fill\":{\"color\":\"rgb(237,237,237)\"},\"line\":{\"color\":\"white\"}},\"header\":{\"fill\":{\"color\":\"rgb(217,217,217)\"},\"line\":{\"color\":\"white\"}},\"type\":\"table\"}]},\"layout\":{\"annotationdefaults\":{\"arrowhead\":0,\"arrowwidth\":1},\"autotypenumbers\":\"strict\",\"coloraxis\":{\"colorbar\":{\"outlinewidth\":0,\"tickcolor\":\"rgb(237,237,237)\",\"ticklen\":6,\"ticks\":\"inside\"}},\"colorscale\":{\"sequential\":[[0,\"rgb(20,44,66)\"],[1,\"rgb(90,179,244)\"]],\"sequentialminus\":[[0,\"rgb(20,44,66)\"],[1,\"rgb(90,179,244)\"]]},\"colorway\":[\"#F8766D\",\"#A3A500\",\"#00BF7D\",\"#00B0F6\",\"#E76BF3\"],\"font\":{\"color\":\"rgb(51,51,51)\"},\"geo\":{\"bgcolor\":\"white\",\"lakecolor\":\"white\",\"landcolor\":\"rgb(237,237,237)\",\"showlakes\":true,\"showland\":true,\"subunitcolor\":\"white\"},\"hoverlabel\":{\"align\":\"left\"},\"hovermode\":\"closest\",\"paper_bgcolor\":\"white\",\"plot_bgcolor\":\"rgb(237,237,237)\",\"polar\":{\"angularaxis\":{\"gridcolor\":\"white\",\"linecolor\":\"white\",\"showgrid\":true,\"tickcolor\":\"rgb(51,51,51)\",\"ticks\":\"outside\"},\"bgcolor\":\"rgb(237,237,237)\",\"radialaxis\":{\"gridcolor\":\"white\",\"linecolor\":\"white\",\"showgrid\":true,\"tickcolor\":\"rgb(51,51,51)\",\"ticks\":\"outside\"}},\"scene\":{\"xaxis\":{\"backgroundcolor\":\"rgb(237,237,237)\",\"gridcolor\":\"white\",\"gridwidth\":2,\"linecolor\":\"white\",\"showbackground\":true,\"showgrid\":true,\"tickcolor\":\"rgb(51,51,51)\",\"ticks\":\"outside\",\"zerolinecolor\":\"white\"},\"yaxis\":{\"backgroundcolor\":\"rgb(237,237,237)\",\"gridcolor\":\"white\",\"gridwidth\":2,\"linecolor\":\"white\",\"showbackground\":true,\"showgrid\":true,\"tickcolor\":\"rgb(51,51,51)\",\"ticks\":\"outside\",\"zerolinecolor\":\"white\"},\"zaxis\":{\"backgroundcolor\":\"rgb(237,237,237)\",\"gridcolor\":\"white\",\"gridwidth\":2,\"linecolor\":\"white\",\"showbackground\":true,\"showgrid\":true,\"tickcolor\":\"rgb(51,51,51)\",\"ticks\":\"outside\",\"zerolinecolor\":\"white\"}},\"shapedefaults\":{\"fillcolor\":\"black\",\"line\":{\"width\":0},\"opacity\":0.3},\"ternary\":{\"aaxis\":{\"gridcolor\":\"white\",\"linecolor\":\"white\",\"showgrid\":true,\"tickcolor\":\"rgb(51,51,51)\",\"ticks\":\"outside\"},\"baxis\":{\"gridcolor\":\"white\",\"linecolor\":\"white\",\"showgrid\":true,\"tickcolor\":\"rgb(51,51,51)\",\"ticks\":\"outside\"},\"bgcolor\":\"rgb(237,237,237)\",\"caxis\":{\"gridcolor\":\"white\",\"linecolor\":\"white\",\"showgrid\":true,\"tickcolor\":\"rgb(51,51,51)\",\"ticks\":\"outside\"}},\"xaxis\":{\"automargin\":true,\"gridcolor\":\"white\",\"linecolor\":\"white\",\"showgrid\":true,\"tickcolor\":\"rgb(51,51,51)\",\"ticks\":\"outside\",\"title\":{\"standoff\":15},\"zerolinecolor\":\"white\"},\"yaxis\":{\"automargin\":true,\"gridcolor\":\"white\",\"linecolor\":\"white\",\"showgrid\":true,\"tickcolor\":\"rgb(51,51,51)\",\"ticks\":\"outside\",\"title\":{\"standoff\":15},\"zerolinecolor\":\"white\"}}},\"xaxis\":{\"anchor\":\"y\",\"domain\":[0.0,1.0]},\"yaxis\":{\"anchor\":\"x\",\"domain\":[0.0,1.0]},\"showlegend\":true,\"title\":{\"text\":\"Actual vs. Residuals\"}},                        {\"responsive\": true}                    )                };                            </script>        </div>\n",
       "</body>\n",
       "</html>"
      ]
     },
     "metadata": {},
     "output_type": "display_data"
    }
   ],
   "source": [
    "# residuals plot\n",
    "plot_model(best, plot = 'residuals')\n"
   ]
  },
  {
   "cell_type": "markdown",
   "metadata": {
    "application/vnd.databricks.v1+cell": {
     "cellMetadata": {
      "byteLimit": 2048000,
      "rowLimit": 10000
     },
     "inputWidgets": {},
     "nuid": "77d980c3-406e-4545-a713-401bbc1cbfdf",
     "showTitle": false,
     "title": ""
    }
   },
   "source": [
    "\n",
    "# Prediction"
   ]
  },
  {
   "cell_type": "code",
   "execution_count": 0,
   "metadata": {
    "application/vnd.databricks.v1+cell": {
     "cellMetadata": {
      "byteLimit": 2048000,
      "rowLimit": 10000
     },
     "inputWidgets": {},
     "nuid": "9a7dcaa4-8273-4032-b8cc-9d4be0cd79f1",
     "showTitle": false,
     "title": ""
    }
   },
   "outputs": [
    {
     "output_type": "display_data",
     "data": {
      "text/html": [
       "<div>\n",
       "<style scoped>\n",
       "    .dataframe tbody tr th:only-of-type {\n",
       "        vertical-align: middle;\n",
       "    }\n",
       "\n",
       "    .dataframe tbody tr th {\n",
       "        vertical-align: top;\n",
       "    }\n",
       "\n",
       "    .dataframe thead th {\n",
       "        text-align: right;\n",
       "    }\n",
       "</style>\n",
       "<table border=\"1\" class=\"dataframe\">\n",
       "  <thead>\n",
       "    <tr style=\"text-align: right;\">\n",
       "      <th></th>\n",
       "      <th>Model</th>\n",
       "      <th>MASE</th>\n",
       "      <th>RMSSE</th>\n",
       "      <th>MAE</th>\n",
       "      <th>RMSE</th>\n",
       "      <th>MAPE</th>\n",
       "      <th>SMAPE</th>\n",
       "      <th>R2</th>\n",
       "    </tr>\n",
       "  </thead>\n",
       "  <tbody>\n",
       "    <tr>\n",
       "      <th>0</th>\n",
       "      <td>Naive Forecaster</td>\n",
       "      <td>1.4498</td>\n",
       "      <td>0.8192</td>\n",
       "      <td>0.125</td>\n",
       "      <td>0.1614</td>\n",
       "      <td>0.1508</td>\n",
       "      <td>0.1717</td>\n",
       "      <td>-1.5</td>\n",
       "    </tr>\n",
       "  </tbody>\n",
       "</table>\n",
       "</div>"
      ],
      "text/plain": [
       "              Model    MASE   RMSSE    MAE    RMSE    MAPE   SMAPE   R2\n",
       "0  Naive Forecaster  1.4498  0.8192  0.125  0.1614  0.1508  0.1717 -1.5"
      ]
     },
     "metadata": {},
     "output_type": "display_data"
    }
   ],
   "source": [
    "holdout_pred = predict_model(best)\n"
   ]
  },
  {
   "cell_type": "code",
   "execution_count": 0,
   "metadata": {
    "application/vnd.databricks.v1+cell": {
     "cellMetadata": {
      "byteLimit": 2048000,
      "rowLimit": 10000
     },
     "inputWidgets": {},
     "nuid": "0dd8ca83-87e9-4ad9-88e0-b20bab6fca27",
     "showTitle": false,
     "title": ""
    }
   },
   "outputs": [
    {
     "output_type": "execute_result",
     "data": {
      "text/html": [
       "<div>\n",
       "<style scoped>\n",
       "    .dataframe tbody tr th:only-of-type {\n",
       "        vertical-align: middle;\n",
       "    }\n",
       "\n",
       "    .dataframe tbody tr th {\n",
       "        vertical-align: top;\n",
       "    }\n",
       "\n",
       "    .dataframe thead th {\n",
       "        text-align: right;\n",
       "    }\n",
       "</style>\n",
       "<table border=\"1\" class=\"dataframe\">\n",
       "  <thead>\n",
       "    <tr style=\"text-align: right;\">\n",
       "      <th></th>\n",
       "      <th>y_pred</th>\n",
       "    </tr>\n",
       "  </thead>\n",
       "  <tbody>\n",
       "    <tr>\n",
       "      <th>29</th>\n",
       "      <td>0.625</td>\n",
       "    </tr>\n",
       "    <tr>\n",
       "      <th>30</th>\n",
       "      <td>0.625</td>\n",
       "    </tr>\n",
       "    <tr>\n",
       "      <th>31</th>\n",
       "      <td>0.625</td>\n",
       "    </tr>\n",
       "  </tbody>\n",
       "</table>\n",
       "</div>"
      ],
      "text/plain": [
       "    y_pred\n",
       "29   0.625\n",
       "30   0.625\n",
       "31   0.625"
      ]
     },
     "execution_count": 10,
     "metadata": {},
     "output_type": "execute_result"
    }
   ],
   "source": [
    "holdout_pred.head()\n"
   ]
  },
  {
   "cell_type": "code",
   "execution_count": 0,
   "metadata": {
    "application/vnd.databricks.v1+cell": {
     "cellMetadata": {
      "byteLimit": 2048000,
      "rowLimit": 10000
     },
     "inputWidgets": {},
     "nuid": "8963e604-79b6-42ac-9683-e81b280c52c9",
     "showTitle": false,
     "title": ""
    }
   },
   "outputs": [
    {
     "output_type": "execute_result",
     "data": {
      "text/html": [
       "<div>\n",
       "<style scoped>\n",
       "    .dataframe tbody tr th:only-of-type {\n",
       "        vertical-align: middle;\n",
       "    }\n",
       "\n",
       "    .dataframe tbody tr th {\n",
       "        vertical-align: top;\n",
       "    }\n",
       "\n",
       "    .dataframe thead th {\n",
       "        text-align: right;\n",
       "    }\n",
       "</style>\n",
       "<table border=\"1\" class=\"dataframe\">\n",
       "  <thead>\n",
       "    <tr style=\"text-align: right;\">\n",
       "      <th></th>\n",
       "      <th>y_pred</th>\n",
       "    </tr>\n",
       "  </thead>\n",
       "  <tbody>\n",
       "    <tr>\n",
       "      <th>29</th>\n",
       "      <td>0.625</td>\n",
       "    </tr>\n",
       "    <tr>\n",
       "      <th>30</th>\n",
       "      <td>0.625</td>\n",
       "    </tr>\n",
       "    <tr>\n",
       "      <th>31</th>\n",
       "      <td>0.625</td>\n",
       "    </tr>\n",
       "    <tr>\n",
       "      <th>32</th>\n",
       "      <td>0.625</td>\n",
       "    </tr>\n",
       "    <tr>\n",
       "      <th>33</th>\n",
       "      <td>0.625</td>\n",
       "    </tr>\n",
       "  </tbody>\n",
       "</table>\n",
       "</div>"
      ],
      "text/plain": [
       "    y_pred\n",
       "29   0.625\n",
       "30   0.625\n",
       "31   0.625\n",
       "32   0.625\n",
       "33   0.625"
      ]
     },
     "execution_count": 11,
     "metadata": {},
     "output_type": "execute_result"
    }
   ],
   "source": [
    "predict_model(best, fh = 5)\n"
   ]
  },
  {
   "cell_type": "code",
   "execution_count": 0,
   "metadata": {
    "application/vnd.databricks.v1+cell": {
     "cellMetadata": {
      "byteLimit": 2048000,
      "rowLimit": 10000
     },
     "inputWidgets": {},
     "nuid": "b45433d9-6c2c-419c-a5eb-e722df568c2a",
     "showTitle": false,
     "title": ""
    }
   },
   "outputs": [],
   "source": []
  }
 ],
 "metadata": {
  "application/vnd.databricks.v1+notebook": {
   "dashboards": [],
   "language": "python",
   "notebookMetadata": {
    "mostRecentlyExecutedCommandWithImplicitDF": {
     "commandId": 2153297306321106,
     "dataframes": [
      "_sqldf"
     ]
    },
    "pythonIndentUnit": 4
   },
   "notebookName": "Forecast",
   "widgets": {}
  }
 },
 "nbformat": 4,
 "nbformat_minor": 0
}
